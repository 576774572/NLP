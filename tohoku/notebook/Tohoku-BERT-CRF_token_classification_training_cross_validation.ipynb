{
 "cells": [
  {
   "cell_type": "code",
   "execution_count": 1,
   "id": "4ce21e2a",
   "metadata": {
    "scrolled": true
   },
   "outputs": [
    {
     "name": "stdout",
     "output_type": "stream",
     "text": [
      "Looking in indexes: https://pypi.org/simple, https://pip.repos.neuron.amazonaws.com\n",
      "Collecting transformers==4.25.1\n",
      "  Downloading transformers-4.25.1-py3-none-any.whl (5.8 MB)\n",
      "\u001b[2K     \u001b[90m━━━━━━━━━━━━━━━━━━━━━━━━━━━━━━━━━━━━━━━━\u001b[0m \u001b[32m5.8/5.8 MB\u001b[0m \u001b[31m35.6 MB/s\u001b[0m eta \u001b[36m0:00:00\u001b[0m:00:01\u001b[0m00:01\u001b[0m\n",
      "\u001b[?25hCollecting TorchCRF==1.1.0\n",
      "  Downloading TorchCRF-1.1.0-py3-none-any.whl (5.2 kB)\n",
      "Collecting jaconv\n",
      "  Downloading jaconv-0.3.4.tar.gz (16 kB)\n",
      "  Preparing metadata (setup.py) ... \u001b[?25ldone\n",
      "\u001b[?25hRequirement already satisfied: packaging>=20.0 in /home/ec2-user/anaconda3/envs/pytorch_p39/lib/python3.9/site-packages (from transformers==4.25.1) (21.3)\n",
      "Requirement already satisfied: requests in /home/ec2-user/anaconda3/envs/pytorch_p39/lib/python3.9/site-packages (from transformers==4.25.1) (2.28.1)\n",
      "Requirement already satisfied: pyyaml>=5.1 in /home/ec2-user/anaconda3/envs/pytorch_p39/lib/python3.9/site-packages (from transformers==4.25.1) (5.4.1)\n",
      "Requirement already satisfied: numpy>=1.17 in /home/ec2-user/anaconda3/envs/pytorch_p39/lib/python3.9/site-packages (from transformers==4.25.1) (1.22.4)\n",
      "Collecting huggingface-hub<1.0,>=0.10.0\n",
      "  Downloading huggingface_hub-0.12.1-py3-none-any.whl (190 kB)\n",
      "\u001b[2K     \u001b[90m━━━━━━━━━━━━━━━━━━━━━━━━━━━━━━━━━━━━━━━\u001b[0m \u001b[32m190.3/190.3 kB\u001b[0m \u001b[31m2.3 MB/s\u001b[0m eta \u001b[36m0:00:00\u001b[0ma \u001b[36m0:00:01\u001b[0m\n",
      "\u001b[?25hCollecting tokenizers!=0.11.3,<0.14,>=0.11.1\n",
      "  Downloading tokenizers-0.13.2-cp39-cp39-manylinux_2_17_x86_64.manylinux2014_x86_64.whl (7.6 MB)\n",
      "\u001b[2K     \u001b[90m━━━━━━━━━━━━━━━━━━━━━━━━━━━━━━━━━━━━━━━━\u001b[0m \u001b[32m7.6/7.6 MB\u001b[0m \u001b[31m37.2 MB/s\u001b[0m eta \u001b[36m0:00:00\u001b[0m:00:01\u001b[0m\n",
      "\u001b[?25hRequirement already satisfied: regex!=2019.12.17 in /home/ec2-user/anaconda3/envs/pytorch_p39/lib/python3.9/site-packages (from transformers==4.25.1) (2022.9.13)\n",
      "Requirement already satisfied: filelock in /home/ec2-user/anaconda3/envs/pytorch_p39/lib/python3.9/site-packages (from transformers==4.25.1) (3.6.0)\n",
      "Requirement already satisfied: tqdm>=4.27 in /home/ec2-user/anaconda3/envs/pytorch_p39/lib/python3.9/site-packages (from transformers==4.25.1) (4.63.2)\n",
      "Requirement already satisfied: torch>=1.0.0 in /home/ec2-user/anaconda3/envs/pytorch_p39/lib/python3.9/site-packages (from TorchCRF==1.1.0) (1.12.1)\n",
      "Requirement already satisfied: typing-extensions>=3.7.4.3 in /home/ec2-user/anaconda3/envs/pytorch_p39/lib/python3.9/site-packages (from huggingface-hub<1.0,>=0.10.0->transformers==4.25.1) (4.4.0)\n",
      "Requirement already satisfied: pyparsing!=3.0.5,>=2.0.2 in /home/ec2-user/anaconda3/envs/pytorch_p39/lib/python3.9/site-packages (from packaging>=20.0->transformers==4.25.1) (3.0.9)\n",
      "Requirement already satisfied: idna<4,>=2.5 in /home/ec2-user/anaconda3/envs/pytorch_p39/lib/python3.9/site-packages (from requests->transformers==4.25.1) (3.4)\n",
      "Requirement already satisfied: charset-normalizer<3,>=2 in /home/ec2-user/anaconda3/envs/pytorch_p39/lib/python3.9/site-packages (from requests->transformers==4.25.1) (2.1.1)\n",
      "Requirement already satisfied: urllib3<1.27,>=1.21.1 in /home/ec2-user/anaconda3/envs/pytorch_p39/lib/python3.9/site-packages (from requests->transformers==4.25.1) (1.26.8)\n",
      "Requirement already satisfied: certifi>=2017.4.17 in /home/ec2-user/anaconda3/envs/pytorch_p39/lib/python3.9/site-packages (from requests->transformers==4.25.1) (2022.9.24)\n",
      "Building wheels for collected packages: jaconv\n",
      "  Building wheel for jaconv (setup.py) ... \u001b[?25ldone\n",
      "\u001b[?25h  Created wheel for jaconv: filename=jaconv-0.3.4-py3-none-any.whl size=16416 sha256=75a7ba07afa41ffac8f464c434e28fb56ddab7a4ffd240749c1ff0029589c4e2\n",
      "  Stored in directory: /home/ec2-user/.cache/pip/wheels/f5/03/b1/090bfac2a7f91870077434d8abf61a7af8a02d3bbbfe1ce08e\n",
      "Successfully built jaconv\n",
      "Installing collected packages: tokenizers, jaconv, TorchCRF, huggingface-hub, transformers\n",
      "Successfully installed TorchCRF-1.1.0 huggingface-hub-0.12.1 jaconv-0.3.4 tokenizers-0.13.2 transformers-4.25.1\n"
     ]
    }
   ],
   "source": [
    "! pip install transformers==4.25.1 TorchCRF==1.1.0 jaconv pretty-confusion-matrix"
   ]
  },
  {
   "cell_type": "code",
   "execution_count": null,
   "id": "328f5578",
   "metadata": {},
   "outputs": [],
   "source": [
    "! pip install transformers==4.25.1 fugashi ipadic mecab-python3 unidic-lite TorchCRF==1.1.0 pretty-confusion-matrix"
   ]
  },
  {
   "cell_type": "markdown",
   "id": "9eea7872",
   "metadata": {},
   "source": [
    "train   train   train   train   test1  ->   model1  ->   test1\n",
    "<br>\n",
    "train   train   train   test2   train  ->   model2  ->   test2 \n",
    "<br>\n",
    "train   train   test3   train   train  ->   model3  ->   test3 \n",
    "<br>\n",
    "train   test4   train   train   train  ->   model4  ->   test4 \n",
    "<br>\n",
    "test5   train   train   train   train  ->   model5  ->   test5 \n",
    "<br>\n",
    "<br>\n",
    "==> test1+2+3+4+5"
   ]
  },
  {
   "cell_type": "markdown",
   "id": "ca1755a1",
   "metadata": {},
   "source": [
    "# Lib"
   ]
  },
  {
   "cell_type": "code",
   "execution_count": 2,
   "id": "be0ca707",
   "metadata": {},
   "outputs": [],
   "source": [
    "import os\n",
    "import json\n",
    "import pickle\n",
    "import random\n",
    "import logging\n",
    "import datetime\n",
    "import argparse\n",
    "import numpy as np\n",
    "import pandas as pd\n",
    "from tqdm import tqdm\n",
    "\n",
    "import torch\n",
    "import torch.nn as nn\n",
    "from torch.utils.data import DataLoader\n",
    "from torch.nn.utils.rnn import pad_sequence\n",
    "from transformers import BertModel\n",
    "from transformers.optimization import get_cosine_schedule_with_warmup, AdamW\n",
    "from TorchCRF import CRF\n",
    "from sklearn.model_selection import KFold\n",
    "from sklearn.metrics import confusion_matrix, classification_report, precision_recall_fscore_support\n",
    "\n",
    "import warnings\n",
    "warnings.filterwarnings('ignore')"
   ]
  },
  {
   "cell_type": "code",
   "execution_count": 2,
   "id": "d2b83811",
   "metadata": {},
   "outputs": [],
   "source": [
    "#torch.cuda.device_count()"
   ]
  },
  {
   "cell_type": "markdown",
   "id": "9c298b19",
   "metadata": {},
   "source": [
    "# Config"
   ]
  },
  {
   "cell_type": "code",
   "execution_count": 3,
   "id": "47604f64",
   "metadata": {},
   "outputs": [],
   "source": [
    "def get_config(args=None):\n",
    "    parser = argparse.ArgumentParser(\n",
    "        description=\"Tohoku-BERT_CRF_Training\")\n",
    "    \n",
    "    parser.add_argument('--bert_model_path', type=str, default='cl-tohoku/bert-large-japanese')\n",
    "    parser.add_argument('--output_path', type=str, default=\"\")\n",
    "    parser.add_argument('--input_data_path', type=str, default=\"input_data\")    \n",
    "    parser.add_argument('--output_data_path', type=str, default=\"output_data\") \n",
    "    parser.add_argument('--input_data', type=str, default=\"df_row_token_classification_dataset_2.pkl\")\n",
    "    parser.add_argument('--device', default = \"cuda\" if torch.cuda.is_available() else \"cpu\", type=str)\n",
    "    \n",
    "    parser.add_argument('--label_num',default=3, type=int)        \n",
    "    parser.add_argument('--batch_size', default=64, type=int)    \n",
    "    parser.add_argument('--epoch_num', default=10, type=int)    \n",
    "    parser.add_argument('--learning_rate', default=3e-5, type=float)\n",
    "    parser.add_argument('--weight_decay', default=0.01, type=float)\n",
    "    parser.add_argument('--clip_grad', default=5, type=int)  \n",
    "    parser.add_argument('--last_hidden_state_dropout_prob', default=0.2, type=float)\n",
    "    parser.add_argument('--hidden_size', default=1024, type=int) \n",
    "    \n",
    "\n",
    "    config = parser.parse_args(args=[])\n",
    "\n",
    "    config.device = torch.device(config.device)\n",
    "    \n",
    "    return config"
   ]
  },
  {
   "cell_type": "markdown",
   "id": "43b0f7ac",
   "metadata": {},
   "source": [
    "# Dataset"
   ]
  },
  {
   "cell_type": "code",
   "execution_count": 4,
   "id": "e465d80e",
   "metadata": {},
   "outputs": [],
   "source": [
    "def get_encoding(df):\n",
    "    encoding={}\n",
    "    encoding['input_ids']=df['input_ids'].tolist()\n",
    "    #encoding['token_type_ids']=df['token_type_ids'].tolist()\n",
    "    encoding['attention_mask']=df['attention_mask'].tolist() \n",
    "    return encoding"
   ]
  },
  {
   "cell_type": "code",
   "execution_count": 5,
   "id": "d67bc042",
   "metadata": {},
   "outputs": [],
   "source": [
    "class Dataset(torch.utils.data.Dataset):\n",
    "    def __init__(self, encodings, labels, config):\n",
    "        self.encodings = encodings\n",
    "        self.labels = labels\n",
    "        self.config = config\n",
    "        \n",
    "    def __getitem__(self, idx):\n",
    "        item = {key: torch.tensor(val[idx]).to(self.config.device) for key, val in self.encodings.items()}\n",
    "        item['labels'] = torch.tensor(self.labels[idx]).to(self.config.device)\n",
    "        return item\n",
    "\n",
    "    def __len__(self):\n",
    "        return len(self.labels)"
   ]
  },
  {
   "cell_type": "code",
   "execution_count": 6,
   "id": "00c777f7",
   "metadata": {},
   "outputs": [],
   "source": [
    "def collate_func(batch):\n",
    "    input_ids, attention_mask,labels = [], [], []\n",
    "    \n",
    "    for mini_batch in batch:\n",
    "        input_ids.append(mini_batch['input_ids'])\n",
    "        attention_mask.append(mini_batch['attention_mask'])\n",
    "        labels.append(mini_batch['labels'])\n",
    "        \n",
    "    item={}\n",
    "    item['input_ids'] =pad_sequence(input_ids, batch_first=True, padding_value=0)\n",
    "    item['attention_mask'] = pad_sequence(attention_mask, batch_first=True, padding_value=0)\n",
    "    item['labels'] =pad_sequence(labels, batch_first=True, padding_value=-100)\n",
    "    \n",
    "    return item"
   ]
  },
  {
   "cell_type": "markdown",
   "id": "d8900702",
   "metadata": {},
   "source": [
    "# BERT_CRF model"
   ]
  },
  {
   "cell_type": "code",
   "execution_count": 7,
   "id": "0581c8ed",
   "metadata": {},
   "outputs": [],
   "source": [
    "class BERT_CRF_NER(torch.nn.Module):\n",
    "    \n",
    "    def __init__(self,config):#,config, bert_model\n",
    "        super(BERT_CRF_NER, self).__init__()\n",
    "        self.num_labels = config.label_num\n",
    "        #self.bert = bert_model\n",
    "        self.bert =BertModel.from_pretrained(config.bert_model_path, num_labels=config.label_num).to(config.device)\n",
    "        self.dropout = torch.nn.Dropout(config.last_hidden_state_dropout_prob)\n",
    "        self.classifier = torch.nn.Linear(config.hidden_size, config.label_num)\n",
    "        self.crf = CRF(self.num_labels)\n",
    "    \n",
    "    def forward(self,input_ids, attention_mask ,token_type_ids=None, label=None):\n",
    "        \n",
    "        # get output from bert and the output will be fed into crf layer as emission\n",
    "        outputs = self.bert(input_ids, attention_mask=attention_mask, token_type_ids=token_type_ids)\n",
    "        sequence_output = outputs[0]    #[batch_size, sequence_size, hidden_size]\n",
    "        sequence_output = self.dropout(sequence_output)\n",
    "        #sequence_output, _ = self.bilstm(sequence_output)\n",
    "        \n",
    "        logits = self.classifier(sequence_output) #(batch_size, sequence_size, num_labels)\n",
    "        outputs = (logits,)\n",
    "        \n",
    "        # crf layer\n",
    "        if label is not None:\n",
    "            # crf input label & label_mask [CLS],[SEP] [PAD]==>0 others==>1\n",
    "            zero = torch.zeros_like(label)\n",
    "            one=torch.ones_like(label)\n",
    "            label_ = torch.where(label ==-100, zero, label) # (batch_size. sequence_size)\n",
    "            mask_ = torch.where(label >=0, one, label)\n",
    "            mask_ = torch.where(label ==-100, zero, mask_).to(device=config.device, dtype=torch.uint8)# (batch_size. sequence_size)\n",
    "            \n",
    "            # get crf loss\n",
    "            loss=self.crf.forward(logits[:,1:,:], label_[:,1:], mask_[:,1:]).sum(dim=0)* (-1)\n",
    "            #loss=crf.forward(logits, label_, mask_).sum(dim=0)* (-1)\n",
    "            loss/=logits.size()[0]\n",
    "            outputs = (loss,) + outputs\n",
    "        \n",
    "        return outputs # contain: (loss), scores"
   ]
  },
  {
   "cell_type": "markdown",
   "id": "fc1c9b0d",
   "metadata": {},
   "source": [
    "# Train"
   ]
  },
  {
   "cell_type": "code",
   "execution_count": 8,
   "id": "8d16f77b",
   "metadata": {},
   "outputs": [],
   "source": [
    "def train_epoch(model, config, epoch_idx, training_dataloader, optimizer,scheduler):\n",
    "    \n",
    "    # model ==> train mode\n",
    "    model.train()\n",
    "    train_losses = 0\n",
    "    for batch_id, batch in enumerate(tqdm(training_dataloader)):    \n",
    "\n",
    "        input_ids, attention_mask, label=batch['input_ids'], batch['attention_mask'], batch['labels']\n",
    "              \n",
    "        # forward pass\n",
    "        loss=model(input_ids,attention_mask,label=label)[0]\n",
    "        loss=loss.mean()\n",
    "        train_losses += loss.item()      \n",
    "        \n",
    "        # grad update      \n",
    "        model.zero_grad()\n",
    "        loss.backward()\n",
    "        \n",
    "        # clip_grad\n",
    "        torch.nn.utils.clip_grad_norm_(parameters=model.parameters(), max_norm=config.clip_grad)\n",
    "        \n",
    "        # grad calculate\n",
    "        optimizer.step()\n",
    "        scheduler.step()\n",
    "        \n",
    "    train_loss = float(train_losses) / len(training_dataloader)\n",
    "    logging.info(f\"Epoch: {epoch_idx}, train loss: {train_loss}\")\n",
    "    print(f\"Epoch: {epoch_idx}, train loss: {train_loss}\")"
   ]
  },
  {
   "cell_type": "code",
   "execution_count": 9,
   "id": "7571d0b1",
   "metadata": {},
   "outputs": [],
   "source": [
    "def train(model,training_dataloader,validation_dataloader,optimizer,scheduler,config,cross_id):\n",
    "    \n",
    "    best_val_f1 = 0.0\n",
    "    \n",
    "    true_labels=[]\n",
    "    pred_labels=[]\n",
    "    \n",
    "    for epoch_idx in range(1, config.epoch_num + 1):    \n",
    "        print(\"epoch {}/{}\".format(epoch_idx, config.epoch_num))\n",
    "        \n",
    "        # Train\n",
    "        train_epoch(model, config, epoch_idx, training_dataloader, optimizer,scheduler)\n",
    "\n",
    "        # Validate\n",
    "        print('Validate')\n",
    "        logging.info(\"Start validation\")\n",
    "        val_metrics,true_labels_,pred_labels_,true_labels_flatten,pred_labels_flatten=validate(model,validation_dataloader)\n",
    "        val_f1 = val_metrics['F1_B']+val_metrics['F1_I']+val_metrics['F1_B+I']\n",
    "        \n",
    "        # save model with highest F1 score\n",
    "        if val_f1>best_val_f1:\n",
    "            \n",
    "            true_labels=true_labels_\n",
    "            pred_labels=pred_labels_\n",
    "            \n",
    "            best_val_f1=val_f1\n",
    "            \n",
    "            # print best  classification_report\n",
    "            print(classification_report(true_labels_flatten, pred_labels_flatten, target_names=['O', 'B', 'I']))\n",
    "            true_labels_flatten_=[1 if true_labels_flatten[i]==2 else true_labels_flatten[i] for i in range(len(true_labels_flatten))]\n",
    "            pred_labels_flatten_=[1 if pred_labels_flatten[i]==2 else pred_labels_flatten[i] for i in range(len(pred_labels_flatten))]            \n",
    "            print(classification_report(true_labels_flatten_, pred_labels_flatten_, target_names=['O', 'B+I']))\n",
    "            \n",
    "            # save model\n",
    "            torch.save(model.module, os.path.join(config.output_model_path,\"model_{}_{}_{}.pt\".format(run_id,cross_id,epoch_idx))) \n",
    "            logging.info(\"--------Save best model--------\")            \n",
    "            \n",
    "    logging.info(\"Training Finished\")    \n",
    "    print(\"Training Finished\")\n",
    "    return true_labels,pred_labels"
   ]
  },
  {
   "cell_type": "code",
   "execution_count": 10,
   "id": "a99a6690",
   "metadata": {},
   "outputs": [],
   "source": [
    "def validate(model,validation_dataloader):\n",
    "    \n",
    "    # model ==> eval mode\n",
    "    model.eval()\n",
    "    val_losses = 0\n",
    "    \n",
    "    true_labels=[]\n",
    "    pred_labels=[]\n",
    "    \n",
    "    for batch_id, batch in enumerate(tqdm(validation_dataloader)):    \n",
    "        \n",
    "        input_ids, attention_mask, label=batch['input_ids'], batch['attention_mask'], batch['labels']\n",
    "        \n",
    "        with torch.no_grad():\n",
    "            loss=model(input_ids,attention_mask,label=label)[0]\n",
    "            loss=loss.mean()\n",
    "            val_losses += loss.item()\n",
    "            # output emission matrix \n",
    "            batch_output = model(input_ids,attention_mask)[0]\n",
    "            #print(batch_output.size())\n",
    "            # label_mask for crf ,[CLS],[SEP] [PAD]==>0 others==>1\n",
    "            zero = torch.zeros_like(label)\n",
    "            one=torch.ones_like(label)\n",
    "            mask_ = torch.where(label >=0, one, label)\n",
    "            mask_ = torch.where(label ==-100, zero, mask_).to(device=config.device, dtype=torch.uint8)\n",
    "            \n",
    "            # output predict-label sequence\n",
    "            pred_label=model.module.crf.viterbi_decode(batch_output[:,1:,:], mask=mask_[:,1:])\n",
    "            \n",
    "            # remove ground_ture label's[CLS][SEP][PAD]=-100 ==>get label's length that is as same as predict-label's length\n",
    "            true_label=[]\n",
    "            label=label.cpu().numpy()\n",
    "            for i in range(len(label)):\n",
    "                #true_label.append(label[i][~np.isin(label[i], -100)].to('cpu').numpy().tolist())\n",
    "                true_label.append(label[i][~np.isin(label[i], -100)].tolist())\n",
    "                \n",
    "            true_labels.extend(true_label)\n",
    "            pred_labels.extend(pred_label)         \n",
    "            \n",
    "    assert len(pred_labels) == len(true_labels)        \n",
    "    \n",
    "    flatten = lambda x: [y for l in x for y in flatten(l)] if type(x) is list else [x]\n",
    "    true_labels_flatten=flatten(true_labels)\n",
    "    pred_labels_flatten=flatten(pred_labels)\n",
    "    #print(\"true_label\",true_labels_)\n",
    "    #print(\"pred_label\",pred_labels_)\n",
    "    metrics={}\n",
    "    f1_B,f1_I,f1_B_I = compute_metrics(true_labels_flatten,pred_labels_flatten)\n",
    "    metrics['F1_B'],metrics['F1_I'],metrics['F1_B+I']=f1_B,f1_I,f1_B_I\n",
    "    metrics['loss']=float(val_losses) / len(validation_dataloader)\n",
    "    \n",
    "    return metrics,true_labels,pred_labels,true_labels_flatten,pred_labels_flatten"
   ]
  },
  {
   "cell_type": "code",
   "execution_count": 11,
   "id": "642ee211",
   "metadata": {},
   "outputs": [],
   "source": [
    "def compute_metrics(true_labels_flatten,pred_labels_flatten):\n",
    "    \n",
    "    #print(classification_report(true_labels_flatten, pred_labels_flatten, target_names=['O', 'B', 'I']))\n",
    "    logging.info(classification_report(true_labels_flatten, pred_labels_flatten, target_names=['O', 'B', 'I']))\n",
    "    \n",
    "    #plot confusion matrix\n",
    "    #c=confusion_matrix(true_labels_flatten,pred_labels_flatten)\n",
    "    #df_c=pd.DataFrame(c,index=[i for i in ['O','B','I']],columns=[i for i in ['O','B','I']])\n",
    "    #pp_matrix(df_c,figsize=(4,4),cmap='PuRd')\n",
    "    #f1\n",
    "    f1_B=precision_recall_fscore_support(true_labels_flatten, pred_labels_flatten)[2][1]\n",
    "    f1_I=precision_recall_fscore_support(true_labels_flatten, pred_labels_flatten)[2][2]\n",
    "    \n",
    "    # If B and I are considered the same\n",
    "    true_labels_flatten_=[1 if true_labels_flatten[i]==2 else true_labels_flatten[i] for i in range(len(true_labels_flatten))]\n",
    "    pred_labels_flatten_=[1 if pred_labels_flatten[i]==2 else pred_labels_flatten[i] for i in range(len(pred_labels_flatten))]\n",
    "    \n",
    "    #print(classification_report(true_labels_flatten_, pred_labels_flatten_, target_names=['O', 'B+I']))\n",
    "    logging.info(classification_report(true_labels_flatten_, pred_labels_flatten_, target_names=['O', 'B+I']))\n",
    "    \n",
    "    #plot confusion matrix\n",
    "    #c_=confusion_matrix(true_labels_flatten_,pred_labels_flatten_)\n",
    "    #df_c_=pd.DataFrame(c_,index=[i for i in ['O','B+I']],columns=[i for i in ['O','B+I']])\n",
    "    #pp_matrix(df_c_,figsize=(4,4),cmap='PuRd')#    \n",
    "    #f1\n",
    "    f1_B_I=precision_recall_fscore_support(true_labels_flatten_, pred_labels_flatten_)[2][1]\n",
    "    \n",
    "    return f1_B,f1_I,f1_B_I"
   ]
  },
  {
   "cell_type": "markdown",
   "id": "2c2516ae",
   "metadata": {},
   "source": [
    "# Split Data"
   ]
  },
  {
   "cell_type": "code",
   "execution_count": 12,
   "id": "9e5ebdcf",
   "metadata": {},
   "outputs": [],
   "source": [
    "def split_data(config):\n",
    "    with open(os.path.join(config.input_data_path, config.input_data), 'rb') as file:\n",
    "            df=pickle.load(file)\n",
    "    df=df.drop(columns=['level_0']).reset_index()    \n",
    "    \n",
    "    kf = KFold(n_splits = 5, shuffle = True, random_state = 1)\n",
    "    id=1\n",
    "    print(\"-----------split data--------------\")\n",
    "    for train, test in kf.split(df):\n",
    "        print(\"traindata:\",len(train),\"testdata:\",len(test))\n",
    "        df_train=df.loc[train,:]\n",
    "        df_test=df.loc[test,:]\n",
    "        with open(os.path.join(config.input_data_path,\"train_split{}.pkl\".format(id)), 'wb') as file:\n",
    "                pickle.dump(df_train, file)    \n",
    "        with open(os.path.join(config.input_data_path,\"test_split{}.pkl\".format(id)), 'wb') as file:\n",
    "                pickle.dump(df_test, file)                \n",
    "        id+=1    "
   ]
  },
  {
   "cell_type": "markdown",
   "id": "4cc6d2b9",
   "metadata": {},
   "source": [
    "# Main"
   ]
  },
  {
   "cell_type": "code",
   "execution_count": 13,
   "id": "e8a0bc83",
   "metadata": {
    "scrolled": true
   },
   "outputs": [
    {
     "name": "stdout",
     "output_type": "stream",
     "text": [
      "-----------split data--------------\n",
      "traindata: 5912 testdata: 1479\n",
      "traindata: 5913 testdata: 1478\n",
      "traindata: 5913 testdata: 1478\n",
      "traindata: 5913 testdata: 1478\n",
      "traindata: 5913 testdata: 1478\n",
      "cross : 1\n"
     ]
    },
    {
     "name": "stderr",
     "output_type": "stream",
     "text": [
      "Some weights of the model checkpoint at cl-tohoku/bert-large-japanese were not used when initializing BertModel: ['cls.predictions.decoder.weight', 'cls.predictions.transform.dense.weight', 'cls.seq_relationship.weight', 'cls.predictions.bias', 'cls.seq_relationship.bias', 'cls.predictions.transform.LayerNorm.bias', 'cls.predictions.transform.dense.bias', 'cls.predictions.transform.LayerNorm.weight', 'cls.predictions.decoder.bias']\n",
      "- This IS expected if you are initializing BertModel from the checkpoint of a model trained on another task or with another architecture (e.g. initializing a BertForSequenceClassification model from a BertForPreTraining model).\n",
      "- This IS NOT expected if you are initializing BertModel from the checkpoint of a model that you expect to be exactly identical (initializing a BertForSequenceClassification model from a BertForSequenceClassification model).\n"
     ]
    },
    {
     "name": "stdout",
     "output_type": "stream",
     "text": [
      "traindata: 5912 testdata: 1479\n",
      "epoch 1/10\n"
     ]
    },
    {
     "name": "stderr",
     "output_type": "stream",
     "text": [
      "100%|██████████| 93/93 [02:58<00:00,  1.92s/it]\n"
     ]
    },
    {
     "name": "stdout",
     "output_type": "stream",
     "text": [
      "Epoch: 1, train loss: 7.079764650714013\n",
      "Validate\n"
     ]
    },
    {
     "name": "stderr",
     "output_type": "stream",
     "text": [
      "100%|██████████| 24/24 [00:47<00:00,  1.97s/it]\n"
     ]
    },
    {
     "name": "stdout",
     "output_type": "stream",
     "text": [
      "              precision    recall  f1-score   support\n",
      "\n",
      "           O       0.81      1.00      0.89     31278\n",
      "           B       0.91      0.19      0.31      2495\n",
      "           I       0.98      0.03      0.05      5705\n",
      "\n",
      "    accuracy                           0.81     39478\n",
      "   macro avg       0.90      0.41      0.42     39478\n",
      "weighted avg       0.84      0.81      0.73     39478\n",
      "\n",
      "              precision    recall  f1-score   support\n",
      "\n",
      "           O       0.81      1.00      0.89     31278\n",
      "         B+I       0.98      0.08      0.15      8200\n",
      "\n",
      "    accuracy                           0.81     39478\n",
      "   macro avg       0.89      0.54      0.52     39478\n",
      "weighted avg       0.84      0.81      0.74     39478\n",
      "\n",
      "epoch 2/10\n"
     ]
    },
    {
     "name": "stderr",
     "output_type": "stream",
     "text": [
      "100%|██████████| 93/93 [02:53<00:00,  1.87s/it]\n"
     ]
    },
    {
     "name": "stdout",
     "output_type": "stream",
     "text": [
      "Epoch: 2, train loss: 3.7654327192614154\n",
      "Validate\n"
     ]
    },
    {
     "name": "stderr",
     "output_type": "stream",
     "text": [
      "100%|██████████| 24/24 [00:47<00:00,  1.97s/it]\n"
     ]
    },
    {
     "name": "stdout",
     "output_type": "stream",
     "text": [
      "              precision    recall  f1-score   support\n",
      "\n",
      "           O       0.94      0.99      0.97     31278\n",
      "           B       0.86      0.76      0.81      2495\n",
      "           I       0.97      0.71      0.82      5705\n",
      "\n",
      "    accuracy                           0.94     39478\n",
      "   macro avg       0.92      0.82      0.87     39478\n",
      "weighted avg       0.94      0.94      0.93     39478\n",
      "\n",
      "              precision    recall  f1-score   support\n",
      "\n",
      "           O       0.94      0.99      0.97     31278\n",
      "         B+I       0.97      0.75      0.85      8200\n",
      "\n",
      "    accuracy                           0.94     39478\n",
      "   macro avg       0.96      0.87      0.91     39478\n",
      "weighted avg       0.95      0.94      0.94     39478\n",
      "\n",
      "epoch 3/10\n"
     ]
    },
    {
     "name": "stderr",
     "output_type": "stream",
     "text": [
      "100%|██████████| 93/93 [02:53<00:00,  1.87s/it]\n"
     ]
    },
    {
     "name": "stdout",
     "output_type": "stream",
     "text": [
      "Epoch: 3, train loss: 2.1722289650670943\n",
      "Validate\n"
     ]
    },
    {
     "name": "stderr",
     "output_type": "stream",
     "text": [
      "100%|██████████| 24/24 [00:47<00:00,  1.97s/it]\n"
     ]
    },
    {
     "name": "stdout",
     "output_type": "stream",
     "text": [
      "              precision    recall  f1-score   support\n",
      "\n",
      "           O       0.96      0.99      0.98     31278\n",
      "           B       0.90      0.84      0.87      2495\n",
      "           I       0.95      0.84      0.89      5705\n",
      "\n",
      "    accuracy                           0.96     39478\n",
      "   macro avg       0.94      0.89      0.91     39478\n",
      "weighted avg       0.96      0.96      0.96     39478\n",
      "\n",
      "              precision    recall  f1-score   support\n",
      "\n",
      "           O       0.96      0.99      0.98     31278\n",
      "         B+I       0.95      0.85      0.90      8200\n",
      "\n",
      "    accuracy                           0.96     39478\n",
      "   macro avg       0.96      0.92      0.94     39478\n",
      "weighted avg       0.96      0.96      0.96     39478\n",
      "\n",
      "epoch 4/10\n"
     ]
    },
    {
     "name": "stderr",
     "output_type": "stream",
     "text": [
      "100%|██████████| 93/93 [02:53<00:00,  1.87s/it]\n"
     ]
    },
    {
     "name": "stdout",
     "output_type": "stream",
     "text": [
      "Epoch: 4, train loss: 1.45166166911843\n",
      "Validate\n"
     ]
    },
    {
     "name": "stderr",
     "output_type": "stream",
     "text": [
      "100%|██████████| 24/24 [00:47<00:00,  1.97s/it]\n"
     ]
    },
    {
     "name": "stdout",
     "output_type": "stream",
     "text": [
      "              precision    recall  f1-score   support\n",
      "\n",
      "           O       0.97      0.98      0.98     31278\n",
      "           B       0.90      0.85      0.87      2495\n",
      "           I       0.93      0.89      0.91      5705\n",
      "\n",
      "    accuracy                           0.96     39478\n",
      "   macro avg       0.93      0.91      0.92     39478\n",
      "weighted avg       0.96      0.96      0.96     39478\n",
      "\n",
      "              precision    recall  f1-score   support\n",
      "\n",
      "           O       0.97      0.98      0.98     31278\n",
      "         B+I       0.94      0.89      0.92      8200\n",
      "\n",
      "    accuracy                           0.97     39478\n",
      "   macro avg       0.96      0.94      0.95     39478\n",
      "weighted avg       0.97      0.97      0.97     39478\n",
      "\n",
      "epoch 5/10\n"
     ]
    },
    {
     "name": "stderr",
     "output_type": "stream",
     "text": [
      "100%|██████████| 93/93 [02:53<00:00,  1.87s/it]\n"
     ]
    },
    {
     "name": "stdout",
     "output_type": "stream",
     "text": [
      "Epoch: 5, train loss: 0.9563120459356615\n",
      "Validate\n"
     ]
    },
    {
     "name": "stderr",
     "output_type": "stream",
     "text": [
      "100%|██████████| 24/24 [00:47<00:00,  1.97s/it]\n"
     ]
    },
    {
     "name": "stdout",
     "output_type": "stream",
     "text": [
      "              precision    recall  f1-score   support\n",
      "\n",
      "           O       0.97      0.99      0.98     31278\n",
      "           B       0.88      0.86      0.87      2495\n",
      "           I       0.94      0.88      0.91      5705\n",
      "\n",
      "    accuracy                           0.96     39478\n",
      "   macro avg       0.93      0.91      0.92     39478\n",
      "weighted avg       0.96      0.96      0.96     39478\n",
      "\n",
      "              precision    recall  f1-score   support\n",
      "\n",
      "           O       0.97      0.99      0.98     31278\n",
      "         B+I       0.94      0.89      0.92      8200\n",
      "\n",
      "    accuracy                           0.97     39478\n",
      "   macro avg       0.96      0.94      0.95     39478\n",
      "weighted avg       0.97      0.97      0.97     39478\n",
      "\n",
      "epoch 6/10\n"
     ]
    },
    {
     "name": "stderr",
     "output_type": "stream",
     "text": [
      "100%|██████████| 93/93 [02:53<00:00,  1.87s/it]\n"
     ]
    },
    {
     "name": "stdout",
     "output_type": "stream",
     "text": [
      "Epoch: 6, train loss: 0.6676928583652743\n",
      "Validate\n"
     ]
    },
    {
     "name": "stderr",
     "output_type": "stream",
     "text": [
      "100%|██████████| 24/24 [00:47<00:00,  1.97s/it]\n"
     ]
    },
    {
     "name": "stdout",
     "output_type": "stream",
     "text": [
      "              precision    recall  f1-score   support\n",
      "\n",
      "           O       0.98      0.98      0.98     31278\n",
      "           B       0.88      0.89      0.88      2495\n",
      "           I       0.91      0.91      0.91      5705\n",
      "\n",
      "    accuracy                           0.96     39478\n",
      "   macro avg       0.92      0.92      0.92     39478\n",
      "weighted avg       0.96      0.96      0.96     39478\n",
      "\n",
      "              precision    recall  f1-score   support\n",
      "\n",
      "           O       0.98      0.98      0.98     31278\n",
      "         B+I       0.92      0.92      0.92      8200\n",
      "\n",
      "    accuracy                           0.97     39478\n",
      "   macro avg       0.95      0.95      0.95     39478\n",
      "weighted avg       0.97      0.97      0.97     39478\n",
      "\n",
      "epoch 7/10\n"
     ]
    },
    {
     "name": "stderr",
     "output_type": "stream",
     "text": [
      "100%|██████████| 93/93 [02:54<00:00,  1.88s/it]\n"
     ]
    },
    {
     "name": "stdout",
     "output_type": "stream",
     "text": [
      "Epoch: 7, train loss: 0.40262266544885533\n",
      "Validate\n"
     ]
    },
    {
     "name": "stderr",
     "output_type": "stream",
     "text": [
      "100%|██████████| 24/24 [00:47<00:00,  1.97s/it]\n"
     ]
    },
    {
     "name": "stdout",
     "output_type": "stream",
     "text": [
      "              precision    recall  f1-score   support\n",
      "\n",
      "           O       0.98      0.98      0.98     31278\n",
      "           B       0.89      0.89      0.89      2495\n",
      "           I       0.92      0.90      0.91      5705\n",
      "\n",
      "    accuracy                           0.96     39478\n",
      "   macro avg       0.93      0.92      0.93     39478\n",
      "weighted avg       0.96      0.96      0.96     39478\n",
      "\n",
      "              precision    recall  f1-score   support\n",
      "\n",
      "           O       0.98      0.98      0.98     31278\n",
      "         B+I       0.93      0.92      0.92      8200\n",
      "\n",
      "    accuracy                           0.97     39478\n",
      "   macro avg       0.95      0.95      0.95     39478\n",
      "weighted avg       0.97      0.97      0.97     39478\n",
      "\n",
      "epoch 8/10\n"
     ]
    },
    {
     "name": "stderr",
     "output_type": "stream",
     "text": [
      "100%|██████████| 93/93 [02:54<00:00,  1.88s/it]\n"
     ]
    },
    {
     "name": "stdout",
     "output_type": "stream",
     "text": [
      "Epoch: 8, train loss: 0.2034725788780438\n",
      "Validate\n"
     ]
    },
    {
     "name": "stderr",
     "output_type": "stream",
     "text": [
      "100%|██████████| 24/24 [00:47<00:00,  1.97s/it]\n"
     ]
    },
    {
     "name": "stdout",
     "output_type": "stream",
     "text": [
      "              precision    recall  f1-score   support\n",
      "\n",
      "           O       0.98      0.98      0.98     31278\n",
      "           B       0.89      0.89      0.89      2495\n",
      "           I       0.93      0.90      0.91      5705\n",
      "\n",
      "    accuracy                           0.97     39478\n",
      "   macro avg       0.93      0.92      0.93     39478\n",
      "weighted avg       0.96      0.97      0.96     39478\n",
      "\n",
      "              precision    recall  f1-score   support\n",
      "\n",
      "           O       0.98      0.98      0.98     31278\n",
      "         B+I       0.93      0.91      0.92      8200\n",
      "\n",
      "    accuracy                           0.97     39478\n",
      "   macro avg       0.96      0.95      0.95     39478\n",
      "weighted avg       0.97      0.97      0.97     39478\n",
      "\n",
      "epoch 9/10\n"
     ]
    },
    {
     "name": "stderr",
     "output_type": "stream",
     "text": [
      "100%|██████████| 93/93 [02:54<00:00,  1.88s/it]\n"
     ]
    },
    {
     "name": "stdout",
     "output_type": "stream",
     "text": [
      "Epoch: 9, train loss: 0.15829108671475484\n",
      "Validate\n"
     ]
    },
    {
     "name": "stderr",
     "output_type": "stream",
     "text": [
      "100%|██████████| 24/24 [00:47<00:00,  1.97s/it]\n"
     ]
    },
    {
     "name": "stdout",
     "output_type": "stream",
     "text": [
      "              precision    recall  f1-score   support\n",
      "\n",
      "           O       0.98      0.98      0.98     31278\n",
      "           B       0.89      0.89      0.89      2495\n",
      "           I       0.93      0.90      0.91      5705\n",
      "\n",
      "    accuracy                           0.97     39478\n",
      "   macro avg       0.93      0.93      0.93     39478\n",
      "weighted avg       0.96      0.97      0.97     39478\n",
      "\n",
      "              precision    recall  f1-score   support\n",
      "\n",
      "           O       0.98      0.98      0.98     31278\n",
      "         B+I       0.93      0.92      0.92      8200\n",
      "\n",
      "    accuracy                           0.97     39478\n",
      "   macro avg       0.96      0.95      0.95     39478\n",
      "weighted avg       0.97      0.97      0.97     39478\n",
      "\n",
      "epoch 10/10\n"
     ]
    },
    {
     "name": "stderr",
     "output_type": "stream",
     "text": [
      "100%|██████████| 93/93 [02:54<00:00,  1.88s/it]\n"
     ]
    },
    {
     "name": "stdout",
     "output_type": "stream",
     "text": [
      "Epoch: 10, train loss: 0.14252987359800645\n",
      "Validate\n"
     ]
    },
    {
     "name": "stderr",
     "output_type": "stream",
     "text": [
      "100%|██████████| 24/24 [00:47<00:00,  1.97s/it]\n"
     ]
    },
    {
     "name": "stdout",
     "output_type": "stream",
     "text": [
      "Training Finished\n",
      "cross : 2\n"
     ]
    },
    {
     "name": "stderr",
     "output_type": "stream",
     "text": [
      "Some weights of the model checkpoint at cl-tohoku/bert-large-japanese were not used when initializing BertModel: ['cls.predictions.decoder.weight', 'cls.predictions.transform.dense.weight', 'cls.seq_relationship.weight', 'cls.predictions.bias', 'cls.seq_relationship.bias', 'cls.predictions.transform.LayerNorm.bias', 'cls.predictions.transform.dense.bias', 'cls.predictions.transform.LayerNorm.weight', 'cls.predictions.decoder.bias']\n",
      "- This IS expected if you are initializing BertModel from the checkpoint of a model trained on another task or with another architecture (e.g. initializing a BertForSequenceClassification model from a BertForPreTraining model).\n",
      "- This IS NOT expected if you are initializing BertModel from the checkpoint of a model that you expect to be exactly identical (initializing a BertForSequenceClassification model from a BertForSequenceClassification model).\n"
     ]
    },
    {
     "name": "stdout",
     "output_type": "stream",
     "text": [
      "traindata: 5913 testdata: 1478\n",
      "epoch 1/10\n"
     ]
    },
    {
     "name": "stderr",
     "output_type": "stream",
     "text": [
      "100%|██████████| 93/93 [02:55<00:00,  1.88s/it]\n"
     ]
    },
    {
     "name": "stdout",
     "output_type": "stream",
     "text": [
      "Epoch: 1, train loss: 7.429956550239234\n",
      "Validate\n"
     ]
    },
    {
     "name": "stderr",
     "output_type": "stream",
     "text": [
      "100%|██████████| 24/24 [00:46<00:00,  1.93s/it]\n"
     ]
    },
    {
     "name": "stdout",
     "output_type": "stream",
     "text": [
      "              precision    recall  f1-score   support\n",
      "\n",
      "           O       0.82      1.00      0.90     31797\n",
      "           B       0.93      0.17      0.29      2455\n",
      "           I       0.96      0.10      0.19      5621\n",
      "\n",
      "    accuracy                           0.82     39873\n",
      "   macro avg       0.90      0.43      0.46     39873\n",
      "weighted avg       0.85      0.82      0.76     39873\n",
      "\n",
      "              precision    recall  f1-score   support\n",
      "\n",
      "           O       0.82      1.00      0.90     31797\n",
      "         B+I       0.98      0.13      0.23      8076\n",
      "\n",
      "    accuracy                           0.82     39873\n",
      "   macro avg       0.90      0.56      0.56     39873\n",
      "weighted avg       0.85      0.82      0.76     39873\n",
      "\n",
      "epoch 2/10\n"
     ]
    },
    {
     "name": "stderr",
     "output_type": "stream",
     "text": [
      "100%|██████████| 93/93 [02:55<00:00,  1.88s/it]\n"
     ]
    },
    {
     "name": "stdout",
     "output_type": "stream",
     "text": [
      "Epoch: 2, train loss: 4.099921501451923\n",
      "Validate\n"
     ]
    },
    {
     "name": "stderr",
     "output_type": "stream",
     "text": [
      "100%|██████████| 24/24 [00:46<00:00,  1.94s/it]\n"
     ]
    },
    {
     "name": "stdout",
     "output_type": "stream",
     "text": [
      "              precision    recall  f1-score   support\n",
      "\n",
      "           O       0.96      0.99      0.97     31797\n",
      "           B       0.87      0.83      0.85      2455\n",
      "           I       0.94      0.81      0.87      5621\n",
      "\n",
      "    accuracy                           0.95     39873\n",
      "   macro avg       0.92      0.88      0.90     39873\n",
      "weighted avg       0.95      0.95      0.95     39873\n",
      "\n",
      "              precision    recall  f1-score   support\n",
      "\n",
      "           O       0.96      0.99      0.97     31797\n",
      "         B+I       0.94      0.84      0.89      8076\n",
      "\n",
      "    accuracy                           0.96     39873\n",
      "   macro avg       0.95      0.91      0.93     39873\n",
      "weighted avg       0.96      0.96      0.96     39873\n",
      "\n",
      "epoch 3/10\n"
     ]
    },
    {
     "name": "stderr",
     "output_type": "stream",
     "text": [
      "100%|██████████| 93/93 [02:54<00:00,  1.88s/it]\n"
     ]
    },
    {
     "name": "stdout",
     "output_type": "stream",
     "text": [
      "Epoch: 3, train loss: 2.313361254110131\n",
      "Validate\n"
     ]
    },
    {
     "name": "stderr",
     "output_type": "stream",
     "text": [
      "100%|██████████| 24/24 [00:46<00:00,  1.94s/it]\n"
     ]
    },
    {
     "name": "stdout",
     "output_type": "stream",
     "text": [
      "epoch 4/10\n"
     ]
    },
    {
     "name": "stderr",
     "output_type": "stream",
     "text": [
      "100%|██████████| 93/93 [02:54<00:00,  1.88s/it]\n"
     ]
    },
    {
     "name": "stdout",
     "output_type": "stream",
     "text": [
      "Epoch: 4, train loss: 1.8638253101418096\n",
      "Validate\n"
     ]
    },
    {
     "name": "stderr",
     "output_type": "stream",
     "text": [
      "100%|██████████| 24/24 [00:46<00:00,  1.93s/it]\n"
     ]
    },
    {
     "name": "stdout",
     "output_type": "stream",
     "text": [
      "              precision    recall  f1-score   support\n",
      "\n",
      "           O       0.98      0.98      0.98     31797\n",
      "           B       0.89      0.88      0.88      2455\n",
      "           I       0.92      0.88      0.90      5621\n",
      "\n",
      "    accuracy                           0.96     39873\n",
      "   macro avg       0.93      0.92      0.92     39873\n",
      "weighted avg       0.96      0.96      0.96     39873\n",
      "\n",
      "              precision    recall  f1-score   support\n",
      "\n",
      "           O       0.98      0.98      0.98     31797\n",
      "         B+I       0.93      0.90      0.91      8076\n",
      "\n",
      "    accuracy                           0.97     39873\n",
      "   macro avg       0.95      0.94      0.95     39873\n",
      "weighted avg       0.97      0.97      0.97     39873\n",
      "\n",
      "epoch 5/10\n"
     ]
    },
    {
     "name": "stderr",
     "output_type": "stream",
     "text": [
      "100%|██████████| 93/93 [02:55<00:00,  1.88s/it]\n"
     ]
    },
    {
     "name": "stdout",
     "output_type": "stream",
     "text": [
      "Epoch: 5, train loss: 1.0061249007140436\n",
      "Validate\n"
     ]
    },
    {
     "name": "stderr",
     "output_type": "stream",
     "text": [
      "100%|██████████| 24/24 [00:46<00:00,  1.94s/it]\n"
     ]
    },
    {
     "name": "stdout",
     "output_type": "stream",
     "text": [
      "epoch 6/10\n"
     ]
    },
    {
     "name": "stderr",
     "output_type": "stream",
     "text": [
      "100%|██████████| 93/93 [02:54<00:00,  1.88s/it]\n"
     ]
    },
    {
     "name": "stdout",
     "output_type": "stream",
     "text": [
      "Epoch: 6, train loss: 0.6798659100006985\n",
      "Validate\n"
     ]
    },
    {
     "name": "stderr",
     "output_type": "stream",
     "text": [
      "100%|██████████| 24/24 [00:46<00:00,  1.94s/it]\n"
     ]
    },
    {
     "name": "stdout",
     "output_type": "stream",
     "text": [
      "              precision    recall  f1-score   support\n",
      "\n",
      "           O       0.98      0.98      0.98     31797\n",
      "           B       0.89      0.88      0.89      2455\n",
      "           I       0.91      0.90      0.90      5621\n",
      "\n",
      "    accuracy                           0.96     39873\n",
      "   macro avg       0.93      0.92      0.92     39873\n",
      "weighted avg       0.96      0.96      0.96     39873\n",
      "\n",
      "              precision    recall  f1-score   support\n",
      "\n",
      "           O       0.98      0.98      0.98     31797\n",
      "         B+I       0.92      0.91      0.92      8076\n",
      "\n",
      "    accuracy                           0.97     39873\n",
      "   macro avg       0.95      0.94      0.95     39873\n",
      "weighted avg       0.97      0.97      0.97     39873\n",
      "\n",
      "epoch 7/10\n"
     ]
    },
    {
     "name": "stderr",
     "output_type": "stream",
     "text": [
      "100%|██████████| 93/93 [02:54<00:00,  1.88s/it]\n"
     ]
    },
    {
     "name": "stdout",
     "output_type": "stream",
     "text": [
      "Epoch: 7, train loss: 0.42734089461706015\n",
      "Validate\n"
     ]
    },
    {
     "name": "stderr",
     "output_type": "stream",
     "text": [
      "100%|██████████| 24/24 [00:46<00:00,  1.94s/it]\n"
     ]
    },
    {
     "name": "stdout",
     "output_type": "stream",
     "text": [
      "              precision    recall  f1-score   support\n",
      "\n",
      "           O       0.98      0.98      0.98     31797\n",
      "           B       0.89      0.89      0.89      2455\n",
      "           I       0.92      0.89      0.90      5621\n",
      "\n",
      "    accuracy                           0.96     39873\n",
      "   macro avg       0.93      0.92      0.92     39873\n",
      "weighted avg       0.96      0.96      0.96     39873\n",
      "\n",
      "              precision    recall  f1-score   support\n",
      "\n",
      "           O       0.98      0.98      0.98     31797\n",
      "         B+I       0.93      0.90      0.92      8076\n",
      "\n",
      "    accuracy                           0.97     39873\n",
      "   macro avg       0.95      0.94      0.95     39873\n",
      "weighted avg       0.97      0.97      0.97     39873\n",
      "\n",
      "epoch 8/10\n"
     ]
    },
    {
     "name": "stderr",
     "output_type": "stream",
     "text": [
      "100%|██████████| 93/93 [02:55<00:00,  1.89s/it]\n"
     ]
    },
    {
     "name": "stdout",
     "output_type": "stream",
     "text": [
      "Epoch: 8, train loss: 0.27941006213747044\n",
      "Validate\n"
     ]
    },
    {
     "name": "stderr",
     "output_type": "stream",
     "text": [
      "100%|██████████| 24/24 [00:46<00:00,  1.94s/it]\n"
     ]
    },
    {
     "name": "stdout",
     "output_type": "stream",
     "text": [
      "epoch 9/10\n"
     ]
    },
    {
     "name": "stderr",
     "output_type": "stream",
     "text": [
      "100%|██████████| 93/93 [02:54<00:00,  1.88s/it]\n"
     ]
    },
    {
     "name": "stdout",
     "output_type": "stream",
     "text": [
      "Epoch: 9, train loss: 0.1893823342297667\n",
      "Validate\n"
     ]
    },
    {
     "name": "stderr",
     "output_type": "stream",
     "text": [
      "100%|██████████| 24/24 [00:46<00:00,  1.94s/it]\n"
     ]
    },
    {
     "name": "stdout",
     "output_type": "stream",
     "text": [
      "epoch 10/10\n"
     ]
    },
    {
     "name": "stderr",
     "output_type": "stream",
     "text": [
      "100%|██████████| 93/93 [02:54<00:00,  1.88s/it]\n"
     ]
    },
    {
     "name": "stdout",
     "output_type": "stream",
     "text": [
      "Epoch: 10, train loss: 0.1644604198073828\n",
      "Validate\n"
     ]
    },
    {
     "name": "stderr",
     "output_type": "stream",
     "text": [
      "100%|██████████| 24/24 [00:46<00:00,  1.93s/it]\n"
     ]
    },
    {
     "name": "stdout",
     "output_type": "stream",
     "text": [
      "Training Finished\n",
      "cross : 3\n"
     ]
    },
    {
     "name": "stderr",
     "output_type": "stream",
     "text": [
      "Some weights of the model checkpoint at cl-tohoku/bert-large-japanese were not used when initializing BertModel: ['cls.predictions.decoder.weight', 'cls.predictions.transform.dense.weight', 'cls.seq_relationship.weight', 'cls.predictions.bias', 'cls.seq_relationship.bias', 'cls.predictions.transform.LayerNorm.bias', 'cls.predictions.transform.dense.bias', 'cls.predictions.transform.LayerNorm.weight', 'cls.predictions.decoder.bias']\n",
      "- This IS expected if you are initializing BertModel from the checkpoint of a model trained on another task or with another architecture (e.g. initializing a BertForSequenceClassification model from a BertForPreTraining model).\n",
      "- This IS NOT expected if you are initializing BertModel from the checkpoint of a model that you expect to be exactly identical (initializing a BertForSequenceClassification model from a BertForSequenceClassification model).\n"
     ]
    },
    {
     "name": "stdout",
     "output_type": "stream",
     "text": [
      "traindata: 5913 testdata: 1478\n",
      "epoch 1/10\n"
     ]
    },
    {
     "name": "stderr",
     "output_type": "stream",
     "text": [
      "100%|██████████| 93/93 [02:56<00:00,  1.90s/it]\n"
     ]
    },
    {
     "name": "stdout",
     "output_type": "stream",
     "text": [
      "Epoch: 1, train loss: 7.804324455158685\n",
      "Validate\n"
     ]
    },
    {
     "name": "stderr",
     "output_type": "stream",
     "text": [
      "100%|██████████| 24/24 [00:45<00:00,  1.91s/it]\n"
     ]
    },
    {
     "name": "stdout",
     "output_type": "stream",
     "text": [
      "              precision    recall  f1-score   support\n",
      "\n",
      "           O       0.91      1.00      0.95     30449\n",
      "           B       0.89      0.72      0.80      2437\n",
      "           I       0.98      0.58      0.73      5781\n",
      "\n",
      "    accuracy                           0.92     38667\n",
      "   macro avg       0.93      0.77      0.83     38667\n",
      "weighted avg       0.92      0.92      0.91     38667\n",
      "\n",
      "              precision    recall  f1-score   support\n",
      "\n",
      "           O       0.91      1.00      0.95     30449\n",
      "         B+I       0.98      0.64      0.78      8218\n",
      "\n",
      "    accuracy                           0.92     38667\n",
      "   macro avg       0.95      0.82      0.87     38667\n",
      "weighted avg       0.93      0.92      0.92     38667\n",
      "\n",
      "epoch 2/10\n"
     ]
    },
    {
     "name": "stderr",
     "output_type": "stream",
     "text": [
      "100%|██████████| 93/93 [02:56<00:00,  1.90s/it]\n"
     ]
    },
    {
     "name": "stdout",
     "output_type": "stream",
     "text": [
      "Epoch: 2, train loss: 3.626890634336779\n",
      "Validate\n"
     ]
    },
    {
     "name": "stderr",
     "output_type": "stream",
     "text": [
      "100%|██████████| 24/24 [00:46<00:00,  1.92s/it]\n"
     ]
    },
    {
     "name": "stdout",
     "output_type": "stream",
     "text": [
      "              precision    recall  f1-score   support\n",
      "\n",
      "           O       0.96      0.99      0.97     30449\n",
      "           B       0.86      0.86      0.86      2437\n",
      "           I       0.94      0.81      0.87      5781\n",
      "\n",
      "    accuracy                           0.95     38667\n",
      "   macro avg       0.92      0.89      0.90     38667\n",
      "weighted avg       0.95      0.95      0.95     38667\n",
      "\n",
      "              precision    recall  f1-score   support\n",
      "\n",
      "           O       0.96      0.99      0.97     30449\n",
      "         B+I       0.94      0.86      0.90      8218\n",
      "\n",
      "    accuracy                           0.96     38667\n",
      "   macro avg       0.95      0.92      0.93     38667\n",
      "weighted avg       0.96      0.96      0.96     38667\n",
      "\n",
      "epoch 3/10\n"
     ]
    },
    {
     "name": "stderr",
     "output_type": "stream",
     "text": [
      "100%|██████████| 93/93 [02:56<00:00,  1.89s/it]\n"
     ]
    },
    {
     "name": "stdout",
     "output_type": "stream",
     "text": [
      "Epoch: 3, train loss: 2.1785095282780227\n",
      "Validate\n"
     ]
    },
    {
     "name": "stderr",
     "output_type": "stream",
     "text": [
      "100%|██████████| 24/24 [00:45<00:00,  1.92s/it]\n"
     ]
    },
    {
     "name": "stdout",
     "output_type": "stream",
     "text": [
      "              precision    recall  f1-score   support\n",
      "\n",
      "           O       0.96      0.99      0.97     30449\n",
      "           B       0.91      0.81      0.86      2437\n",
      "           I       0.95      0.83      0.89      5781\n",
      "\n",
      "    accuracy                           0.96     38667\n",
      "   macro avg       0.94      0.88      0.91     38667\n",
      "weighted avg       0.95      0.96      0.95     38667\n",
      "\n",
      "              precision    recall  f1-score   support\n",
      "\n",
      "           O       0.96      0.99      0.97     30449\n",
      "         B+I       0.96      0.84      0.90      8218\n",
      "\n",
      "    accuracy                           0.96     38667\n",
      "   macro avg       0.96      0.92      0.94     38667\n",
      "weighted avg       0.96      0.96      0.96     38667\n",
      "\n",
      "epoch 4/10\n"
     ]
    },
    {
     "name": "stderr",
     "output_type": "stream",
     "text": [
      "100%|██████████| 93/93 [02:55<00:00,  1.89s/it]\n"
     ]
    },
    {
     "name": "stdout",
     "output_type": "stream",
     "text": [
      "Epoch: 4, train loss: 1.5930083817051304\n",
      "Validate\n"
     ]
    },
    {
     "name": "stderr",
     "output_type": "stream",
     "text": [
      "100%|██████████| 24/24 [00:45<00:00,  1.91s/it]\n"
     ]
    },
    {
     "name": "stdout",
     "output_type": "stream",
     "text": [
      "              precision    recall  f1-score   support\n",
      "\n",
      "           O       0.97      0.99      0.98     30449\n",
      "           B       0.88      0.89      0.88      2437\n",
      "           I       0.95      0.84      0.89      5781\n",
      "\n",
      "    accuracy                           0.96     38667\n",
      "   macro avg       0.93      0.90      0.92     38667\n",
      "weighted avg       0.96      0.96      0.96     38667\n",
      "\n",
      "              precision    recall  f1-score   support\n",
      "\n",
      "           O       0.97      0.99      0.98     30449\n",
      "         B+I       0.95      0.87      0.91      8218\n",
      "\n",
      "    accuracy                           0.96     38667\n",
      "   macro avg       0.96      0.93      0.94     38667\n",
      "weighted avg       0.96      0.96      0.96     38667\n",
      "\n",
      "epoch 5/10\n"
     ]
    },
    {
     "name": "stderr",
     "output_type": "stream",
     "text": [
      "100%|██████████| 93/93 [02:55<00:00,  1.89s/it]\n"
     ]
    },
    {
     "name": "stdout",
     "output_type": "stream",
     "text": [
      "Epoch: 5, train loss: 1.029480633235747\n",
      "Validate\n"
     ]
    },
    {
     "name": "stderr",
     "output_type": "stream",
     "text": [
      "100%|██████████| 24/24 [00:46<00:00,  1.92s/it]\n"
     ]
    },
    {
     "name": "stdout",
     "output_type": "stream",
     "text": [
      "              precision    recall  f1-score   support\n",
      "\n",
      "           O       0.97      0.99      0.98     30449\n",
      "           B       0.89      0.88      0.89      2437\n",
      "           I       0.94      0.88      0.91      5781\n",
      "\n",
      "    accuracy                           0.96     38667\n",
      "   macro avg       0.93      0.91      0.92     38667\n",
      "weighted avg       0.96      0.96      0.96     38667\n",
      "\n",
      "              precision    recall  f1-score   support\n",
      "\n",
      "           O       0.97      0.99      0.98     30449\n",
      "         B+I       0.94      0.90      0.92      8218\n",
      "\n",
      "    accuracy                           0.97     38667\n",
      "   macro avg       0.96      0.94      0.95     38667\n",
      "weighted avg       0.97      0.97      0.97     38667\n",
      "\n",
      "epoch 6/10\n"
     ]
    },
    {
     "name": "stderr",
     "output_type": "stream",
     "text": [
      "100%|██████████| 93/93 [02:55<00:00,  1.89s/it]\n"
     ]
    },
    {
     "name": "stdout",
     "output_type": "stream",
     "text": [
      "Epoch: 6, train loss: 0.6533351295417354\n",
      "Validate\n"
     ]
    },
    {
     "name": "stderr",
     "output_type": "stream",
     "text": [
      "100%|██████████| 24/24 [00:46<00:00,  1.92s/it]\n"
     ]
    },
    {
     "name": "stdout",
     "output_type": "stream",
     "text": [
      "              precision    recall  f1-score   support\n",
      "\n",
      "           O       0.98      0.98      0.98     30449\n",
      "           B       0.88      0.90      0.89      2437\n",
      "           I       0.93      0.91      0.92      5781\n",
      "\n",
      "    accuracy                           0.96     38667\n",
      "   macro avg       0.93      0.93      0.93     38667\n",
      "weighted avg       0.96      0.96      0.96     38667\n",
      "\n",
      "              precision    recall  f1-score   support\n",
      "\n",
      "           O       0.98      0.98      0.98     30449\n",
      "         B+I       0.93      0.92      0.93      8218\n",
      "\n",
      "    accuracy                           0.97     38667\n",
      "   macro avg       0.95      0.95      0.95     38667\n",
      "weighted avg       0.97      0.97      0.97     38667\n",
      "\n",
      "epoch 7/10\n"
     ]
    },
    {
     "name": "stderr",
     "output_type": "stream",
     "text": [
      "100%|██████████| 93/93 [02:55<00:00,  1.89s/it]\n"
     ]
    },
    {
     "name": "stdout",
     "output_type": "stream",
     "text": [
      "Epoch: 7, train loss: 0.3968473174559173\n",
      "Validate\n"
     ]
    },
    {
     "name": "stderr",
     "output_type": "stream",
     "text": [
      "100%|██████████| 24/24 [00:45<00:00,  1.92s/it]\n"
     ]
    },
    {
     "name": "stdout",
     "output_type": "stream",
     "text": [
      "              precision    recall  f1-score   support\n",
      "\n",
      "           O       0.98      0.98      0.98     30449\n",
      "           B       0.90      0.91      0.90      2437\n",
      "           I       0.93      0.91      0.92      5781\n",
      "\n",
      "    accuracy                           0.97     38667\n",
      "   macro avg       0.94      0.93      0.93     38667\n",
      "weighted avg       0.97      0.97      0.97     38667\n",
      "\n",
      "              precision    recall  f1-score   support\n",
      "\n",
      "           O       0.98      0.98      0.98     30449\n",
      "         B+I       0.94      0.92      0.93      8218\n",
      "\n",
      "    accuracy                           0.97     38667\n",
      "   macro avg       0.96      0.95      0.96     38667\n",
      "weighted avg       0.97      0.97      0.97     38667\n",
      "\n",
      "epoch 8/10\n"
     ]
    },
    {
     "name": "stderr",
     "output_type": "stream",
     "text": [
      "100%|██████████| 93/93 [02:55<00:00,  1.89s/it]\n"
     ]
    },
    {
     "name": "stdout",
     "output_type": "stream",
     "text": [
      "Epoch: 8, train loss: 0.24575251212684057\n",
      "Validate\n"
     ]
    },
    {
     "name": "stderr",
     "output_type": "stream",
     "text": [
      "100%|██████████| 24/24 [00:45<00:00,  1.92s/it]\n"
     ]
    },
    {
     "name": "stdout",
     "output_type": "stream",
     "text": [
      "              precision    recall  f1-score   support\n",
      "\n",
      "           O       0.98      0.99      0.98     30449\n",
      "           B       0.90      0.91      0.90      2437\n",
      "           I       0.94      0.90      0.92      5781\n",
      "\n",
      "    accuracy                           0.97     38667\n",
      "   macro avg       0.94      0.93      0.93     38667\n",
      "weighted avg       0.97      0.97      0.97     38667\n",
      "\n",
      "              precision    recall  f1-score   support\n",
      "\n",
      "           O       0.98      0.99      0.98     30449\n",
      "         B+I       0.94      0.92      0.93      8218\n",
      "\n",
      "    accuracy                           0.97     38667\n",
      "   macro avg       0.96      0.95      0.96     38667\n",
      "weighted avg       0.97      0.97      0.97     38667\n",
      "\n",
      "epoch 9/10\n"
     ]
    },
    {
     "name": "stderr",
     "output_type": "stream",
     "text": [
      "100%|██████████| 93/93 [02:55<00:00,  1.89s/it]\n"
     ]
    },
    {
     "name": "stdout",
     "output_type": "stream",
     "text": [
      "Epoch: 9, train loss: 0.1794587505120103\n",
      "Validate\n"
     ]
    },
    {
     "name": "stderr",
     "output_type": "stream",
     "text": [
      "100%|██████████| 24/24 [00:46<00:00,  1.92s/it]\n"
     ]
    },
    {
     "name": "stdout",
     "output_type": "stream",
     "text": [
      "              precision    recall  f1-score   support\n",
      "\n",
      "           O       0.98      0.99      0.98     30449\n",
      "           B       0.90      0.91      0.91      2437\n",
      "           I       0.94      0.90      0.92      5781\n",
      "\n",
      "    accuracy                           0.97     38667\n",
      "   macro avg       0.94      0.93      0.93     38667\n",
      "weighted avg       0.97      0.97      0.97     38667\n",
      "\n",
      "              precision    recall  f1-score   support\n",
      "\n",
      "           O       0.98      0.99      0.98     30449\n",
      "         B+I       0.94      0.92      0.93      8218\n",
      "\n",
      "    accuracy                           0.97     38667\n",
      "   macro avg       0.96      0.95      0.96     38667\n",
      "weighted avg       0.97      0.97      0.97     38667\n",
      "\n",
      "epoch 10/10\n"
     ]
    },
    {
     "name": "stderr",
     "output_type": "stream",
     "text": [
      "100%|██████████| 93/93 [02:55<00:00,  1.89s/it]\n"
     ]
    },
    {
     "name": "stdout",
     "output_type": "stream",
     "text": [
      "Epoch: 10, train loss: 0.1472993928899047\n",
      "Validate\n"
     ]
    },
    {
     "name": "stderr",
     "output_type": "stream",
     "text": [
      "100%|██████████| 24/24 [00:46<00:00,  1.92s/it]\n"
     ]
    },
    {
     "name": "stdout",
     "output_type": "stream",
     "text": [
      "Training Finished\n",
      "cross : 4\n"
     ]
    },
    {
     "name": "stderr",
     "output_type": "stream",
     "text": [
      "Some weights of the model checkpoint at cl-tohoku/bert-large-japanese were not used when initializing BertModel: ['cls.predictions.decoder.weight', 'cls.predictions.transform.dense.weight', 'cls.seq_relationship.weight', 'cls.predictions.bias', 'cls.seq_relationship.bias', 'cls.predictions.transform.LayerNorm.bias', 'cls.predictions.transform.dense.bias', 'cls.predictions.transform.LayerNorm.weight', 'cls.predictions.decoder.bias']\n",
      "- This IS expected if you are initializing BertModel from the checkpoint of a model trained on another task or with another architecture (e.g. initializing a BertForSequenceClassification model from a BertForPreTraining model).\n",
      "- This IS NOT expected if you are initializing BertModel from the checkpoint of a model that you expect to be exactly identical (initializing a BertForSequenceClassification model from a BertForSequenceClassification model).\n"
     ]
    },
    {
     "name": "stdout",
     "output_type": "stream",
     "text": [
      "traindata: 5913 testdata: 1478\n",
      "epoch 1/10\n"
     ]
    },
    {
     "name": "stderr",
     "output_type": "stream",
     "text": [
      "100%|██████████| 93/93 [02:54<00:00,  1.88s/it]\n"
     ]
    },
    {
     "name": "stdout",
     "output_type": "stream",
     "text": [
      "Epoch: 1, train loss: 7.186038613319397\n",
      "Validate\n"
     ]
    },
    {
     "name": "stderr",
     "output_type": "stream",
     "text": [
      "100%|██████████| 24/24 [00:46<00:00,  1.95s/it]\n"
     ]
    },
    {
     "name": "stdout",
     "output_type": "stream",
     "text": [
      "              precision    recall  f1-score   support\n",
      "\n",
      "           O       0.82      1.00      0.90     31372\n",
      "           B       0.95      0.24      0.39      2460\n",
      "           I       0.96      0.08      0.14      5689\n",
      "\n",
      "    accuracy                           0.82     39521\n",
      "   macro avg       0.91      0.44      0.48     39521\n",
      "weighted avg       0.85      0.82      0.76     39521\n",
      "\n",
      "              precision    recall  f1-score   support\n",
      "\n",
      "           O       0.82      1.00      0.90     31372\n",
      "         B+I       0.98      0.13      0.23      8149\n",
      "\n",
      "    accuracy                           0.82     39521\n",
      "   macro avg       0.90      0.57      0.57     39521\n",
      "weighted avg       0.85      0.82      0.76     39521\n",
      "\n",
      "epoch 2/10\n"
     ]
    },
    {
     "name": "stderr",
     "output_type": "stream",
     "text": [
      "100%|██████████| 93/93 [02:54<00:00,  1.87s/it]\n"
     ]
    },
    {
     "name": "stdout",
     "output_type": "stream",
     "text": [
      "Epoch: 2, train loss: 3.8902437866375013\n",
      "Validate\n"
     ]
    },
    {
     "name": "stderr",
     "output_type": "stream",
     "text": [
      "100%|██████████| 24/24 [00:46<00:00,  1.96s/it]\n"
     ]
    },
    {
     "name": "stdout",
     "output_type": "stream",
     "text": [
      "              precision    recall  f1-score   support\n",
      "\n",
      "           O       0.97      0.98      0.97     31372\n",
      "           B       0.86      0.83      0.84      2460\n",
      "           I       0.90      0.86      0.88      5689\n",
      "\n",
      "    accuracy                           0.95     39521\n",
      "   macro avg       0.91      0.89      0.90     39521\n",
      "weighted avg       0.95      0.95      0.95     39521\n",
      "\n",
      "              precision    recall  f1-score   support\n",
      "\n",
      "           O       0.97      0.98      0.97     31372\n",
      "         B+I       0.91      0.88      0.89      8149\n",
      "\n",
      "    accuracy                           0.96     39521\n",
      "   macro avg       0.94      0.93      0.93     39521\n",
      "weighted avg       0.96      0.96      0.96     39521\n",
      "\n",
      "epoch 3/10\n"
     ]
    },
    {
     "name": "stderr",
     "output_type": "stream",
     "text": [
      "100%|██████████| 93/93 [02:54<00:00,  1.88s/it]\n"
     ]
    },
    {
     "name": "stdout",
     "output_type": "stream",
     "text": [
      "Epoch: 3, train loss: 2.415012170871099\n",
      "Validate\n"
     ]
    },
    {
     "name": "stderr",
     "output_type": "stream",
     "text": [
      "100%|██████████| 24/24 [00:46<00:00,  1.96s/it]\n"
     ]
    },
    {
     "name": "stdout",
     "output_type": "stream",
     "text": [
      "              precision    recall  f1-score   support\n",
      "\n",
      "           O       0.97      0.98      0.97     31372\n",
      "           B       0.86      0.83      0.85      2460\n",
      "           I       0.92      0.86      0.89      5689\n",
      "\n",
      "    accuracy                           0.95     39521\n",
      "   macro avg       0.92      0.89      0.90     39521\n",
      "weighted avg       0.95      0.95      0.95     39521\n",
      "\n",
      "              precision    recall  f1-score   support\n",
      "\n",
      "           O       0.97      0.98      0.97     31372\n",
      "         B+I       0.92      0.87      0.90      8149\n",
      "\n",
      "    accuracy                           0.96     39521\n",
      "   macro avg       0.95      0.93      0.94     39521\n",
      "weighted avg       0.96      0.96      0.96     39521\n",
      "\n",
      "epoch 4/10\n"
     ]
    },
    {
     "name": "stderr",
     "output_type": "stream",
     "text": [
      "100%|██████████| 93/93 [02:54<00:00,  1.87s/it]\n"
     ]
    },
    {
     "name": "stdout",
     "output_type": "stream",
     "text": [
      "Epoch: 4, train loss: 1.4868100763008159\n",
      "Validate\n"
     ]
    },
    {
     "name": "stderr",
     "output_type": "stream",
     "text": [
      "100%|██████████| 24/24 [00:46<00:00,  1.96s/it]\n"
     ]
    },
    {
     "name": "stdout",
     "output_type": "stream",
     "text": [
      "              precision    recall  f1-score   support\n",
      "\n",
      "           O       0.97      0.98      0.98     31372\n",
      "           B       0.89      0.87      0.88      2460\n",
      "           I       0.92      0.88      0.90      5689\n",
      "\n",
      "    accuracy                           0.96     39521\n",
      "   macro avg       0.93      0.91      0.92     39521\n",
      "weighted avg       0.96      0.96      0.96     39521\n",
      "\n",
      "              precision    recall  f1-score   support\n",
      "\n",
      "           O       0.97      0.98      0.98     31372\n",
      "         B+I       0.93      0.89      0.91      8149\n",
      "\n",
      "    accuracy                           0.96     39521\n",
      "   macro avg       0.95      0.94      0.94     39521\n",
      "weighted avg       0.96      0.96      0.96     39521\n",
      "\n",
      "epoch 5/10\n"
     ]
    },
    {
     "name": "stderr",
     "output_type": "stream",
     "text": [
      "100%|██████████| 93/93 [02:53<00:00,  1.86s/it]\n"
     ]
    },
    {
     "name": "stdout",
     "output_type": "stream",
     "text": [
      "Epoch: 5, train loss: 1.0366961648387294\n",
      "Validate\n"
     ]
    },
    {
     "name": "stderr",
     "output_type": "stream",
     "text": [
      "100%|██████████| 24/24 [00:47<00:00,  1.96s/it]\n"
     ]
    },
    {
     "name": "stdout",
     "output_type": "stream",
     "text": [
      "              precision    recall  f1-score   support\n",
      "\n",
      "           O       0.98      0.98      0.98     31372\n",
      "           B       0.90      0.86      0.88      2460\n",
      "           I       0.90      0.90      0.90      5689\n",
      "\n",
      "    accuracy                           0.96     39521\n",
      "   macro avg       0.93      0.91      0.92     39521\n",
      "weighted avg       0.96      0.96      0.96     39521\n",
      "\n",
      "              precision    recall  f1-score   support\n",
      "\n",
      "           O       0.98      0.98      0.98     31372\n",
      "         B+I       0.92      0.91      0.91      8149\n",
      "\n",
      "    accuracy                           0.96     39521\n",
      "   macro avg       0.95      0.94      0.95     39521\n",
      "weighted avg       0.96      0.96      0.96     39521\n",
      "\n",
      "epoch 6/10\n"
     ]
    },
    {
     "name": "stderr",
     "output_type": "stream",
     "text": [
      "100%|██████████| 93/93 [02:53<00:00,  1.86s/it]\n"
     ]
    },
    {
     "name": "stdout",
     "output_type": "stream",
     "text": [
      "Epoch: 6, train loss: 0.7129896725377729\n",
      "Validate\n"
     ]
    },
    {
     "name": "stderr",
     "output_type": "stream",
     "text": [
      "100%|██████████| 24/24 [00:47<00:00,  1.96s/it]\n"
     ]
    },
    {
     "name": "stdout",
     "output_type": "stream",
     "text": [
      "              precision    recall  f1-score   support\n",
      "\n",
      "           O       0.98      0.98      0.98     31372\n",
      "           B       0.89      0.88      0.89      2460\n",
      "           I       0.91      0.91      0.91      5689\n",
      "\n",
      "    accuracy                           0.96     39521\n",
      "   macro avg       0.93      0.92      0.92     39521\n",
      "weighted avg       0.96      0.96      0.96     39521\n",
      "\n",
      "              precision    recall  f1-score   support\n",
      "\n",
      "           O       0.98      0.98      0.98     31372\n",
      "         B+I       0.92      0.92      0.92      8149\n",
      "\n",
      "    accuracy                           0.97     39521\n",
      "   macro avg       0.95      0.95      0.95     39521\n",
      "weighted avg       0.97      0.97      0.97     39521\n",
      "\n",
      "epoch 7/10\n"
     ]
    },
    {
     "name": "stderr",
     "output_type": "stream",
     "text": [
      "100%|██████████| 93/93 [02:53<00:00,  1.86s/it]\n"
     ]
    },
    {
     "name": "stdout",
     "output_type": "stream",
     "text": [
      "Epoch: 7, train loss: 0.41076015608925975\n",
      "Validate\n"
     ]
    },
    {
     "name": "stderr",
     "output_type": "stream",
     "text": [
      "100%|██████████| 24/24 [00:46<00:00,  1.96s/it]\n"
     ]
    },
    {
     "name": "stdout",
     "output_type": "stream",
     "text": [
      "epoch 8/10\n"
     ]
    },
    {
     "name": "stderr",
     "output_type": "stream",
     "text": [
      "100%|██████████| 93/93 [02:53<00:00,  1.87s/it]\n"
     ]
    },
    {
     "name": "stdout",
     "output_type": "stream",
     "text": [
      "Epoch: 8, train loss: 0.25084167606728053\n",
      "Validate\n"
     ]
    },
    {
     "name": "stderr",
     "output_type": "stream",
     "text": [
      "100%|██████████| 24/24 [00:46<00:00,  1.96s/it]\n"
     ]
    },
    {
     "name": "stdout",
     "output_type": "stream",
     "text": [
      "epoch 9/10\n"
     ]
    },
    {
     "name": "stderr",
     "output_type": "stream",
     "text": [
      "100%|██████████| 93/93 [02:53<00:00,  1.86s/it]\n"
     ]
    },
    {
     "name": "stdout",
     "output_type": "stream",
     "text": [
      "Epoch: 9, train loss: 0.18601414497180652\n",
      "Validate\n"
     ]
    },
    {
     "name": "stderr",
     "output_type": "stream",
     "text": [
      "100%|██████████| 24/24 [00:47<00:00,  1.96s/it]\n"
     ]
    },
    {
     "name": "stdout",
     "output_type": "stream",
     "text": [
      "epoch 10/10\n"
     ]
    },
    {
     "name": "stderr",
     "output_type": "stream",
     "text": [
      "100%|██████████| 93/93 [02:53<00:00,  1.86s/it]\n"
     ]
    },
    {
     "name": "stdout",
     "output_type": "stream",
     "text": [
      "Epoch: 10, train loss: 0.16377482939791935\n",
      "Validate\n"
     ]
    },
    {
     "name": "stderr",
     "output_type": "stream",
     "text": [
      "100%|██████████| 24/24 [00:47<00:00,  1.96s/it]\n"
     ]
    },
    {
     "name": "stdout",
     "output_type": "stream",
     "text": [
      "Training Finished\n",
      "cross : 5\n"
     ]
    },
    {
     "name": "stderr",
     "output_type": "stream",
     "text": [
      "Some weights of the model checkpoint at cl-tohoku/bert-large-japanese were not used when initializing BertModel: ['cls.predictions.decoder.weight', 'cls.predictions.transform.dense.weight', 'cls.seq_relationship.weight', 'cls.predictions.bias', 'cls.seq_relationship.bias', 'cls.predictions.transform.LayerNorm.bias', 'cls.predictions.transform.dense.bias', 'cls.predictions.transform.LayerNorm.weight', 'cls.predictions.decoder.bias']\n",
      "- This IS expected if you are initializing BertModel from the checkpoint of a model trained on another task or with another architecture (e.g. initializing a BertForSequenceClassification model from a BertForPreTraining model).\n",
      "- This IS NOT expected if you are initializing BertModel from the checkpoint of a model that you expect to be exactly identical (initializing a BertForSequenceClassification model from a BertForSequenceClassification model).\n"
     ]
    },
    {
     "name": "stdout",
     "output_type": "stream",
     "text": [
      "traindata: 5913 testdata: 1478\n",
      "epoch 1/10\n"
     ]
    },
    {
     "name": "stderr",
     "output_type": "stream",
     "text": [
      "100%|██████████| 93/93 [02:53<00:00,  1.87s/it]\n"
     ]
    },
    {
     "name": "stdout",
     "output_type": "stream",
     "text": [
      "Epoch: 1, train loss: 7.2073725115868355\n",
      "Validate\n"
     ]
    },
    {
     "name": "stderr",
     "output_type": "stream",
     "text": [
      "100%|██████████| 24/24 [00:46<00:00,  1.95s/it]\n"
     ]
    },
    {
     "name": "stdout",
     "output_type": "stream",
     "text": [
      "              precision    recall  f1-score   support\n",
      "\n",
      "           O       0.93      0.99      0.96     30489\n",
      "           B       0.88      0.73      0.80      2456\n",
      "           I       0.96      0.66      0.78      5792\n",
      "\n",
      "    accuracy                           0.93     38737\n",
      "   macro avg       0.92      0.79      0.84     38737\n",
      "weighted avg       0.93      0.93      0.92     38737\n",
      "\n",
      "              precision    recall  f1-score   support\n",
      "\n",
      "           O       0.93      0.99      0.96     30489\n",
      "         B+I       0.97      0.70      0.81      8248\n",
      "\n",
      "    accuracy                           0.93     38737\n",
      "   macro avg       0.95      0.85      0.89     38737\n",
      "weighted avg       0.93      0.93      0.93     38737\n",
      "\n",
      "epoch 2/10\n"
     ]
    },
    {
     "name": "stderr",
     "output_type": "stream",
     "text": [
      "100%|██████████| 93/93 [02:54<00:00,  1.87s/it]\n"
     ]
    },
    {
     "name": "stdout",
     "output_type": "stream",
     "text": [
      "Epoch: 2, train loss: 3.3466468280361545\n",
      "Validate\n"
     ]
    },
    {
     "name": "stderr",
     "output_type": "stream",
     "text": [
      "100%|██████████| 24/24 [00:46<00:00,  1.95s/it]\n"
     ]
    },
    {
     "name": "stdout",
     "output_type": "stream",
     "text": [
      "              precision    recall  f1-score   support\n",
      "\n",
      "           O       0.93      0.99      0.96     30489\n",
      "           B       0.93      0.74      0.82      2456\n",
      "           I       0.96      0.70      0.81      5792\n",
      "\n",
      "    accuracy                           0.93     38737\n",
      "   macro avg       0.94      0.81      0.87     38737\n",
      "weighted avg       0.94      0.93      0.93     38737\n",
      "\n",
      "              precision    recall  f1-score   support\n",
      "\n",
      "           O       0.93      0.99      0.96     30489\n",
      "         B+I       0.97      0.73      0.83      8248\n",
      "\n",
      "    accuracy                           0.94     38737\n",
      "   macro avg       0.95      0.86      0.90     38737\n",
      "weighted avg       0.94      0.94      0.93     38737\n",
      "\n",
      "epoch 3/10\n"
     ]
    },
    {
     "name": "stderr",
     "output_type": "stream",
     "text": [
      "100%|██████████| 93/93 [02:53<00:00,  1.87s/it]\n"
     ]
    },
    {
     "name": "stdout",
     "output_type": "stream",
     "text": [
      "Epoch: 3, train loss: 2.1842933646453324\n",
      "Validate\n"
     ]
    },
    {
     "name": "stderr",
     "output_type": "stream",
     "text": [
      "100%|██████████| 24/24 [00:46<00:00,  1.95s/it]\n"
     ]
    },
    {
     "name": "stdout",
     "output_type": "stream",
     "text": [
      "              precision    recall  f1-score   support\n",
      "\n",
      "           O       0.96      0.99      0.97     30489\n",
      "           B       0.89      0.83      0.86      2456\n",
      "           I       0.93      0.83      0.88      5792\n",
      "\n",
      "    accuracy                           0.95     38737\n",
      "   macro avg       0.93      0.88      0.90     38737\n",
      "weighted avg       0.95      0.95      0.95     38737\n",
      "\n",
      "              precision    recall  f1-score   support\n",
      "\n",
      "           O       0.96      0.99      0.97     30489\n",
      "         B+I       0.94      0.85      0.90      8248\n",
      "\n",
      "    accuracy                           0.96     38737\n",
      "   macro avg       0.95      0.92      0.93     38737\n",
      "weighted avg       0.96      0.96      0.96     38737\n",
      "\n",
      "epoch 4/10\n"
     ]
    },
    {
     "name": "stderr",
     "output_type": "stream",
     "text": [
      "100%|██████████| 93/93 [02:53<00:00,  1.87s/it]\n"
     ]
    },
    {
     "name": "stdout",
     "output_type": "stream",
     "text": [
      "Epoch: 4, train loss: 1.3491509297201711\n",
      "Validate\n"
     ]
    },
    {
     "name": "stderr",
     "output_type": "stream",
     "text": [
      "100%|██████████| 24/24 [00:46<00:00,  1.95s/it]\n"
     ]
    },
    {
     "name": "stdout",
     "output_type": "stream",
     "text": [
      "              precision    recall  f1-score   support\n",
      "\n",
      "           O       0.97      0.98      0.97     30489\n",
      "           B       0.88      0.85      0.87      2456\n",
      "           I       0.89      0.88      0.89      5792\n",
      "\n",
      "    accuracy                           0.95     38737\n",
      "   macro avg       0.92      0.90      0.91     38737\n",
      "weighted avg       0.95      0.95      0.95     38737\n",
      "\n",
      "              precision    recall  f1-score   support\n",
      "\n",
      "           O       0.97      0.98      0.97     30489\n",
      "         B+I       0.91      0.90      0.90      8248\n",
      "\n",
      "    accuracy                           0.96     38737\n",
      "   macro avg       0.94      0.94      0.94     38737\n",
      "weighted avg       0.96      0.96      0.96     38737\n",
      "\n",
      "epoch 5/10\n"
     ]
    },
    {
     "name": "stderr",
     "output_type": "stream",
     "text": [
      "100%|██████████| 93/93 [02:53<00:00,  1.87s/it]\n"
     ]
    },
    {
     "name": "stdout",
     "output_type": "stream",
     "text": [
      "Epoch: 5, train loss: 0.9730200350925486\n",
      "Validate\n"
     ]
    },
    {
     "name": "stderr",
     "output_type": "stream",
     "text": [
      "100%|██████████| 24/24 [00:46<00:00,  1.96s/it]\n"
     ]
    },
    {
     "name": "stdout",
     "output_type": "stream",
     "text": [
      "              precision    recall  f1-score   support\n",
      "\n",
      "           O       0.98      0.98      0.98     30489\n",
      "           B       0.86      0.88      0.87      2456\n",
      "           I       0.90      0.89      0.89      5792\n",
      "\n",
      "    accuracy                           0.96     38737\n",
      "   macro avg       0.91      0.92      0.91     38737\n",
      "weighted avg       0.96      0.96      0.96     38737\n",
      "\n",
      "              precision    recall  f1-score   support\n",
      "\n",
      "           O       0.98      0.98      0.98     30489\n",
      "         B+I       0.91      0.91      0.91      8248\n",
      "\n",
      "    accuracy                           0.96     38737\n",
      "   macro avg       0.94      0.94      0.94     38737\n",
      "weighted avg       0.96      0.96      0.96     38737\n",
      "\n",
      "epoch 6/10\n"
     ]
    },
    {
     "name": "stderr",
     "output_type": "stream",
     "text": [
      "100%|██████████| 93/93 [02:54<00:00,  1.87s/it]\n"
     ]
    },
    {
     "name": "stdout",
     "output_type": "stream",
     "text": [
      "Epoch: 6, train loss: 0.5197888242621576\n",
      "Validate\n"
     ]
    },
    {
     "name": "stderr",
     "output_type": "stream",
     "text": [
      "100%|██████████| 24/24 [00:46<00:00,  1.95s/it]\n"
     ]
    },
    {
     "name": "stdout",
     "output_type": "stream",
     "text": [
      "epoch 7/10\n"
     ]
    },
    {
     "name": "stderr",
     "output_type": "stream",
     "text": [
      "100%|██████████| 93/93 [02:54<00:00,  1.87s/it]\n"
     ]
    },
    {
     "name": "stdout",
     "output_type": "stream",
     "text": [
      "Epoch: 7, train loss: 0.2963376118931719\n",
      "Validate\n"
     ]
    },
    {
     "name": "stderr",
     "output_type": "stream",
     "text": [
      "100%|██████████| 24/24 [00:46<00:00,  1.95s/it]\n"
     ]
    },
    {
     "name": "stdout",
     "output_type": "stream",
     "text": [
      "              precision    recall  f1-score   support\n",
      "\n",
      "           O       0.98      0.98      0.98     30489\n",
      "           B       0.87      0.89      0.88      2456\n",
      "           I       0.90      0.89      0.90      5792\n",
      "\n",
      "    accuracy                           0.96     38737\n",
      "   macro avg       0.92      0.92      0.92     38737\n",
      "weighted avg       0.96      0.96      0.96     38737\n",
      "\n",
      "              precision    recall  f1-score   support\n",
      "\n",
      "           O       0.98      0.98      0.98     30489\n",
      "         B+I       0.91      0.91      0.91      8248\n",
      "\n",
      "    accuracy                           0.96     38737\n",
      "   macro avg       0.94      0.94      0.94     38737\n",
      "weighted avg       0.96      0.96      0.96     38737\n",
      "\n",
      "epoch 8/10\n"
     ]
    },
    {
     "name": "stderr",
     "output_type": "stream",
     "text": [
      "100%|██████████| 93/93 [02:53<00:00,  1.87s/it]\n"
     ]
    },
    {
     "name": "stdout",
     "output_type": "stream",
     "text": [
      "Epoch: 8, train loss: 0.18044237968742208\n",
      "Validate\n"
     ]
    },
    {
     "name": "stderr",
     "output_type": "stream",
     "text": [
      "100%|██████████| 24/24 [00:46<00:00,  1.95s/it]\n"
     ]
    },
    {
     "name": "stdout",
     "output_type": "stream",
     "text": [
      "              precision    recall  f1-score   support\n",
      "\n",
      "           O       0.98      0.98      0.98     30489\n",
      "           B       0.88      0.89      0.88      2456\n",
      "           I       0.90      0.90      0.90      5792\n",
      "\n",
      "    accuracy                           0.96     38737\n",
      "   macro avg       0.92      0.92      0.92     38737\n",
      "weighted avg       0.96      0.96      0.96     38737\n",
      "\n",
      "              precision    recall  f1-score   support\n",
      "\n",
      "           O       0.98      0.98      0.98     30489\n",
      "         B+I       0.91      0.91      0.91      8248\n",
      "\n",
      "    accuracy                           0.96     38737\n",
      "   macro avg       0.94      0.94      0.94     38737\n",
      "weighted avg       0.96      0.96      0.96     38737\n",
      "\n",
      "epoch 9/10\n"
     ]
    },
    {
     "name": "stderr",
     "output_type": "stream",
     "text": [
      "100%|██████████| 93/93 [02:53<00:00,  1.86s/it]\n"
     ]
    },
    {
     "name": "stdout",
     "output_type": "stream",
     "text": [
      "Epoch: 9, train loss: 0.11572621794798041\n",
      "Validate\n"
     ]
    },
    {
     "name": "stderr",
     "output_type": "stream",
     "text": [
      "100%|██████████| 24/24 [00:46<00:00,  1.96s/it]\n"
     ]
    },
    {
     "name": "stdout",
     "output_type": "stream",
     "text": [
      "              precision    recall  f1-score   support\n",
      "\n",
      "           O       0.98      0.98      0.98     30489\n",
      "           B       0.88      0.88      0.88      2456\n",
      "           I       0.91      0.90      0.90      5792\n",
      "\n",
      "    accuracy                           0.96     38737\n",
      "   macro avg       0.92      0.92      0.92     38737\n",
      "weighted avg       0.96      0.96      0.96     38737\n",
      "\n",
      "              precision    recall  f1-score   support\n",
      "\n",
      "           O       0.98      0.98      0.98     30489\n",
      "         B+I       0.92      0.91      0.91      8248\n",
      "\n",
      "    accuracy                           0.96     38737\n",
      "   macro avg       0.95      0.94      0.95     38737\n",
      "weighted avg       0.96      0.96      0.96     38737\n",
      "\n",
      "epoch 10/10\n"
     ]
    },
    {
     "name": "stderr",
     "output_type": "stream",
     "text": [
      "100%|██████████| 93/93 [02:53<00:00,  1.86s/it]\n"
     ]
    },
    {
     "name": "stdout",
     "output_type": "stream",
     "text": [
      "Epoch: 10, train loss: 0.09463820374140175\n",
      "Validate\n"
     ]
    },
    {
     "name": "stderr",
     "output_type": "stream",
     "text": [
      "100%|██████████| 24/24 [00:46<00:00,  1.96s/it]\n"
     ]
    },
    {
     "name": "stdout",
     "output_type": "stream",
     "text": [
      "Training Finished\n"
     ]
    }
   ],
   "source": [
    "if __name__ == \"__main__\":\n",
    "    torch.set_default_tensor_type('torch.cuda.FloatTensor')\n",
    "    # Config\n",
    "    config = get_config()  \n",
    "    \n",
    "    # Log & output path\n",
    "    now = datetime.datetime.now()\n",
    "    run_id = np.random.randint(10000, 99999)\n",
    "    config.run_id=run_id\n",
    "    print(\"run_id\",run_id)\n",
    "    if config.output_path == \"\":\n",
    "        config.output_path = os.getcwd()\n",
    "    config.output_path = os.path.join(config.output_path, \"results\", \"run_\" + str(now.year) + \".\" + str(now.month) + \".\" + str(now.day) + \"_\" + str(run_id))\n",
    "    \n",
    "    os.makedirs(os.path.join(config.output_path, \"model\"))\n",
    "    config.output_model_path=os.path.join(config.output_path, \"model\")\n",
    "    \n",
    "    logging.basicConfig(\n",
    "        filename=os.path.join(config.output_path, \"log_\" + str(run_id) + \".txt\"), \n",
    "        filemode='w',\n",
    "        level=logging.INFO, \n",
    "        format='[%(levelname)s]%(message)s', force=True)\n",
    "    logging.info(\"PARAMETERS:\")\n",
    "    for arg in vars(config):\n",
    "        logging.info(\"{0}: {1}\".format(arg, getattr(config, arg)))\n",
    "    logging.info(\"----------\")  \n",
    "    \n",
    "    # Split Data\n",
    "    split_data(config)\n",
    "    \n",
    "    #Cross vaildation\n",
    "    cross=[1,2,3,4,5]\n",
    "    cross_true_labels={}\n",
    "    cross_pred_labels={}\n",
    "    \n",
    "    for cross_id in cross:\n",
    "        print('cross :',cross_id)\n",
    "        \n",
    "        # Model\n",
    "        BERT_CRFModel = BERT_CRF_NER(config).to(config.device)\n",
    "        BERT_CRFModel = nn.DataParallel(BERT_CRFModel) \n",
    "        \"\"\"\n",
    "        # Multi-GPU parallel\n",
    "        BERT_CRFModel = nn.DataParallel(BERT_CRFModel) \n",
    "        if isinstance(BERT_CRFModel,torch.nn.DataParallel):\n",
    "            BERT_CRFModel = BERT_CRFModel.module         \n",
    "        \"\"\"\n",
    "        # model ==> model.module   \n",
    "        # Prepare optimizer    full_fine_tuning\n",
    "        bert_optimizer = list(BERT_CRFModel.module.bert.named_parameters())\n",
    "        classifier_optimizer = list(BERT_CRFModel.module.classifier.named_parameters())\n",
    "        no_decay = ['bias', 'LayerNorm.bias', 'LayerNorm.weight']\n",
    "        optimizer_grouped_parameters = [\n",
    "            {'params': [p for n, p in bert_optimizer if not any(nd in n for nd in no_decay)],\n",
    "             'weight_decay': config.weight_decay},\n",
    "            {'params': [p for n, p in bert_optimizer if any(nd in n for nd in no_decay)],\n",
    "             'weight_decay': 0.0},\n",
    "            {'params': [p for n, p in classifier_optimizer if not any(nd in n for nd in no_decay)],\n",
    "             'lr': config.learning_rate * 5, 'weight_decay': config.weight_decay},\n",
    "            {'params': [p for n, p in classifier_optimizer if any(nd in n for nd in no_decay)],\n",
    "             'lr': config.learning_rate * 5, 'weight_decay': 0.0},\n",
    "            {'params': BERT_CRFModel.module.crf.parameters(), 'lr': config.learning_rate * 5}\n",
    "        ]\n",
    "        optimizer = AdamW(optimizer_grouped_parameters, lr=config.learning_rate, correct_bias=False)       \n",
    "        \n",
    "        # Load data\n",
    "        with open(os.path.join(config.input_data_path,\"train_split{}.pkl\".format(cross_id)), 'rb') as file:\n",
    "            train_df=pickle.load(file)\n",
    "        with open(os.path.join(config.input_data_path,\"test_split{}.pkl\".format(cross_id)), 'rb') as file:\n",
    "            test_df=pickle.load(file)\n",
    "        print(\"traindata:\",len(train_df),\"testdata:\",len(test_df))\n",
    "        \n",
    "        train_encodings, valid_encodings=get_encoding(train_df), get_encoding(test_df)\n",
    "        train_labels, valid_labels = train_df['labels'].tolist(),test_df['labels'].tolist()\n",
    "\n",
    "        training_dataset = Dataset(train_encodings, train_labels, config)\n",
    "        validation_dataset = Dataset(valid_encodings, valid_labels, config)    \n",
    "\n",
    "        training_dataloader = DataLoader(training_dataset, batch_size=config.batch_size, num_workers=0, shuffle=False,collate_fn=collate_func,generator=torch.Generator(device = config.device))\n",
    "        validation_dataloader = DataLoader(validation_dataset, batch_size=config.batch_size, num_workers=0, shuffle=False,collate_fn=collate_func,generator=torch.Generator(device = config.device)) \n",
    "\n",
    "        # Dynamic learning rate adjustment\n",
    "        train_steps_per_epoch = len(training_dataset) // config.batch_size\n",
    "        scheduler = get_cosine_schedule_with_warmup(optimizer,\n",
    "                                                num_warmup_steps=(config.epoch_num // 10) * train_steps_per_epoch, \n",
    "                                                num_training_steps=config.epoch_num * train_steps_per_epoch)\n",
    "        \n",
    "        #Train the model\n",
    "        logging.info(\"--------Start Training--------\")\n",
    "        logging.info(f\"---------------------cross_id: {cross_id}------------------------\")\n",
    "        #BERT_CRFModel = nn.DataParallel(BERT_CRFModel) \n",
    "        true_labels,pred_labels=train(BERT_CRFModel,training_dataloader,validation_dataloader,optimizer,scheduler,config,cross_id) \n",
    "        cross_true_labels['cross_true_labels_{}'.format(cross_id)]=true_labels\n",
    "        cross_pred_labels['cross_pred_labels_{}'.format(cross_id)]=pred_labels\n",
    "        \n",
    "    cross_result_labels={}\n",
    "    cross_result_labels['cross_true_labels']=cross_true_labels\n",
    "    cross_result_labels['cross_pred_labels']=cross_pred_labels\n",
    "\n",
    "    json_file = open(os.path.join(config.output_data_path,'cross_result_labels.json'), mode=\"w\")\n",
    "    json.dump(cross_result_labels, json_file, indent=1, ensure_ascii=False)\n",
    "    json_file.close()        \n",
    "    "
   ]
  },
  {
   "cell_type": "markdown",
   "id": "fb73203b",
   "metadata": {},
   "source": [
    "    \"\"\"\n",
    "    cross_result_labels=\n",
    "    {\n",
    "    cross_pred_labels:{\n",
    "    cross_pred_labels_1:{}\n",
    "    cross_pred_labels_2:{}\n",
    "    cross_pred_labels_3:{}\n",
    "    cross_pred_labels_4:{}\n",
    "    cross_pred_labels_5:{}\n",
    "    }\n",
    "    cross_true_labels:{\n",
    "    cross_true_labels_1:{}\n",
    "    cross_true_labels_2:{}\n",
    "    cross_true_labels_3:{}\n",
    "    cross_true_labels_4:{}\n",
    "    cross_true_labels_5:{}    \n",
    "    }}\n",
    "    \n",
    "    \"\"\""
   ]
  },
  {
   "cell_type": "markdown",
   "id": "73c7131c",
   "metadata": {},
   "source": [
    "# Evaluation"
   ]
  },
  {
   "cell_type": "code",
   "execution_count": 35,
   "id": "a86aa5d4",
   "metadata": {},
   "outputs": [],
   "source": [
    "import jaconv\n",
    "from pretty_confusion_matrix import pp_matrix"
   ]
  },
  {
   "cell_type": "markdown",
   "id": "97aa3498",
   "metadata": {},
   "source": [
    "## pred_pick"
   ]
  },
  {
   "cell_type": "markdown",
   "id": "544842c9",
   "metadata": {},
   "source": [
    "**pred_pick：モデルによって検出した有害事象**\n",
    "<br>\n",
    "**label_words：pick_wordsによってannotationしたデータ、プログラミングによってラベル付けたので、ノイズが存在している、元のpick_wordsと間違うところがある**"
   ]
  },
  {
   "cell_type": "code",
   "execution_count": 15,
   "id": "f57533cb",
   "metadata": {},
   "outputs": [],
   "source": [
    "#「＃＃」を消す 連続するトークンを結合する \n",
    "def pick_words(row):\n",
    "    pick_word_=[]\n",
    "    for i in range(len(row)):\n",
    "        pick_word_.append(''.join([s.replace('##', '') for s in row[i]]))      \n",
    "    return pick_word_"
   ]
  },
  {
   "cell_type": "code",
   "execution_count": 16,
   "id": "6e01d05f",
   "metadata": {},
   "outputs": [],
   "source": [
    "def get_result_df(x,t):\n",
    "    if t=='preds':\n",
    "        df=pd.DataFrame({\n",
    "        'token': [s.replace('##', '') for s in x['tokens']],\n",
    "        'preds':[1 if x['preds'][i]==2 else x['preds'][i] for i in range(len(x['preds']))],\n",
    "        'th': [i== 1 or i==2 for i in x['preds']]\n",
    "    })\n",
    "    if t=='labels':\n",
    "        df=pd.DataFrame({\n",
    "        'token': [s.replace('##', '') for s in x['tokens']],\n",
    "        'labels':[1 if x['labels'][i]==2 else x['labels'][i] for i in range(len(x['labels']))],\n",
    "        'th': [i== 1 or i==2 for i in x['labels']]\n",
    "    })\n",
    "    return df"
   ]
  },
  {
   "cell_type": "code",
   "execution_count": 17,
   "id": "106ca928",
   "metadata": {},
   "outputs": [],
   "source": [
    "def join_words(df):\n",
    "    df['group'] = df['th'].diff(1).cumsum().fillna(0)\n",
    "    df_g = df[df['th']].groupby('group').agg({\n",
    "        'token':lambda x: ''.join(x.to_list())\n",
    "        })\n",
    "    df_g = df_g.drop_duplicates('token')\n",
    "    elminated_tokens = ['。', '、', '(', ')', 'なし', 'いる', ':', '-']\n",
    "    df_g = df_g[~df_g['token'].isin(elminated_tokens)]\n",
    "    return df_g"
   ]
  },
  {
   "cell_type": "code",
   "execution_count": 114,
   "id": "fb9a060e",
   "metadata": {},
   "outputs": [],
   "source": [
    "def pred_pick(result_df):\n",
    "    # pick_words「＃＃」を消す 連続するトークンを結合する \n",
    "    #result_df['pick_words']=result_df['pick_word_tokens'].apply(lambda x:pick_words(x))\n",
    "\n",
    "    # labels連続するトークンを結合する\n",
    "    result_df['df']=result_df.apply(lambda x:get_result_df(x,'labels'),axis=1 )\n",
    "    result_df['df_label_words'] = result_df['df'].apply(lambda x: join_words(x))\n",
    "    result_df['label_words'] = result_df['df_label_words'].apply(lambda x: x['token'].to_list())\n",
    "    result_df['label_words'] = result_df['label_words'].apply(lambda x: x if len(x)>0 else ['検出なし'])\n",
    "    #半角・全角ローマ字の相互変換 半角==>全角\n",
    "    result_df['label_words'] = result_df['label_words'].apply(lambda x: [(jaconv.h2z(i, kana=True, digit=True, ascii=True)) for i in x])\n",
    "    \n",
    "    # preds連続するトークンを結合する\n",
    "    result_df['df']=result_df.apply(lambda x:get_result_df(x,'preds'),axis=1 )\n",
    "    result_df['df_pred_pick'] = result_df['df'].apply(lambda x: join_words(x))\n",
    "    result_df['pred_pick'] = result_df['df_pred_pick'].apply(lambda x: x['token'].to_list())\n",
    "    result_df['pred_pick'] = result_df['pred_pick'].apply(lambda x: x if len(x)>0 else ['検出なし'])\n",
    "    #半角・全角ローマ字の相互変換 半角==>全角\n",
    "    result_df['pred_pick'] = result_df['pred_pick'].apply(lambda x: [(jaconv.h2z(i, kana=True, digit=True, ascii=True)) for i in x])\n",
    "        \n",
    "    result_df=result_df.drop(columns=['df','df_label_words','df_pred_pick'])\n",
    "    return result_df"
   ]
  },
  {
   "cell_type": "markdown",
   "id": "f1f396e4",
   "metadata": {},
   "source": [
    "## result_pick"
   ]
  },
  {
   "cell_type": "markdown",
   "id": "9bf27a70",
   "metadata": {},
   "source": [
    "**モデルが検出した有害事象pred_pickの中で、正解データ以外のAEが存在しているので、正解データ以外のAEを除外した**"
   ]
  },
  {
   "cell_type": "code",
   "execution_count": 115,
   "id": "254284c2",
   "metadata": {},
   "outputs": [],
   "source": [
    "def result_pick(result_df):\n",
    "    # pick_wordが含まれるor含んでいる場合True\n",
    "    result_df=result_df.rename(columns={'pick_words_new':'pick_words'}) \n",
    "    ##半角・全角ローマ字の相互変換 全角==>半角\n",
    "    #result_df['pick_words'] = result_df['pick_words'].apply(lambda x: [(jaconv.z2h(i, kana=False, digit=True, ascii=True)) for i in x])\n",
    "    #半角・全角の相互変換 半角==>全角\n",
    "    result_df['pick_words'] = result_df['pick_words'].apply(lambda x: [(jaconv.h2z(i, kana=True, digit=True, ascii=True)) for i in x])\n",
    "\n",
    "    result_df['result_pick'] = result_df.apply(lambda x: [], axis=1)\n",
    "    for i in range(100):\n",
    "        result_df['result_pick'] = result_df.apply(\n",
    "            lambda x: [w for w in x['pred_pick'] if (w in x['pick_words'][i]) or (x['pick_words'][i] in w)] + x['result_pick'] if len(x['pick_words'])> i else x['result_pick'], axis=1)\n",
    "    return result_df"
   ]
  },
  {
   "cell_type": "markdown",
   "id": "e0dd7675",
   "metadata": {},
   "source": [
    "## miss_pick"
   ]
  },
  {
   "cell_type": "markdown",
   "id": "da5f8613",
   "metadata": {},
   "source": [
    "**被っている場合を考えて、検出されないAE**"
   ]
  },
  {
   "cell_type": "code",
   "execution_count": 106,
   "id": "850ee0b5",
   "metadata": {},
   "outputs": [],
   "source": [
    "def miss_pick_filter_fun(result_pick,missed_pick):\n",
    "    _=[] \n",
    "    for i in result_pick:\n",
    "        for j in missed_pick:\n",
    "            if j in i or i in j:\n",
    "                _.append(j)    \n",
    "    return _"
   ]
  },
  {
   "cell_type": "code",
   "execution_count": 107,
   "id": "14530a58",
   "metadata": {},
   "outputs": [],
   "source": [
    "def miss_pick(result_df,filter_fun):\n",
    "    result_df['missed_pick']=result_df.apply(lambda x:[ i for i in x['pick_words'] if i not in x['result_pick'] or i not in x['pred_pick']]  ,axis=1)\n",
    "    \n",
    "    result_df['missed_pick']=result_df.apply(lambda x:[i for i in x['missed_pick'] if i not in filter_fun(x['result_pick'],x['missed_pick'])]  ,axis=1)\n",
    "    \n",
    "    return result_df"
   ]
  },
  {
   "cell_type": "markdown",
   "id": "7710848a",
   "metadata": {},
   "source": [
    "## extra_pick"
   ]
  },
  {
   "cell_type": "markdown",
   "id": "5ebbedf1",
   "metadata": {},
   "source": [
    "**正解データpick_words以外の検出したAEを抽出した(extra_pick ＝ pred_pick ― result_pick)**"
   ]
  },
  {
   "cell_type": "code",
   "execution_count": 108,
   "id": "5842b152",
   "metadata": {},
   "outputs": [],
   "source": [
    "def extra_pick(result_df):\n",
    "    result_df['extra_pick']=result_df.apply(lambda x:[ i for i in x['pred_pick'] if i not in x['result_pick'] and i!='検出なし' and len(i)!=1 and i!='[UNK]'] ,axis=1)\n",
    "    return result_df"
   ]
  },
  {
   "cell_type": "markdown",
   "id": "77df217d",
   "metadata": {},
   "source": [
    "## 集計"
   ]
  },
  {
   "cell_type": "code",
   "execution_count": 109,
   "id": "0a59fe2a",
   "metadata": {},
   "outputs": [],
   "source": [
    "def process_test_df(cross_result_labels,config):\n",
    "    \n",
    "    test_df=pd.DataFrame({})\n",
    "    cross=[1,2,3,4,5]\n",
    "\n",
    "    for cross_id in cross:\n",
    "        print('cross :', cross_id)\n",
    "        with open(os.path.join(config.input_data_path,\"test_split{}.pkl\".format(cross_id)), 'rb') as file:\n",
    "            test_result_df=pickle.load(file)\n",
    "\n",
    "        #test_result_df=test_df.copy()\n",
    "        test_result_df['tokens']=test_result_df['tokens'].apply(lambda x:[i for i in x if (i!='[CLS]'and i!='[SEP]' and i!='[PAD]')==True ])\n",
    "\n",
    "        true_labels=cross_result_labels['cross_true_labels']['cross_true_labels_{}'.format(cross_id)]\n",
    "        pred_labels=cross_result_labels['cross_pred_labels']['cross_pred_labels_{}'.format(cross_id)]\n",
    "\n",
    "        test_result_df['labels']=true_labels\n",
    "        test_result_df['preds']=pred_labels\n",
    "        #test_result_df['pick_words']=test_result_df['pick_word_tokens']\n",
    "\n",
    "        for i,row in test_result_df.iterrows():\n",
    "            assert len(row['tokens'])==len(row['labels'])==len(row['preds'])      \n",
    "\n",
    "        # pred_pick   \n",
    "        test_result_df=pred_pick(test_result_df)   \n",
    "        print('cross_', cross_id,' pred_pick complete')\n",
    "\n",
    "        # result_pick   \n",
    "        test_result_df=result_pick(test_result_df)   \n",
    "        print('cross_', cross_id,' result_pick complete')\n",
    "\n",
    "        # miss_pick\n",
    "        test_result_df=miss_pick(test_result_df,miss_pick_filter_fun) \n",
    "        print('cross_', cross_id,' miss_pick complete')\n",
    "\n",
    "        # extra_pick\n",
    "        test_result_df=extra_pick(test_result_df)  \n",
    "        print('cross_', cross_id,' extra_pick complete')\n",
    "\n",
    "        test_df=pd.concat([test_df,test_result_df],ignore_index=False)\n",
    "    \n",
    "    return test_df"
   ]
  },
  {
   "cell_type": "code",
   "execution_count": 116,
   "id": "d20ea447",
   "metadata": {},
   "outputs": [
    {
     "name": "stdout",
     "output_type": "stream",
     "text": [
      "cross : 1\n",
      "cross_ 1  pred_pick complete\n",
      "cross_ 1  result_pick complete\n",
      "cross_ 1  miss_pick complete\n",
      "cross_ 1  extra_pick complete\n",
      "cross : 2\n",
      "cross_ 2  pred_pick complete\n",
      "cross_ 2  result_pick complete\n",
      "cross_ 2  miss_pick complete\n",
      "cross_ 2  extra_pick complete\n",
      "cross : 3\n",
      "cross_ 3  pred_pick complete\n",
      "cross_ 3  result_pick complete\n",
      "cross_ 3  miss_pick complete\n",
      "cross_ 3  extra_pick complete\n",
      "cross : 4\n",
      "cross_ 4  pred_pick complete\n",
      "cross_ 4  result_pick complete\n",
      "cross_ 4  miss_pick complete\n",
      "cross_ 4  extra_pick complete\n",
      "cross : 5\n",
      "cross_ 5  pred_pick complete\n",
      "cross_ 5  result_pick complete\n",
      "cross_ 5  miss_pick complete\n",
      "cross_ 5  extra_pick complete\n"
     ]
    }
   ],
   "source": [
    "# load cross_validation_test_result_labels\n",
    "test_df=process_test_df(cross_result_labels,config)"
   ]
  },
  {
   "cell_type": "markdown",
   "id": "431fa0f5",
   "metadata": {},
   "source": [
    "**pick_words**:元の正解データ\n",
    "<br>\n",
    "**label_words**：pick_wordsによってannotationしたデータ、プログラミングによってラベル付けたので、ノイズが存在している、元のpick_wordsと間違うところがある\n",
    "<br>\n",
    "**pred_pick**：モデルによって検出した有害事象\n",
    "<br>\n",
    "**result_pick**：モデルが検出した有害事象pred_pickの中で、正解データ以外のAEが存在しているので、正解データ以外のAEを除外した\n",
    "<br>\n",
    "**missed_pick**：被っている場合を考えて、元の正解データpick_wordsの中で、pred_pickが検出しなかった有害事象(missed_pick ＝ pick_words ― result_pick)\n",
    "<br>\n",
    "**extra_pick**：正解データpick_words以外の検出したAEを抽出した　(extra_pick ＝ pred_pick ― result_pick)"
   ]
  },
  {
   "cell_type": "code",
   "execution_count": 117,
   "id": "9756d541",
   "metadata": {},
   "outputs": [],
   "source": [
    "test_result_df=test_df.copy()"
   ]
  },
  {
   "cell_type": "code",
   "execution_count": 118,
   "id": "8021cd41",
   "metadata": {
    "scrolled": false
   },
   "outputs": [
    {
     "data": {
      "text/html": [
       "<div>\n",
       "<style scoped>\n",
       "    .dataframe tbody tr th:only-of-type {\n",
       "        vertical-align: middle;\n",
       "    }\n",
       "\n",
       "    .dataframe tbody tr th {\n",
       "        vertical-align: top;\n",
       "    }\n",
       "\n",
       "    .dataframe thead th {\n",
       "        text-align: right;\n",
       "    }\n",
       "</style>\n",
       "<table border=\"1\" class=\"dataframe\">\n",
       "  <thead>\n",
       "    <tr style=\"text-align: right;\">\n",
       "      <th></th>\n",
       "      <th>row</th>\n",
       "      <th>pick_words</th>\n",
       "      <th>label_words</th>\n",
       "      <th>pred_pick</th>\n",
       "      <th>result_pick</th>\n",
       "      <th>missed_pick</th>\n",
       "      <th>extra_pick</th>\n",
       "    </tr>\n",
       "  </thead>\n",
       "  <tbody>\n",
       "    <tr>\n",
       "      <th>21</th>\n",
       "      <td>2020/09/05下痢(GR1)は回復、それ以降発現なし。</td>\n",
       "      <td>[下痢]</td>\n",
       "      <td>[下痢]</td>\n",
       "      <td>[下痢]</td>\n",
       "      <td>[下痢]</td>\n",
       "      <td>[]</td>\n",
       "      <td>[]</td>\n",
       "    </tr>\n",
       "    <tr>\n",
       "      <th>28</th>\n",
       "      <td>2021/07月よりリムパーザ錠600MG/日使用開始、リムパーザ錠投与により貧血が発現が認...</td>\n",
       "      <td>[貧血]</td>\n",
       "      <td>[貧血]</td>\n",
       "      <td>[貧血]</td>\n",
       "      <td>[貧血]</td>\n",
       "      <td>[]</td>\n",
       "      <td>[]</td>\n",
       "    </tr>\n",
       "    <tr>\n",
       "      <th>33</th>\n",
       "      <td>2021/09月上旬頃400MGへ減量。2021/09月中旬悪心、倦怠感は軽快した。</td>\n",
       "      <td>[悪心, 倦怠感]</td>\n",
       "      <td>[悪心, 倦怠感]</td>\n",
       "      <td>[悪心, 倦怠感]</td>\n",
       "      <td>[倦怠感, 悪心]</td>\n",
       "      <td>[]</td>\n",
       "      <td>[]</td>\n",
       "    </tr>\n",
       "    <tr>\n",
       "      <th>34</th>\n",
       "      <td>CTにて放射線肺臓炎に悪化ないことを確認し、放射性肺臓炎、肝機能障害は回復。</td>\n",
       "      <td>[放射線肺臓炎, 放射性肺臓炎, 肝機能障害]</td>\n",
       "      <td>[放射線肺臓炎, 放射性肺臓炎, 肝機能障害]</td>\n",
       "      <td>[放射線肺臓炎, 放射性肺臓炎, 肝機能障害]</td>\n",
       "      <td>[肝機能障害, 放射性肺臓炎, 放射線肺臓炎]</td>\n",
       "      <td>[]</td>\n",
       "      <td>[]</td>\n",
       "    </tr>\n",
       "    <tr>\n",
       "      <th>39</th>\n",
       "      <td>2022/01月、レビー小体型認知症の転帰の変化はなくドメべジシ継続。</td>\n",
       "      <td>[レビー小体型認知症, レビー小体型]</td>\n",
       "      <td>[レビー小体型認知症]</td>\n",
       "      <td>[小体型認知症]</td>\n",
       "      <td>[小体型認知症]</td>\n",
       "      <td>[レビー小体型]</td>\n",
       "      <td>[]</td>\n",
       "    </tr>\n",
       "    <tr>\n",
       "      <th>44</th>\n",
       "      <td>2022/03/17からタグリッソ錠80MG/日の服用開始し始めた患者が、2、3日前(202...</td>\n",
       "      <td>[皮疹]</td>\n",
       "      <td>[皮疹]</td>\n",
       "      <td>[皮疹]</td>\n",
       "      <td>[皮疹]</td>\n",
       "      <td>[]</td>\n",
       "      <td>[]</td>\n",
       "    </tr>\n",
       "    <tr>\n",
       "      <th>45</th>\n",
       "      <td>2022/03/18の早朝から、目がぐるぐる回る。</td>\n",
       "      <td>[目がぐるぐる回る]</td>\n",
       "      <td>[目がぐるぐる回る]</td>\n",
       "      <td>[目がぐるぐる回る]</td>\n",
       "      <td>[目がぐるぐる回る]</td>\n",
       "      <td>[]</td>\n",
       "      <td>[]</td>\n",
       "    </tr>\n",
       "    <tr>\n",
       "      <th>54</th>\n",
       "      <td>2週間後肺障害GRADE3発現。</td>\n",
       "      <td>[肺障害]</td>\n",
       "      <td>[肺障害]</td>\n",
       "      <td>[肺障害]</td>\n",
       "      <td>[肺障害]</td>\n",
       "      <td>[]</td>\n",
       "      <td>[]</td>\n",
       "    </tr>\n",
       "    <tr>\n",
       "      <th>57</th>\n",
       "      <td>38.5°Cの一時的な発熱があり、CT検査をしたところ右の肺に影が見つかり。</td>\n",
       "      <td>[発熱, 右の肺に影が見つかり]</td>\n",
       "      <td>[発熱が, 右の肺に影が見つかり]</td>\n",
       "      <td>[発熱]</td>\n",
       "      <td>[発熱]</td>\n",
       "      <td>[右の肺に影が見つかり]</td>\n",
       "      <td>[]</td>\n",
       "    </tr>\n",
       "    <tr>\n",
       "      <th>58</th>\n",
       "      <td>38.8°Cの一時的な発熱があり。</td>\n",
       "      <td>[発熱]</td>\n",
       "      <td>[発熱]</td>\n",
       "      <td>[発熱]</td>\n",
       "      <td>[発熱]</td>\n",
       "      <td>[]</td>\n",
       "      <td>[]</td>\n",
       "    </tr>\n",
       "  </tbody>\n",
       "</table>\n",
       "</div>"
      ],
      "text/plain": [
       "                                                  row  \\\n",
       "21                     2020/09/05下痢(GR1)は回復、それ以降発現なし。   \n",
       "28  2021/07月よりリムパーザ錠600MG/日使用開始、リムパーザ錠投与により貧血が発現が認...   \n",
       "33         2021/09月上旬頃400MGへ減量。2021/09月中旬悪心、倦怠感は軽快した。   \n",
       "34             CTにて放射線肺臓炎に悪化ないことを確認し、放射性肺臓炎、肝機能障害は回復。   \n",
       "39                2022/01月、レビー小体型認知症の転帰の変化はなくドメべジシ継続。   \n",
       "44  2022/03/17からタグリッソ錠80MG/日の服用開始し始めた患者が、2、3日前(202...   \n",
       "45                          2022/03/18の早朝から、目がぐるぐる回る。   \n",
       "54                                   2週間後肺障害GRADE3発現。   \n",
       "57             38.5°Cの一時的な発熱があり、CT検査をしたところ右の肺に影が見つかり。   \n",
       "58                                  38.8°Cの一時的な発熱があり。   \n",
       "\n",
       "                 pick_words              label_words                pred_pick  \\\n",
       "21                     [下痢]                     [下痢]                     [下痢]   \n",
       "28                     [貧血]                     [貧血]                     [貧血]   \n",
       "33                [悪心, 倦怠感]                [悪心, 倦怠感]                [悪心, 倦怠感]   \n",
       "34  [放射線肺臓炎, 放射性肺臓炎, 肝機能障害]  [放射線肺臓炎, 放射性肺臓炎, 肝機能障害]  [放射線肺臓炎, 放射性肺臓炎, 肝機能障害]   \n",
       "39      [レビー小体型認知症, レビー小体型]              [レビー小体型認知症]                 [小体型認知症]   \n",
       "44                     [皮疹]                     [皮疹]                     [皮疹]   \n",
       "45               [目がぐるぐる回る]               [目がぐるぐる回る]               [目がぐるぐる回る]   \n",
       "54                    [肺障害]                    [肺障害]                    [肺障害]   \n",
       "57         [発熱, 右の肺に影が見つかり]        [発熱が, 右の肺に影が見つかり]                     [発熱]   \n",
       "58                     [発熱]                     [発熱]                     [発熱]   \n",
       "\n",
       "                result_pick   missed_pick extra_pick  \n",
       "21                     [下痢]            []         []  \n",
       "28                     [貧血]            []         []  \n",
       "33                [倦怠感, 悪心]            []         []  \n",
       "34  [肝機能障害, 放射性肺臓炎, 放射線肺臓炎]            []         []  \n",
       "39                 [小体型認知症]      [レビー小体型]         []  \n",
       "44                     [皮疹]            []         []  \n",
       "45               [目がぐるぐる回る]            []         []  \n",
       "54                    [肺障害]            []         []  \n",
       "57                     [発熱]  [右の肺に影が見つかり]         []  \n",
       "58                     [発熱]            []         []  "
      ]
     },
     "execution_count": 118,
     "metadata": {},
     "output_type": "execute_result"
    }
   ],
   "source": [
    "test_result_df[['row', 'pick_words','label_words','pred_pick','result_pick','missed_pick','extra_pick']].head(10)"
   ]
  },
  {
   "cell_type": "code",
   "execution_count": 75,
   "id": "57fbe645",
   "metadata": {},
   "outputs": [
    {
     "data": {
      "text/html": [
       "<div>\n",
       "<style scoped>\n",
       "    .dataframe tbody tr th:only-of-type {\n",
       "        vertical-align: middle;\n",
       "    }\n",
       "\n",
       "    .dataframe tbody tr th {\n",
       "        vertical-align: top;\n",
       "    }\n",
       "\n",
       "    .dataframe thead th {\n",
       "        text-align: right;\n",
       "    }\n",
       "</style>\n",
       "<table border=\"1\" class=\"dataframe\">\n",
       "  <thead>\n",
       "    <tr style=\"text-align: right;\">\n",
       "      <th></th>\n",
       "      <th>row</th>\n",
       "      <th>pick_words</th>\n",
       "      <th>label_words</th>\n",
       "      <th>pred_pick</th>\n",
       "      <th>result_pick</th>\n",
       "      <th>missed_pick</th>\n",
       "      <th>extra_pick</th>\n",
       "    </tr>\n",
       "  </thead>\n",
       "  <tbody>\n",
       "    <tr>\n",
       "      <th>5999</th>\n",
       "      <td>G3の貧血、WBC:5100→2600→2700(重篤でない)の転帰は不明。</td>\n",
       "      <td>[貧血, WBC:5100→2600→2700]</td>\n",
       "      <td>[貧血, WBC:5100→2600→2700]</td>\n",
       "      <td>[貧血, WBC:5100→2600→2700]</td>\n",
       "      <td>[WBC:5100→2600→2700, 貧血]</td>\n",
       "      <td>[]</td>\n",
       "      <td>[]</td>\n",
       "    </tr>\n",
       "  </tbody>\n",
       "</table>\n",
       "</div>"
      ],
      "text/plain": [
       "                                         row                pick_words  \\\n",
       "5999  G3の貧血、WBC:5100→2600→2700(重篤でない)の転帰は不明。  [貧血, WBC:5100→2600→2700]   \n",
       "\n",
       "                   label_words                 pred_pick  \\\n",
       "5999  [貧血, WBC:5100→2600→2700]  [貧血, WBC:5100→2600→2700]   \n",
       "\n",
       "                   result_pick missed_pick extra_pick  \n",
       "5999  [WBC:5100→2600→2700, 貧血]          []         []  "
      ]
     },
     "execution_count": 75,
     "metadata": {},
     "output_type": "execute_result"
    }
   ],
   "source": [
    "row='G3の貧血、WBC:5100→2600→2700(重篤でない)の転帰は不明。'\n",
    "test_result_df[test_result_df['row']==row][['row', 'pick_words','label_words','pred_pick','result_pick','missed_pick','extra_pick']]"
   ]
  },
  {
   "cell_type": "code",
   "execution_count": 101,
   "id": "fe7e1556",
   "metadata": {},
   "outputs": [
    {
     "data": {
      "text/html": [
       "<div>\n",
       "<style scoped>\n",
       "    .dataframe tbody tr th:only-of-type {\n",
       "        vertical-align: middle;\n",
       "    }\n",
       "\n",
       "    .dataframe tbody tr th {\n",
       "        vertical-align: top;\n",
       "    }\n",
       "\n",
       "    .dataframe thead th {\n",
       "        text-align: right;\n",
       "    }\n",
       "</style>\n",
       "<table border=\"1\" class=\"dataframe\">\n",
       "  <thead>\n",
       "    <tr style=\"text-align: right;\">\n",
       "      <th></th>\n",
       "      <th>row</th>\n",
       "      <th>pick_words</th>\n",
       "      <th>label_words</th>\n",
       "      <th>pred_pick</th>\n",
       "      <th>result_pick</th>\n",
       "      <th>missed_pick</th>\n",
       "      <th>extra_pick</th>\n",
       "    </tr>\n",
       "  </thead>\n",
       "  <tbody>\n",
       "    <tr>\n",
       "      <th>5999</th>\n",
       "      <td>G3の貧血、WBC:5100→2600→2700(重篤でない)の転帰は不明。</td>\n",
       "      <td>[貧血, ＷＢＣ：５１００→２６００→２７００]</td>\n",
       "      <td>[貧血, ＷＢＣ：５１００→２６００→２７００]</td>\n",
       "      <td>[貧血, ＷＢＣ：５１００→２６００→２７００]</td>\n",
       "      <td>[ＷＢＣ：５１００→２６００→２７００, 貧血]</td>\n",
       "      <td>[]</td>\n",
       "      <td>[]</td>\n",
       "    </tr>\n",
       "  </tbody>\n",
       "</table>\n",
       "</div>"
      ],
      "text/plain": [
       "                                         row                pick_words  \\\n",
       "5999  G3の貧血、WBC:5100→2600→2700(重篤でない)の転帰は不明。  [貧血, ＷＢＣ：５１００→２６００→２７００]   \n",
       "\n",
       "                   label_words                 pred_pick  \\\n",
       "5999  [貧血, ＷＢＣ：５１００→２６００→２７００]  [貧血, ＷＢＣ：５１００→２６００→２７００]   \n",
       "\n",
       "                   result_pick missed_pick extra_pick  \n",
       "5999  [ＷＢＣ：５１００→２６００→２７００, 貧血]          []         []  "
      ]
     },
     "execution_count": 101,
     "metadata": {},
     "output_type": "execute_result"
    }
   ],
   "source": [
    "row='G3の貧血、WBC:5100→2600→2700(重篤でない)の転帰は不明。'\n",
    "test_result_df[test_result_df['row']==row][['row', 'pick_words','label_words','pred_pick','result_pick','missed_pick','extra_pick']]"
   ]
  },
  {
   "cell_type": "code",
   "execution_count": 119,
   "id": "613f7526",
   "metadata": {},
   "outputs": [
    {
     "name": "stdout",
     "output_type": "stream",
     "text": [
      "AE recall: 0.9622513868218103\n",
      "AE precision: 0.9647314161692893\n"
     ]
    }
   ],
   "source": [
    "test_result_df['result'] = test_result_df.apply(lambda x: True if len(x['result_pick']) >= len(x['pick_words']) else False, axis=1)\n",
    "# 検出がある行を抽出\n",
    "df_pick_true = test_result_df[test_result_df['pred_pick'].apply(lambda x: x != ['検出なし'])]\n",
    "\n",
    "print('AE recall:', len(test_result_df[test_result_df['result']==True]) / len(test_result_df))\n",
    "print('AE precision:', len(df_pick_true[df_pick_true['result']]) / len(df_pick_true))"
   ]
  },
  {
   "cell_type": "markdown",
   "id": "4e559abf",
   "metadata": {},
   "source": [
    "**output test_result_df**"
   ]
  },
  {
   "cell_type": "code",
   "execution_count": 120,
   "id": "d9499432",
   "metadata": {},
   "outputs": [],
   "source": [
    "with open('output_data/test_result_df.pkl', 'wb') as file:\n",
    "    pickle.dump(test_result_df, file)"
   ]
  },
  {
   "cell_type": "code",
   "execution_count": null,
   "id": "d2c63bb3",
   "metadata": {},
   "outputs": [],
   "source": []
  },
  {
   "cell_type": "code",
   "execution_count": 79,
   "id": "b7c76701",
   "metadata": {},
   "outputs": [
    {
     "data": {
      "text/plain": [
       "'COVID-19'"
      ]
     },
     "execution_count": 79,
     "metadata": {},
     "output_type": "execute_result"
    }
   ],
   "source": [
    "(jaconv.z2h('COVID-19', kana=False, digit=True, ascii=True))"
   ]
  },
  {
   "cell_type": "code",
   "execution_count": 113,
   "id": "b814d106",
   "metadata": {},
   "outputs": [
    {
     "data": {
      "text/plain": [
       "'ＣＯＶＩＤー１９'"
      ]
     },
     "execution_count": 113,
     "metadata": {},
     "output_type": "execute_result"
    }
   ],
   "source": [
    "(jaconv.h2z('COVIDー19', kana=True, digit=True, ascii=True))\n"
   ]
  },
  {
   "cell_type": "markdown",
   "id": "64353fc5",
   "metadata": {},
   "source": [
    "**Confusion Matrix**"
   ]
  },
  {
   "cell_type": "markdown",
   "id": "2789ae11",
   "metadata": {},
   "source": [
    "**0 1 2の単位で**"
   ]
  },
  {
   "cell_type": "code",
   "execution_count": 35,
   "id": "c0520a07",
   "metadata": {},
   "outputs": [],
   "source": [
    "with open('output_data/cross_result_labels_2.json', 'rb') as file:\n",
    "    cross_result_labels=json.load(file)\n",
    "\n",
    "cross=[1,2,3,4,5]\n",
    "true_labels,pred_labels=[],[]\n",
    "for cross_id in cross:\n",
    "    #print('cross :', cross_id)\n",
    "\n",
    "    true_label=cross_result_labels['cross_true_labels']['cross_true_labels_{}'.format(cross_id)]\n",
    "    pred_label=cross_result_labels['cross_pred_labels']['cross_pred_labels_{}'.format(cross_id)]\n",
    "    true_labels=true_labels+true_label\n",
    "    pred_labels=pred_labels+pred_label"
   ]
  },
  {
   "cell_type": "code",
   "execution_count": 38,
   "id": "d063025f",
   "metadata": {},
   "outputs": [
    {
     "name": "stdout",
     "output_type": "stream",
     "text": [
      "              precision    recall  f1-score   support\n",
      "\n",
      "           O       0.98      0.98      0.98    155385\n",
      "           B       0.89      0.89      0.89     12303\n",
      "           I       0.92      0.90      0.91     28588\n",
      "\n",
      "    accuracy                           0.96    196276\n",
      "   macro avg       0.93      0.92      0.93    196276\n",
      "weighted avg       0.96      0.96      0.96    196276\n",
      "\n"
     ]
    },
    {
     "data": {
      "image/png": "[encoded data removed]",
      "text/plain": [
       "<Figure size 400x400 with 1 Axes>"
      ]
     },
     "metadata": {},
     "output_type": "display_data"
    }
   ],
   "source": [
    "flatten = lambda x: [y for l in x for y in flatten(l)] if type(x) is list else [x]\n",
    "true_labels_flatten=flatten(true_labels)\n",
    "pred_labels_flatten=flatten(pred_labels)\n",
    "\n",
    "print((classification_report(true_labels_flatten, pred_labels_flatten, target_names=['O', 'B', 'I'])))\n",
    "\n",
    "#plot confusion matrix\n",
    "c=confusion_matrix(true_labels_flatten,pred_labels_flatten)\n",
    "df_c=pd.DataFrame(c,index=[i for i in ['O','B','I']],columns=[i for i in ['O','B','I']])\n",
    "pp_matrix(df_c,figsize=(4,4),cmap='PuRd')"
   ]
  },
  {
   "cell_type": "markdown",
   "id": "6cf84f32",
   "metadata": {},
   "source": [
    "**1と2同一視**"
   ]
  },
  {
   "cell_type": "code",
   "execution_count": 39,
   "id": "c16e1b5d",
   "metadata": {},
   "outputs": [
    {
     "name": "stdout",
     "output_type": "stream",
     "text": [
      "              precision    recall  f1-score   support\n",
      "\n",
      "           O       0.98      0.98      0.98    155385\n",
      "         B+I       0.93      0.91      0.92     40891\n",
      "\n",
      "    accuracy                           0.97    196276\n",
      "   macro avg       0.95      0.95      0.95    196276\n",
      "weighted avg       0.97      0.97      0.97    196276\n",
      "\n"
     ]
    },
    {
     "data": {
      "image/png": "[encoded data removed]",
      "text/plain": [
       "<Figure size 400x400 with 1 Axes>"
      ]
     },
     "metadata": {},
     "output_type": "display_data"
    }
   ],
   "source": [
    "# If B and I are considered the same\n",
    "true_labels_flatten_=[1 if true_labels_flatten[i]==2 else true_labels_flatten[i] for i in range(len(true_labels_flatten))]\n",
    "pred_labels_flatten_=[1 if pred_labels_flatten[i]==2 else pred_labels_flatten[i] for i in range(len(pred_labels_flatten))]\n",
    "\n",
    "print(classification_report(true_labels_flatten_, pred_labels_flatten_, target_names=['O', 'B+I']))\n",
    "\n",
    "#plot confusion matrix\n",
    "c_=confusion_matrix(true_labels_flatten_,pred_labels_flatten_)\n",
    "df_c_=pd.DataFrame(c_,index=[i for i in ['O','B+I']],columns=[i for i in ['O','B+I']])\n",
    "pp_matrix(df_c_,figsize=(4,4),cmap='PuRd')#    "
   ]
  },
  {
   "cell_type": "markdown",
   "id": "bad76c9c",
   "metadata": {},
   "source": [
    "**行の単位で**"
   ]
  },
  {
   "cell_type": "code",
   "execution_count": 3,
   "id": "c400ab7a",
   "metadata": {},
   "outputs": [],
   "source": [
    "with open('output_data/test_result_df_2.pkl', 'rb') as file:\n",
    "    test_result_df=pickle.load(file)"
   ]
  },
  {
   "cell_type": "code",
   "execution_count": 22,
   "id": "5f5a30a9",
   "metadata": {},
   "outputs": [
    {
     "name": "stdout",
     "output_type": "stream",
     "text": [
      "AE recall: 0.9622513868218103\n",
      "AE precision: 0.9647314161692893\n"
     ]
    }
   ],
   "source": [
    "test_result_df['result'] = test_result_df.apply(lambda x: True if len(x['result_pick']) >= len(x['pick_words']) else False, axis=1)\n",
    "# 検出がある行を抽出\n",
    "df_pick_true = test_result_df[test_result_df['pred_pick'].apply(lambda x: x != ['検出なし'])]\n",
    "\n",
    "print('AE recall:', len(test_result_df[test_result_df['result']==True]) / len(test_result_df))\n",
    "print('AE precision:', len(df_pick_true[df_pick_true['result']]) / len(df_pick_true))"
   ]
  },
  {
   "cell_type": "code",
   "execution_count": 29,
   "id": "810b91f1",
   "metadata": {},
   "outputs": [
    {
     "name": "stdout",
     "output_type": "stream",
     "text": [
      "TP: 7112\n",
      "FP: 260\n",
      "FN: 279\n",
      "TN: 0\n"
     ]
    }
   ],
   "source": [
    "# TN(pred=0,true=0)なし\n",
    "#len(test_result_df)=7391　AEがある行(全部の行はAEがある)\n",
    "#len(df_pick_true)=7372　AEが検出・予測を出した行\n",
    "#len(df_pick_true[df_pick_true['result']])=7112　AEが検出・予測を出した行の中で正解を出した行\n",
    "\n",
    "TP=len(df_pick_true[df_pick_true['result']]) \n",
    "FP=len(df_pick_true)-len(df_pick_true[df_pick_true['result']]) #7372-7112\n",
    "FN=len(test_result_df)-len(df_pick_true[df_pick_true['result']]) #7391-7112\n",
    "TN=0\n",
    "print('TP:',TP)\n",
    "print('FP:',FP)\n",
    "print('FN:',FN)\n",
    "print('TN:',TN)"
   ]
  },
  {
   "cell_type": "code",
   "execution_count": 42,
   "id": "9281d591",
   "metadata": {},
   "outputs": [
    {
     "data": {
      "image/png": "[encoded data removed]",
      "text/plain": [
       "<Figure size 400x400 with 1 Axes>"
      ]
     },
     "metadata": {},
     "output_type": "display_data"
    }
   ],
   "source": [
    "#plot confusion matrix\n",
    "c__=np.array([[TN,   FP],\n",
    "       [  FN,  TP]])\n",
    "df_c=pd.DataFrame(c__,index=[i for i in ['O','AE']],columns=[i for i in ['O','AE']])\n",
    "pp_matrix(df_c,figsize=(4,4),cmap='PuRd')"
   ]
  },
  {
   "cell_type": "code",
   "execution_count": null,
   "id": "957b98f8",
   "metadata": {},
   "outputs": [],
   "source": []
  }
 ],
 "metadata": {
  "kernelspec": {
   "display_name": "Python 3 (ipykernel)",
   "language": "python",
   "name": "python3"
  },
  "language_info": {
   "codemirror_mode": {
    "name": "ipython",
    "version": 3
   },
   "file_extension": ".py",
   "mimetype": "text/x-python",
   "name": "python",
   "nbconvert_exporter": "python",
   "pygments_lexer": "ipython3",
   "version": "3.9.13"
  },
  "toc": {
   "base_numbering": 1,
   "nav_menu": {},
   "number_sections": true,
   "sideBar": true,
   "skip_h1_title": false,
   "title_cell": "Table of Contents",
   "title_sidebar": "Contents",
   "toc_cell": false,
   "toc_position": {},
   "toc_section_display": true,
   "toc_window_display": false
  }
 },
 "nbformat": 4,
 "nbformat_minor": 5
}
