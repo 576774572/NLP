{
 "cells": [
  {
   "cell_type": "code",
   "execution_count": 2,
   "id": "2ad6a20d",
   "metadata": {},
   "outputs": [
    {
     "name": "stdout",
     "output_type": "stream",
     "text": [
      "Looking in indexes: https://pypi.org/simple, https://pip.repos.neuron.amazonaws.com\n",
      "Collecting transformers\n",
      "  Downloading transformers-4.26.0-py3-none-any.whl (6.3 MB)\n",
      "\u001b[2K     \u001b[90m━━━━━━━━━━━━━━━━━━━━━━━━━━━━━━━━━━━━━━━━\u001b[0m \u001b[32m6.3/6.3 MB\u001b[0m \u001b[31m42.2 MB/s\u001b[0m eta \u001b[36m0:00:00\u001b[0m:00:01\u001b[0m\n",
      "\u001b[?25hCollecting jaconv\n",
      "  Downloading jaconv-0.3.3.tar.gz (16 kB)\n",
      "  Preparing metadata (setup.py) ... \u001b[?25ldone\n",
      "\u001b[?25hCollecting neologdn\n",
      "  Downloading neologdn-0.5.1.tar.gz (57 kB)\n",
      "\u001b[2K     \u001b[90m━━━━━━━━━━━━━━━━━━━━━━━━━━━━━━━━━━━━━━━━\u001b[0m \u001b[32m57.2/57.2 kB\u001b[0m \u001b[31m16.5 MB/s\u001b[0m eta \u001b[36m0:00:00\u001b[0m\n",
      "\u001b[?25h  Preparing metadata (setup.py) ... \u001b[?25ldone\n",
      "\u001b[?25hCollecting tensorflow\n",
      "  Downloading tensorflow-2.11.0-cp39-cp39-manylinux_2_17_x86_64.manylinux2014_x86_64.whl (588.3 MB)\n",
      "\u001b[2K     \u001b[90m━━━━━━━━━━━━━━━━━━━━━━━━━━━━━━━━━━━━━━━\u001b[0m \u001b[32m588.3/588.3 MB\u001b[0m \u001b[31m2.2 MB/s\u001b[0m eta \u001b[36m0:00:00\u001b[0m00:01\u001b[0m00:01\u001b[0m\n",
      "\u001b[?25hCollecting mecab-python\n",
      "  Downloading mecab-python-1.0.0.tar.gz (1.3 kB)\n",
      "  Preparing metadata (setup.py) ... \u001b[?25ldone\n",
      "\u001b[?25hRequirement already satisfied: tqdm>=4.27 in /home/ec2-user/anaconda3/envs/pytorch_p39/lib/python3.9/site-packages (from transformers) (4.63.2)\n",
      "Requirement already satisfied: requests in /home/ec2-user/anaconda3/envs/pytorch_p39/lib/python3.9/site-packages (from transformers) (2.28.1)\n",
      "Requirement already satisfied: numpy>=1.17 in /home/ec2-user/anaconda3/envs/pytorch_p39/lib/python3.9/site-packages (from transformers) (1.22.4)\n",
      "Collecting huggingface-hub<1.0,>=0.11.0\n",
      "  Downloading huggingface_hub-0.12.0-py3-none-any.whl (190 kB)\n",
      "\u001b[2K     \u001b[90m━━━━━━━━━━━━━━━━━━━━━━━━━━━━━━━━━━━━━━━\u001b[0m \u001b[32m190.3/190.3 kB\u001b[0m \u001b[31m2.6 MB/s\u001b[0m eta \u001b[36m0:00:00\u001b[0ma \u001b[36m0:00:01\u001b[0m\n",
      "\u001b[?25hRequirement already satisfied: packaging>=20.0 in /home/ec2-user/anaconda3/envs/pytorch_p39/lib/python3.9/site-packages (from transformers) (21.3)\n",
      "Collecting tokenizers!=0.11.3,<0.14,>=0.11.1\n",
      "  Downloading tokenizers-0.13.2-cp39-cp39-manylinux_2_17_x86_64.manylinux2014_x86_64.whl (7.6 MB)\n",
      "\u001b[2K     \u001b[90m━━━━━━━━━━━━━━━━━━━━━━━━━━━━━━━━━━━━━━━━\u001b[0m \u001b[32m7.6/7.6 MB\u001b[0m \u001b[31m35.9 MB/s\u001b[0m eta \u001b[36m0:00:00\u001b[0m:00:01\u001b[0m\n",
      "\u001b[?25hRequirement already satisfied: regex!=2019.12.17 in /home/ec2-user/anaconda3/envs/pytorch_p39/lib/python3.9/site-packages (from transformers) (2022.9.13)\n",
      "Requirement already satisfied: filelock in /home/ec2-user/anaconda3/envs/pytorch_p39/lib/python3.9/site-packages (from transformers) (3.6.0)\n",
      "Requirement already satisfied: pyyaml>=5.1 in /home/ec2-user/anaconda3/envs/pytorch_p39/lib/python3.9/site-packages (from transformers) (5.4.1)\n",
      "Requirement already satisfied: typing-extensions>=3.6.6 in /home/ec2-user/anaconda3/envs/pytorch_p39/lib/python3.9/site-packages (from tensorflow) (4.4.0)\n",
      "Requirement already satisfied: wrapt>=1.11.0 in /home/ec2-user/anaconda3/envs/pytorch_p39/lib/python3.9/site-packages (from tensorflow) (1.14.1)\n",
      "Requirement already satisfied: six>=1.12.0 in /home/ec2-user/anaconda3/envs/pytorch_p39/lib/python3.9/site-packages (from tensorflow) (1.16.0)\n",
      "Collecting opt-einsum>=2.3.2\n",
      "  Downloading opt_einsum-3.3.0-py3-none-any.whl (65 kB)\n",
      "\u001b[2K     \u001b[90m━━━━━━━━━━━━━━━━━━━━━━━━━━━━━━━━━━━━━━━━\u001b[0m \u001b[32m65.5/65.5 kB\u001b[0m \u001b[31m22.7 MB/s\u001b[0m eta \u001b[36m0:00:00\u001b[0m\n",
      "\u001b[?25hCollecting absl-py>=1.0.0\n",
      "  Downloading absl_py-1.4.0-py3-none-any.whl (126 kB)\n",
      "\u001b[2K     \u001b[90m━━━━━━━━━━━━━━━━━━━━━━━━━━━━━━━━━━━━━━\u001b[0m \u001b[32m126.5/126.5 kB\u001b[0m \u001b[31m40.5 MB/s\u001b[0m eta \u001b[36m0:00:00\u001b[0m\n",
      "\u001b[?25hCollecting tensorboard<2.12,>=2.11\n",
      "  Downloading tensorboard-2.11.2-py3-none-any.whl (6.0 MB)\n",
      "\u001b[2K     \u001b[90m━━━━━━━━━━━━━━━━━━━━━━━━━━━━━━━━━━━━━━━━\u001b[0m \u001b[32m6.0/6.0 MB\u001b[0m \u001b[31m42.2 MB/s\u001b[0m eta \u001b[36m0:00:00\u001b[0m:00:01\u001b[0m\n",
      "\u001b[?25hCollecting libclang>=13.0.0\n",
      "  Downloading libclang-15.0.6.1-py2.py3-none-manylinux2010_x86_64.whl (21.5 MB)\n",
      "\u001b[2K     \u001b[90m━━━━━━━━━━━━━━━━━━━━━━━━━━━━━━━━━━━━━━━━\u001b[0m \u001b[32m21.5/21.5 MB\u001b[0m \u001b[31m94.5 MB/s\u001b[0m eta \u001b[36m0:00:00\u001b[0m00:01\u001b[0m00:01\u001b[0m\n",
      "\u001b[?25hCollecting tensorflow-io-gcs-filesystem>=0.23.1\n",
      "  Downloading tensorflow_io_gcs_filesystem-0.30.0-cp39-cp39-manylinux_2_12_x86_64.manylinux2010_x86_64.whl (2.4 MB)\n",
      "\u001b[2K     \u001b[90m━━━━━━━━━━━━━━━━━━━━━━━━━━━━━━━━━━━━━━━━\u001b[0m \u001b[32m2.4/2.4 MB\u001b[0m \u001b[31m34.0 MB/s\u001b[0m eta \u001b[36m0:00:00\u001b[0m:00:01\u001b[0m\n",
      "\u001b[?25hCollecting flatbuffers>=2.0\n",
      "  Downloading flatbuffers-23.1.21-py2.py3-none-any.whl (26 kB)\n",
      "Requirement already satisfied: h5py>=2.9.0 in /home/ec2-user/anaconda3/envs/pytorch_p39/lib/python3.9/site-packages (from tensorflow) (3.7.0)\n",
      "Collecting gast<=0.4.0,>=0.2.1\n",
      "  Downloading gast-0.4.0-py3-none-any.whl (9.8 kB)\n",
      "Requirement already satisfied: termcolor>=1.1.0 in /home/ec2-user/anaconda3/envs/pytorch_p39/lib/python3.9/site-packages (from tensorflow) (2.1.0)\n",
      "Requirement already satisfied: google-pasta>=0.1.1 in /home/ec2-user/anaconda3/envs/pytorch_p39/lib/python3.9/site-packages (from tensorflow) (0.2.0)\n",
      "Collecting protobuf<3.20,>=3.9.2\n",
      "  Downloading protobuf-3.19.6-cp39-cp39-manylinux_2_17_x86_64.manylinux2014_x86_64.whl (1.1 MB)\n",
      "\u001b[2K     \u001b[90m━━━━━━━━━━━━━━━━━━━━━━━━━━━━━━━━━━━━━━━━\u001b[0m \u001b[32m1.1/1.1 MB\u001b[0m \u001b[31m12.7 MB/s\u001b[0m eta \u001b[36m0:00:00\u001b[0m:00:01\u001b[0m\n",
      "\u001b[?25hCollecting tensorflow-estimator<2.12,>=2.11.0\n",
      "  Downloading tensorflow_estimator-2.11.0-py2.py3-none-any.whl (439 kB)\n",
      "\u001b[2K     \u001b[90m━━━━━━━━━━━━━━━━━━━━━━━━━━━━━━━━━━━━━━━\u001b[0m \u001b[32m439.2/439.2 kB\u001b[0m \u001b[31m3.4 MB/s\u001b[0m eta \u001b[36m0:00:00\u001b[0m00:01\u001b[0m\n",
      "\u001b[?25hRequirement already satisfied: setuptools in /home/ec2-user/anaconda3/envs/pytorch_p39/lib/python3.9/site-packages (from tensorflow) (65.5.0)\n",
      "Collecting astunparse>=1.6.0\n",
      "  Downloading astunparse-1.6.3-py2.py3-none-any.whl (12 kB)\n",
      "Collecting grpcio<2.0,>=1.24.3\n",
      "  Downloading grpcio-1.51.1-cp39-cp39-manylinux_2_17_x86_64.manylinux2014_x86_64.whl (4.8 MB)\n",
      "\u001b[2K     \u001b[90m━━━━━━━━━━━━━━━━━━━━━━━━━━━━━━━━━━━━━━━━\u001b[0m \u001b[32m4.8/4.8 MB\u001b[0m \u001b[31m34.3 MB/s\u001b[0m eta \u001b[36m0:00:00\u001b[0m:00:01\u001b[0m00:01\u001b[0m\n",
      "\u001b[?25hCollecting keras<2.12,>=2.11.0\n",
      "  Downloading keras-2.11.0-py2.py3-none-any.whl (1.7 MB)\n",
      "\u001b[2K     \u001b[90m━━━━━━━━━━━━━━━━━━━━━━━━━━━━━━━━━━━━━━━━\u001b[0m \u001b[32m1.7/1.7 MB\u001b[0m \u001b[31m27.2 MB/s\u001b[0m eta \u001b[36m0:00:00\u001b[0m:00:01\u001b[0m\n",
      "\u001b[?25hCollecting mecab-python3\n",
      "  Downloading mecab_python3-1.0.6-cp39-cp39-manylinux_2_17_x86_64.manylinux2014_x86_64.whl (581 kB)\n",
      "\u001b[2K     \u001b[90m━━━━━━━━━━━━━━━━━━━━━━━━━━━━━━━━━━━━━━\u001b[0m \u001b[32m581.5/581.5 kB\u001b[0m \u001b[31m81.3 MB/s\u001b[0m eta \u001b[36m0:00:00\u001b[0m\n",
      "\u001b[?25hRequirement already satisfied: wheel<1.0,>=0.23.0 in /home/ec2-user/anaconda3/envs/pytorch_p39/lib/python3.9/site-packages (from astunparse>=1.6.0->tensorflow) (0.37.1)\n",
      "Requirement already satisfied: pyparsing!=3.0.5,>=2.0.2 in /home/ec2-user/anaconda3/envs/pytorch_p39/lib/python3.9/site-packages (from packaging>=20.0->transformers) (3.0.9)\n",
      "Collecting google-auth<3,>=1.6.3\n",
      "  Downloading google_auth-2.16.0-py2.py3-none-any.whl (177 kB)\n",
      "\u001b[2K     \u001b[90m━━━━━━━━━━━━━━━━━━━━━━━━━━━━━━━━━━━━━━━\u001b[0m \u001b[32m177.8/177.8 kB\u001b[0m \u001b[31m1.3 MB/s\u001b[0m eta \u001b[36m0:00:00\u001b[0m00:01\u001b[0m\n",
      "\u001b[?25hCollecting google-auth-oauthlib<0.5,>=0.4.1\n",
      "  Downloading google_auth_oauthlib-0.4.6-py2.py3-none-any.whl (18 kB)\n",
      "Requirement already satisfied: werkzeug>=1.0.1 in /home/ec2-user/anaconda3/envs/pytorch_p39/lib/python3.9/site-packages (from tensorboard<2.12,>=2.11->tensorflow) (2.2.2)\n",
      "Collecting tensorboard-plugin-wit>=1.6.0\n",
      "  Downloading tensorboard_plugin_wit-1.8.1-py3-none-any.whl (781 kB)\n",
      "\u001b[2K     \u001b[90m━━━━━━━━━━━━━━━━━━━━━━━━━━━━━━━━━━━━━━\u001b[0m \u001b[32m781.3/781.3 kB\u001b[0m \u001b[31m10.4 MB/s\u001b[0m eta \u001b[36m0:00:00\u001b[0m00:01\u001b[0m\n",
      "\u001b[?25hCollecting tensorboard-data-server<0.7.0,>=0.6.0\n",
      "  Downloading tensorboard_data_server-0.6.1-py3-none-manylinux2010_x86_64.whl (4.9 MB)\n",
      "\u001b[2K     \u001b[90m━━━━━━━━━━━━━━━━━━━━━━━━━━━━━━━━━━━━━━━━\u001b[0m \u001b[32m4.9/4.9 MB\u001b[0m \u001b[31m46.7 MB/s\u001b[0m eta \u001b[36m0:00:00\u001b[0m:00:01\u001b[0m\n",
      "\u001b[?25hCollecting markdown>=2.6.8\n",
      "  Downloading Markdown-3.4.1-py3-none-any.whl (93 kB)\n",
      "\u001b[2K     \u001b[90m━━━━━━━━━━━━━━━━━━━━━━━━━━━━━━━━━━━━━━━\u001b[0m \u001b[32m93.3/93.3 kB\u001b[0m \u001b[31m758.3 kB/s\u001b[0m eta \u001b[36m0:00:00\u001b[0m00:01\u001b[0m\n",
      "\u001b[?25hRequirement already satisfied: charset-normalizer<3,>=2 in /home/ec2-user/anaconda3/envs/pytorch_p39/lib/python3.9/site-packages (from requests->transformers) (2.1.1)\n",
      "Requirement already satisfied: urllib3<1.27,>=1.21.1 in /home/ec2-user/anaconda3/envs/pytorch_p39/lib/python3.9/site-packages (from requests->transformers) (1.26.8)\n",
      "Requirement already satisfied: certifi>=2017.4.17 in /home/ec2-user/anaconda3/envs/pytorch_p39/lib/python3.9/site-packages (from requests->transformers) (2022.9.24)\n",
      "Requirement already satisfied: idna<4,>=2.5 in /home/ec2-user/anaconda3/envs/pytorch_p39/lib/python3.9/site-packages (from requests->transformers) (3.4)\n",
      "Collecting pyasn1-modules>=0.2.1\n",
      "  Downloading pyasn1_modules-0.2.8-py2.py3-none-any.whl (155 kB)\n",
      "\u001b[2K     \u001b[90m━━━━━━━━━━━━━━━━━━━━━━━━━━━━━━━━━━━━━━━\u001b[0m \u001b[32m155.3/155.3 kB\u001b[0m \u001b[31m1.8 MB/s\u001b[0m eta \u001b[36m0:00:00\u001b[0m00:01\u001b[0m\n",
      "\u001b[?25hCollecting cachetools<6.0,>=2.0.0\n",
      "  Downloading cachetools-5.3.0-py3-none-any.whl (9.3 kB)\n",
      "Requirement already satisfied: rsa<5,>=3.1.4 in /home/ec2-user/anaconda3/envs/pytorch_p39/lib/python3.9/site-packages (from google-auth<3,>=1.6.3->tensorboard<2.12,>=2.11->tensorflow) (4.7.2)\n",
      "Collecting requests-oauthlib>=0.7.0\n",
      "  Downloading requests_oauthlib-1.3.1-py2.py3-none-any.whl (23 kB)\n",
      "Requirement already satisfied: importlib-metadata>=4.4 in /home/ec2-user/anaconda3/envs/pytorch_p39/lib/python3.9/site-packages (from markdown>=2.6.8->tensorboard<2.12,>=2.11->tensorflow) (4.13.0)\n",
      "Requirement already satisfied: MarkupSafe>=2.1.1 in /home/ec2-user/anaconda3/envs/pytorch_p39/lib/python3.9/site-packages (from werkzeug>=1.0.1->tensorboard<2.12,>=2.11->tensorflow) (2.1.1)\n",
      "Requirement already satisfied: zipp>=0.5 in /home/ec2-user/anaconda3/envs/pytorch_p39/lib/python3.9/site-packages (from importlib-metadata>=4.4->markdown>=2.6.8->tensorboard<2.12,>=2.11->tensorflow) (3.10.0)\n",
      "Requirement already satisfied: pyasn1<0.5.0,>=0.4.6 in /home/ec2-user/anaconda3/envs/pytorch_p39/lib/python3.9/site-packages (from pyasn1-modules>=0.2.1->google-auth<3,>=1.6.3->tensorboard<2.12,>=2.11->tensorflow) (0.4.8)\n",
      "Collecting oauthlib>=3.0.0\n",
      "  Downloading oauthlib-3.2.2-py3-none-any.whl (151 kB)\n",
      "\u001b[2K     \u001b[90m━━━━━━━━━━━━━━━━━━━━━━━━━━━━━━━━━━━━━━━\u001b[0m \u001b[32m151.7/151.7 kB\u001b[0m \u001b[31m5.3 MB/s\u001b[0m eta \u001b[36m0:00:00\u001b[0m\n",
      "\u001b[?25hBuilding wheels for collected packages: jaconv, neologdn, mecab-python\n",
      "  Building wheel for jaconv (setup.py) ... \u001b[?25ldone\n",
      "\u001b[?25h  Created wheel for jaconv: filename=jaconv-0.3.3-py3-none-any.whl size=16151 sha256=8a0fa6e6632e7fb6aa2e20f04982ccdc10a9c287d6f5c972ddce3eaf8cdeb977\n",
      "  Stored in directory: /home/ec2-user/.cache/pip/wheels/f4/1a/a5/bd22b19efd0e87228ff87fc92c84f9179b2ca0a1ae79bf9227\n",
      "  Building wheel for neologdn (setup.py) ... \u001b[?25ldone\n",
      "\u001b[?25h  Created wheel for neologdn: filename=neologdn-0.5.1-cp39-cp39-linux_x86_64.whl size=55312 sha256=b002dc77ef71674e9564db100f2271e2486d6dc80bd9322a7149fe35f651435e\n",
      "  Stored in directory: /home/ec2-user/.cache/pip/wheels/c3/a4/b9/ca97bbfde3bf0646e407ada317bf9cbcf272b16529fca9d912\n",
      "  Building wheel for mecab-python (setup.py) ... \u001b[?25ldone\n",
      "\u001b[?25h  Created wheel for mecab-python: filename=mecab_python-1.0.0-py3-none-any.whl size=1232 sha256=ec7ad6438226c2b3887ac5e3572135da71d082abeab39e6c396b6dbba8ee5495\n",
      "  Stored in directory: /home/ec2-user/.cache/pip/wheels/f8/33/06/34dbcb8558b79fad2d338541b19e4c65ed3e6b174b6eb2cc83\n",
      "Successfully built jaconv neologdn mecab-python\n",
      "Installing collected packages: tokenizers, tensorboard-plugin-wit, neologdn, mecab-python3, libclang, jaconv, flatbuffers, tensorflow-io-gcs-filesystem, tensorflow-estimator, tensorboard-data-server, pyasn1-modules, protobuf, opt-einsum, oauthlib, mecab-python, keras, grpcio, gast, cachetools, astunparse, absl-py, requests-oauthlib, markdown, huggingface-hub, google-auth, transformers, google-auth-oauthlib, tensorboard, tensorflow\n",
      "  Attempting uninstall: protobuf\n",
      "    Found existing installation: protobuf 3.20.2\n",
      "    Uninstalling protobuf-3.20.2:\n",
      "      Successfully uninstalled protobuf-3.20.2\n",
      "Successfully installed absl-py-1.4.0 astunparse-1.6.3 cachetools-5.3.0 flatbuffers-23.1.21 gast-0.4.0 google-auth-2.16.0 google-auth-oauthlib-0.4.6 grpcio-1.51.1 huggingface-hub-0.12.0 jaconv-0.3.3 keras-2.11.0 libclang-15.0.6.1 markdown-3.4.1 mecab-python-1.0.0 mecab-python3-1.0.6 neologdn-0.5.1 oauthlib-3.2.2 opt-einsum-3.3.0 protobuf-3.19.6 pyasn1-modules-0.2.8 requests-oauthlib-1.3.1 tensorboard-2.11.2 tensorboard-data-server-0.6.1 tensorboard-plugin-wit-1.8.1 tensorflow-2.11.0 tensorflow-estimator-2.11.0 tensorflow-io-gcs-filesystem-0.30.0 tokenizers-0.13.2 transformers-4.26.0\n"
     ]
    }
   ],
   "source": [
    "! pip install transformers jaconv neologdn tensorflow mecab-python TorchCRF==1.1.0"
   ]
  },
  {
   "cell_type": "code",
   "execution_count": 1,
   "id": "2479b80f",
   "metadata": {},
   "outputs": [],
   "source": [
    "import torch\n",
    "from transformers import BertJapaneseTokenizer\n",
    "from UTH_BERT.preprocess_text import preprocess as my_preprocess\n",
    "from UTH_BERT.tokenization_mod import MecabTokenizer, FullTokenizerForMecab"
   ]
  },
  {
   "cell_type": "code",
   "execution_count": 2,
   "id": "be0525cf",
   "metadata": {},
   "outputs": [],
   "source": [
    "class BERT_CRF_NER(torch.nn.Module):\n",
    "    \n",
    "    def __init__(self,config):\n",
    "        super(BERT_CRF_NER, self).__init__()\n",
    "        self.bert =BertModel.from_pretrained()\n",
    "        self.classifier = torch.nn.Linear()\n",
    "        self.crf = CRF()\n",
    "        \n",
    "    def forward(self,input_ids, attention_mask ,token_type_ids=None, label=None):\n",
    "        \n",
    "        outputs = self.bert(input_ids, attention_mask=attention_mask, token_type_ids=token_type_ids)\n",
    "        logits = self.classifier(outputs[0]) #(batch_size, sequence_size, num_labels)\n",
    "        pred_labels=self.crf.viterbi_decode(logits[:,1:,:],attention_mask[:,1:])\n",
    "      \n",
    "        return pred_labels "
   ]
  },
  {
   "cell_type": "code",
   "execution_count": 3,
   "id": "ada03d67",
   "metadata": {},
   "outputs": [],
   "source": [
    "class Inference:\n",
    "    def __init__(self, tokenizer_path,neologd_path,BERT_CRFModel):\n",
    "        self.neologd_path=neologd_path\n",
    "        self.tokenizer_path = tokenizer_path\n",
    "        self.model = BERT_CRFModel \n",
    "        self.device = self.init_device()      \n",
    "        self.mecab_tokenizer=self.mecab_tokenizer()\n",
    "        self.tokenizer = self.init_tokenizer()\n",
    "    \n",
    "    def init_device(self):\n",
    "        device = torch.device('cuda:0' if torch.cuda.is_available() else 'cpu')\n",
    "        return device        \n",
    "    \n",
    "    def mecab_tokenizer(self):\n",
    "        name_token = \"＠＠Ｎ\"\n",
    "        mecab_J_medic = './MANBYO_201907_Dic-utf8.dic'\n",
    "        vocab_file = \"./bert_vocab_mc_v1_25000.txt\"        \n",
    "        sub_tokenizer = MecabTokenizer(mecab_ipadic_neologd=self.neologd_path,\n",
    "                                        mecab_J_medic=mecab_J_medic,\n",
    "                                        name_token=name_token)\n",
    "        tokenizer = FullTokenizerForMecab(sub_tokenizer=sub_tokenizer,\n",
    "                                            vocab_file=vocab_file,\n",
    "                                            do_lower_case=False)\n",
    "        return tokenizer\n",
    "    \n",
    "    def init_tokenizer(self):   \n",
    "        tokenizer = BertJapaneseTokenizer.from_pretrained(\n",
    "            self.tokenizer_path,\n",
    "            mecab_kwargs={\"mecab_option\": self.neologd_path}\n",
    "            )\n",
    "        return tokenizer    \n",
    "    \n",
    "    def inference(self,texts):\n",
    "        \n",
    "        pre_processed_texts = [my_preprocess(t) for t in texts]\n",
    "        tokens = [self.mecab_tokenizer.tokenize(p) for p in pre_processed_texts]\n",
    "        inputs=self.tokenizer.batch_encode_plus(\n",
    "            tokens, \n",
    "            return_tensors='pt', \n",
    "            truncation='only_first', \n",
    "            is_split_into_words=True,\n",
    "            padding='max_length', \n",
    "            max_length=128\n",
    "        )\n",
    "\n",
    "        with torch.no_grad():\n",
    "            pred_labels=self.model(**inputs.to(self.device))\n",
    "            pred_tokens=[]\n",
    "            for i in range(len(pred_labels)):\n",
    "                pred_token=[ tokens[i][j] for j in range(len(pred_labels[i])) if pred_labels[i][j]==1 or pred_labels[i][j]==2 ]\n",
    "                pred_tokens.append(pred_token)\n",
    "\n",
    "            return  pred_tokens"
   ]
  },
  {
   "cell_type": "code",
   "execution_count": 28,
   "id": "249468cd",
   "metadata": {},
   "outputs": [],
   "source": [
    "NEOLOGD = '/usr/local/lib/mecab/dic/mecab-ipadic-neologd'\n",
    "UTH_BERT='.UTH_BERT/UTH_BERT_BASE_512_MC_BPE_WWM_V25000_352K'\n",
    "BERT_CRFModel=torch.load('results/run_2023.1.27_40578/model/model_40578.pt')\n",
    "Inference=Inference(tokenizer_path=UTH_BERT,neologd_path=NEOLOGD, BERT_CRFModel=BERT_CRFModel)"
   ]
  },
  {
   "cell_type": "code",
   "execution_count": 29,
   "id": "04ff2522",
   "metadata": {},
   "outputs": [
    {
     "data": {
      "text/plain": [
       "[['胸水', '呼吸困難'], ['胃腸炎'], ['嘔気', '嘔吐']]"
      ]
     },
     "execution_count": 29,
     "metadata": {},
     "output_type": "execute_result"
    }
   ],
   "source": [
    "texts=['胸水は徐々に増加していき、呼吸困難あり。胸腔穿刺ドレナージ(1600ML)実施。',\n",
    "       #''放射線肺臓炎',\n",
    "       '胃腸炎を併発しており',\n",
    "       '嘔気と嘔吐を主訴に緊急受診']\n",
    "Inference.inference(texts)"
   ]
  },
  {
   "cell_type": "code",
   "execution_count": null,
   "id": "62d05673",
   "metadata": {},
   "outputs": [],
   "source": []
  },
  {
   "cell_type": "code",
   "execution_count": null,
   "id": "174a84c4",
   "metadata": {},
   "outputs": [],
   "source": []
  },
  {
   "cell_type": "code",
   "execution_count": null,
   "id": "0a8aa88b",
   "metadata": {},
   "outputs": [],
   "source": []
  },
  {
   "cell_type": "code",
   "execution_count": null,
   "id": "e2d421d1",
   "metadata": {},
   "outputs": [],
   "source": []
  },
  {
   "cell_type": "code",
   "execution_count": null,
   "id": "9f7fe3cd",
   "metadata": {},
   "outputs": [],
   "source": []
  },
  {
   "cell_type": "code",
   "execution_count": null,
   "id": "22d013cb",
   "metadata": {},
   "outputs": [],
   "source": []
  },
  {
   "cell_type": "code",
   "execution_count": 20,
   "id": "8989a5b3",
   "metadata": {},
   "outputs": [
    {
     "data": {
      "text/plain": [
       "[1498, 1628, 16196, 5778]"
      ]
     },
     "execution_count": 20,
     "metadata": {},
     "output_type": "execute_result"
    }
   ],
   "source": [
    "Inference.mecab_tokenizer.convert_tokens_to_ids(['放射線', '##肺', '##臓', '##炎'])"
   ]
  },
  {
   "cell_type": "code",
   "execution_count": 46,
   "id": "2d1d12d2",
   "metadata": {},
   "outputs": [
    {
     "data": {
      "text/plain": [
       "[[1, 2, 2, 0, 0]]"
      ]
     },
     "execution_count": 46,
     "metadata": {},
     "output_type": "execute_result"
    }
   ],
   "source": [
    "inputs={}\n",
    "inputs['input_ids']=torch.tensor([[ 2,  1498,   500, 21464,  2394,     3]]).to('cuda')\n",
    "inputs['token_type_ids']=torch.tensor([[ 0,  0,   0, 0,  0,     0]]).to('cuda')\n",
    "inputs['attention_mask']=torch.tensor([[ 1,  1,   1, 1,  1,     1]]).to('cuda')\n",
    "with torch.no_grad():\n",
    "        pred_labels=Inference.model(**inputs)\n",
    "pred_labels        "
   ]
  },
  {
   "cell_type": "code",
   "execution_count": null,
   "id": "a4ea6c86",
   "metadata": {},
   "outputs": [],
   "source": []
  },
  {
   "cell_type": "code",
   "execution_count": 33,
   "id": "d0965ac9",
   "metadata": {},
   "outputs": [
    {
     "data": {
      "text/plain": [
       "tensor([[    2,  1498,   500, 21464,  2394,     3,     0,     0,     0,     0,\n",
       "             0,     0,     0,     0,     0,     0,     0,     0,     0,     0]])"
      ]
     },
     "execution_count": 33,
     "metadata": {},
     "output_type": "execute_result"
    }
   ],
   "source": [
    "inputs=Inference.tokenizer.batch_encode_plus(\n",
    "    [['放射線', '肺', '臓', '炎']], #['放射線', '##肺', '##臓', '##炎']\n",
    "    return_tensors='pt', \n",
    "    truncation='only_first', \n",
    "    is_split_into_words=True,\n",
    "    padding='max_length', \n",
    "    max_length=128\n",
    ")\n",
    "inputs['input_ids'][:,:20]"
   ]
  },
  {
   "cell_type": "code",
   "execution_count": 21,
   "id": "8227b3d7",
   "metadata": {},
   "outputs": [
    {
     "data": {
      "text/plain": [
       "tensor([[    2,  1498,     1,   500,     1, 21464,     1,  2394,     3,     0,\n",
       "             0,     0,     0,     0,     0,     0,     0,     0,     0,     0]])"
      ]
     },
     "execution_count": 21,
     "metadata": {},
     "output_type": "execute_result"
    }
   ],
   "source": [
    "inputs=Inference.tokenizer.batch_encode_plus(\n",
    "    [['放射線', '#肺', '#臓', '#炎']], #['放射線', '##肺', '##臓', '##炎']\n",
    "    return_tensors='pt', \n",
    "    truncation='only_first', \n",
    "    is_split_into_words=True,\n",
    "    padding='max_length', \n",
    "    max_length=128\n",
    ")\n",
    "inputs['input_ids'][:,:20]"
   ]
  },
  {
   "cell_type": "code",
   "execution_count": 22,
   "id": "cd21a869",
   "metadata": {},
   "outputs": [
    {
     "data": {
      "text/plain": [
       "tensor([[    2,  1498,     1,     1,   500,     1,     1, 21464,     1,     1,\n",
       "          2394,     3,     0,     0,     0,     0,     0,     0,     0,     0]])"
      ]
     },
     "execution_count": 22,
     "metadata": {},
     "output_type": "execute_result"
    }
   ],
   "source": [
    "inputs=Inference.tokenizer.batch_encode_plus(\n",
    "    [['放射線', '##肺', '##臓', '##炎']], #['放射線', '##肺', '##臓', '##炎']\n",
    "    return_tensors='pt', \n",
    "    truncation='only_first', \n",
    "    is_split_into_words=True,\n",
    "    padding='max_length', \n",
    "    max_length=128\n",
    ")\n",
    "inputs['input_ids'][:,:20]"
   ]
  },
  {
   "cell_type": "code",
   "execution_count": 23,
   "id": "4aba34d9",
   "metadata": {},
   "outputs": [
    {
     "data": {
      "text/plain": [
       "['胃腸炎', 'を', '併発', 'し', 'て', 'おり']"
      ]
     },
     "execution_count": 23,
     "metadata": {},
     "output_type": "execute_result"
    }
   ],
   "source": [
    "Inference.mecab_tokenizer.tokenize('胃腸炎を併発しており')"
   ]
  },
  {
   "cell_type": "code",
   "execution_count": 24,
   "id": "4db585e3",
   "metadata": {},
   "outputs": [
    {
     "data": {
      "text/plain": [
       "[12423, 25, 8928, 16, 13, 78]"
      ]
     },
     "execution_count": 24,
     "metadata": {},
     "output_type": "execute_result"
    }
   ],
   "source": [
    "Inference.mecab_tokenizer.convert_tokens_to_ids(['胃腸炎', 'を', '併発', 'し', 'て', 'おり'])"
   ]
  },
  {
   "cell_type": "code",
   "execution_count": 25,
   "id": "3a1afe84",
   "metadata": {},
   "outputs": [
    {
     "data": {
      "text/plain": [
       "tensor([[    2, 12423,    25,  8928,    16,    13,    78,     3,     0,     0,\n",
       "             0,     0,     0,     0,     0,     0,     0,     0,     0,     0]])"
      ]
     },
     "execution_count": 25,
     "metadata": {},
     "output_type": "execute_result"
    }
   ],
   "source": [
    "inputs=Inference.tokenizer.batch_encode_plus(\n",
    "    [['胃腸炎', 'を', '併発', 'し', 'て', 'おり']], \n",
    "    return_tensors='pt', \n",
    "    truncation='only_first', \n",
    "    is_split_into_words=True,\n",
    "    padding='max_length', \n",
    "    max_length=128\n",
    ")\n",
    "inputs['input_ids'][:,:20]"
   ]
  },
  {
   "cell_type": "code",
   "execution_count": null,
   "id": "37dd68bc",
   "metadata": {},
   "outputs": [],
   "source": []
  }
 ],
 "metadata": {
  "kernelspec": {
   "display_name": "Python 3 (ipykernel)",
   "language": "python",
   "name": "python3"
  },
  "language_info": {
   "codemirror_mode": {
    "name": "ipython",
    "version": 3
   },
   "file_extension": ".py",
   "mimetype": "text/x-python",
   "name": "python",
   "nbconvert_exporter": "python",
   "pygments_lexer": "ipython3",
   "version": "3.9.13"
  },
  "toc": {
   "base_numbering": 1,
   "nav_menu": {},
   "number_sections": true,
   "sideBar": true,
   "skip_h1_title": false,
   "title_cell": "Table of Contents",
   "title_sidebar": "Contents",
   "toc_cell": false,
   "toc_position": {
    "height": "calc(100% - 180px)",
    "left": "10px",
    "top": "150px",
    "width": "278.764px"
   },
   "toc_section_display": true,
   "toc_window_display": true
  }
 },
 "nbformat": 4,
 "nbformat_minor": 5
}
