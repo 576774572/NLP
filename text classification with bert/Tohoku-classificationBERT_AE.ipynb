{
 "cells": [
  {
   "cell_type": "markdown",
   "metadata": {},
   "source": [
    "## Classification BERT (AE)"
   ]
  },
  {
   "cell_type": "markdown",
   "metadata": {},
   "source": [
    "東北大学のBERT-LARGEを使用。文章とAEを入力して、文章のAEかどうかの結果をコサイン類似度で-1~1で返す\n",
    "- https://qiita.com/Dash400air/items/a616ef8d088e003dfd4c\n",
    "- https://dev.classmethod.jp/articles/huggingface-jp-text-classification/"
   ]
  },
  {
   "cell_type": "markdown",
   "metadata": {},
   "source": [
    "## Required Libraries"
   ]
  },
  {
   "cell_type": "code",
   "execution_count": 1,
   "metadata": {
    "scrolled": true
   },
   "outputs": [
    {
     "name": "stdout",
     "output_type": "stream",
     "text": [
      "Looking in indexes: https://pypi.org/simple, https://pip.repos.neuron.amazonaws.com\n",
      "Collecting transformers\n",
      "  Downloading transformers-4.26.1-py3-none-any.whl (6.3 MB)\n",
      "\u001b[2K     \u001b[90m━━━━━━━━━━━━━━━━━━━━━━━━━━━━━━━━━━━━━━━━\u001b[0m \u001b[32m6.3/6.3 MB\u001b[0m \u001b[31m28.2 MB/s\u001b[0m eta \u001b[36m0:00:00\u001b[0m:00:01\u001b[0m\n",
      "\u001b[?25hCollecting jaconv\n",
      "  Downloading jaconv-0.3.4.tar.gz (16 kB)\n",
      "  Preparing metadata (setup.py) ... \u001b[?25ldone\n",
      "\u001b[?25hCollecting neologdn\n",
      "  Downloading neologdn-0.5.1.tar.gz (57 kB)\n",
      "\u001b[2K     \u001b[90m━━━━━━━━━━━━━━━━━━━━━━━━━━━━━━━━━━━━━━━━\u001b[0m \u001b[32m57.2/57.2 kB\u001b[0m \u001b[31m1.6 MB/s\u001b[0m eta \u001b[36m0:00:00\u001b[0m\n",
      "\u001b[?25h  Preparing metadata (setup.py) ... \u001b[?25ldone\n",
      "\u001b[?25hCollecting fugashi\n",
      "  Downloading fugashi-1.2.1-cp39-cp39-manylinux_2_17_x86_64.manylinux2014_x86_64.whl (613 kB)\n",
      "\u001b[2K     \u001b[90m━━━━━━━━━━━━━━━━━━━━━━━━━━━━━━━━━━━━━━\u001b[0m \u001b[32m613.3/613.3 kB\u001b[0m \u001b[31m65.5 MB/s\u001b[0m eta \u001b[36m0:00:00\u001b[0m\n",
      "\u001b[?25hCollecting ipadic\n",
      "  Downloading ipadic-1.0.0.tar.gz (13.4 MB)\n",
      "\u001b[2K     \u001b[90m━━━━━━━━━━━━━━━━━━━━━━━━━━━━━━━━━━━━━━━━\u001b[0m \u001b[32m13.4/13.4 MB\u001b[0m \u001b[31m49.4 MB/s\u001b[0m eta \u001b[36m0:00:00\u001b[0m00:01\u001b[0m00:01\u001b[0m\n",
      "\u001b[?25h  Preparing metadata (setup.py) ... \u001b[?25ldone\n",
      "\u001b[?25hCollecting mecab-python3\n",
      "  Downloading mecab_python3-1.0.6-cp39-cp39-manylinux_2_17_x86_64.manylinux2014_x86_64.whl (581 kB)\n",
      "\u001b[2K     \u001b[90m━━━━━━━━━━━━━━━━━━━━━━━━━━━━━━━━━━━━━━━\u001b[0m \u001b[32m581.5/581.5 kB\u001b[0m \u001b[31m8.2 MB/s\u001b[0m eta \u001b[36m0:00:00\u001b[0m00:01\u001b[0m\n",
      "\u001b[?25hCollecting unidic-lite\n",
      "  Downloading unidic-lite-1.0.8.tar.gz (47.4 MB)\n",
      "\u001b[2K     \u001b[90m━━━━━━━━━━━━━━━━━━━━━━━━━━━━━━━━━━━━━━━━\u001b[0m \u001b[32m47.4/47.4 MB\u001b[0m \u001b[31m23.4 MB/s\u001b[0m eta \u001b[36m0:00:00\u001b[0m00:01\u001b[0m00:01\u001b[0m\n",
      "\u001b[?25h  Preparing metadata (setup.py) ... \u001b[?25ldone\n",
      "\u001b[?25hCollecting huggingface-hub<1.0,>=0.11.0\n",
      "  Downloading huggingface_hub-0.13.0-py3-none-any.whl (199 kB)\n",
      "\u001b[2K     \u001b[90m━━━━━━━━━━━━━━━━━━━━━━━━━━━━━━━━━━━━━━\u001b[0m \u001b[32m199.1/199.1 kB\u001b[0m \u001b[31m40.0 MB/s\u001b[0m eta \u001b[36m0:00:00\u001b[0m\n",
      "\u001b[?25hRequirement already satisfied: pyyaml>=5.1 in /home/ec2-user/anaconda3/envs/pytorch_p39/lib/python3.9/site-packages (from transformers) (5.4.1)\n",
      "Requirement already satisfied: packaging>=20.0 in /home/ec2-user/anaconda3/envs/pytorch_p39/lib/python3.9/site-packages (from transformers) (21.3)\n",
      "Requirement already satisfied: regex!=2019.12.17 in /home/ec2-user/anaconda3/envs/pytorch_p39/lib/python3.9/site-packages (from transformers) (2022.10.31)\n",
      "Collecting tokenizers!=0.11.3,<0.14,>=0.11.1\n",
      "  Downloading tokenizers-0.13.2-cp39-cp39-manylinux_2_17_x86_64.manylinux2014_x86_64.whl (7.6 MB)\n",
      "\u001b[2K     \u001b[90m━━━━━━━━━━━━━━━━━━━━━━━━━━━━━━━━━━━━━━━━\u001b[0m \u001b[32m7.6/7.6 MB\u001b[0m \u001b[31m31.9 MB/s\u001b[0m eta \u001b[36m0:00:00\u001b[0m:00:01\u001b[0m\n",
      "\u001b[?25hRequirement already satisfied: requests in /home/ec2-user/anaconda3/envs/pytorch_p39/lib/python3.9/site-packages (from transformers) (2.28.1)\n",
      "Requirement already satisfied: filelock in /home/ec2-user/anaconda3/envs/pytorch_p39/lib/python3.9/site-packages (from transformers) (3.6.0)\n",
      "Requirement already satisfied: tqdm>=4.27 in /home/ec2-user/anaconda3/envs/pytorch_p39/lib/python3.9/site-packages (from transformers) (4.63.2)\n",
      "Requirement already satisfied: numpy>=1.17 in /home/ec2-user/anaconda3/envs/pytorch_p39/lib/python3.9/site-packages (from transformers) (1.23.5)\n",
      "Requirement already satisfied: typing-extensions>=3.7.4.3 in /home/ec2-user/anaconda3/envs/pytorch_p39/lib/python3.9/site-packages (from huggingface-hub<1.0,>=0.11.0->transformers) (4.4.0)\n",
      "Requirement already satisfied: pyparsing!=3.0.5,>=2.0.2 in /home/ec2-user/anaconda3/envs/pytorch_p39/lib/python3.9/site-packages (from packaging>=20.0->transformers) (3.0.9)\n",
      "Requirement already satisfied: urllib3<1.27,>=1.21.1 in /home/ec2-user/anaconda3/envs/pytorch_p39/lib/python3.9/site-packages (from requests->transformers) (1.26.8)\n",
      "Requirement already satisfied: idna<4,>=2.5 in /home/ec2-user/anaconda3/envs/pytorch_p39/lib/python3.9/site-packages (from requests->transformers) (3.4)\n",
      "Requirement already satisfied: certifi>=2017.4.17 in /home/ec2-user/anaconda3/envs/pytorch_p39/lib/python3.9/site-packages (from requests->transformers) (2022.12.7)\n",
      "Requirement already satisfied: charset-normalizer<3,>=2 in /home/ec2-user/anaconda3/envs/pytorch_p39/lib/python3.9/site-packages (from requests->transformers) (2.1.1)\n",
      "Building wheels for collected packages: jaconv, neologdn, ipadic, unidic-lite\n",
      "  Building wheel for jaconv (setup.py) ... \u001b[?25ldone\n",
      "\u001b[?25h  Created wheel for jaconv: filename=jaconv-0.3.4-py3-none-any.whl size=16417 sha256=1f3011d2504c9449bff0b1a746f16063a5ff68a1b6f6f24bb744f1eca0f39a26\n",
      "  Stored in directory: /home/ec2-user/.cache/pip/wheels/f5/03/b1/090bfac2a7f91870077434d8abf61a7af8a02d3bbbfe1ce08e\n",
      "  Building wheel for neologdn (setup.py) ... \u001b[?25ldone\n",
      "\u001b[?25h  Created wheel for neologdn: filename=neologdn-0.5.1-cp39-cp39-linux_x86_64.whl size=55314 sha256=17773ae25db562a93030b641b3ab2b91e9c9d91ea64ee6578ee06fbbaaaab44b\n",
      "  Stored in directory: /home/ec2-user/.cache/pip/wheels/c3/a4/b9/ca97bbfde3bf0646e407ada317bf9cbcf272b16529fca9d912\n",
      "  Building wheel for ipadic (setup.py) ... \u001b[?25ldone\n",
      "\u001b[?25h  Created wheel for ipadic: filename=ipadic-1.0.0-py3-none-any.whl size=13556703 sha256=85acabf99221532ab0890b4fbd326f9b1003b85b89945df0b518ca78f34760da\n",
      "  Stored in directory: /home/ec2-user/.cache/pip/wheels/4a/fb/28/21aa4bc5d871bbe3797f8372833fe4c589e1984c7bda05db16\n",
      "  Building wheel for unidic-lite (setup.py) ... \u001b[?25ldone\n",
      "\u001b[?25h  Created wheel for unidic-lite: filename=unidic_lite-1.0.8-py3-none-any.whl size=47658818 sha256=b66f688b829edc9545b9448db396d29504cae9840886fa69fc78a5c33a7edee8\n",
      "  Stored in directory: /home/ec2-user/.cache/pip/wheels/22/75/2f/033d31f7054809b88a2670cc754e1f378687389c0964c6ea1e\n",
      "Successfully built jaconv neologdn ipadic unidic-lite\n",
      "Installing collected packages: unidic-lite, tokenizers, neologdn, mecab-python3, jaconv, ipadic, fugashi, huggingface-hub, transformers\n",
      "Successfully installed fugashi-1.2.1 huggingface-hub-0.13.0 ipadic-1.0.0 jaconv-0.3.4 mecab-python3-1.0.6 neologdn-0.5.1 tokenizers-0.13.2 transformers-4.26.1 unidic-lite-1.0.8\n"
     ]
    }
   ],
   "source": [
    "!pip install transformers jaconv neologdn fugashi ipadic mecab-python3 unidic-lite"
   ]
  },
  {
   "cell_type": "code",
   "execution_count": 1,
   "metadata": {},
   "outputs": [],
   "source": [
    "import os, sys\n",
    "import pandas as pd\n",
    "import numpy as np\n",
    "import torch\n",
    "import random\n",
    "import numpy as np\n",
    "from numpy.linalg import norm\n",
    "import warnings\n",
    "import seaborn as sns\n",
    "import ast\n",
    "from sklearn import preprocessing\n",
    "from sklearn.model_selection import train_test_split\n",
    "from sklearn.metrics import accuracy_score, precision_recall_fscore_support,classification_report,roc_auc_score,roc_curve,confusion_matrix\n",
    "import transformers\n",
    "from transformers import BertJapaneseTokenizer, BertForSequenceClassification, Trainer, TrainingArguments, logging, BertModel\n",
    "from torch.utils.data import DataLoader\n",
    "import matplotlib.pyplot as plt\n",
    "from sklearn.metrics import \n",
    "from tqdm import tqdm\n",
    "import warnings\n",
    "warnings.filterwarnings('ignore')\n",
    "%matplotlib inline"
   ]
  },
  {
   "cell_type": "markdown",
   "metadata": {},
   "source": [
    "## Notebook Settings"
   ]
  },
  {
   "cell_type": "code",
   "execution_count": 3,
   "metadata": {},
   "outputs": [],
   "source": [
    "#os.environ['CUDA_VISIBLE_DEVICES']=\"0\""
   ]
  },
  {
   "cell_type": "code",
   "execution_count": 2,
   "metadata": {},
   "outputs": [],
   "source": [
    "tqdm.pandas()"
   ]
  },
  {
   "cell_type": "code",
   "execution_count": 3,
   "metadata": {},
   "outputs": [],
   "source": [
    "warnings.filterwarnings('ignore')\n",
    "num_of_seed = 0\n",
    "random.seed(num_of_seed)\n",
    "np.random.seed(num_of_seed)\n",
    "torch.manual_seed(num_of_seed)\n",
    "torch.cuda.manual_seed_all(num_of_seed)\n",
    "torch.backends.cudnn.benchmark = False\n",
    "torch.backends.cudnn.deterministic = True"
   ]
  },
  {
   "cell_type": "markdown",
   "metadata": {},
   "source": [
    "## Constant Parameters"
   ]
  },
  {
   "cell_type": "code",
   "execution_count": 4,
   "metadata": {},
   "outputs": [],
   "source": [
    "DATA = './output/ae_dataset.csv'\n",
    "TOHOKU_BERT='cl-tohoku/bert-large-japanese'\n",
    "OUTPUT_PATH = \"./output/classificationBertAE\""
   ]
  },
  {
   "cell_type": "code",
   "execution_count": 5,
   "metadata": {},
   "outputs": [],
   "source": [
    "MAX_LENGTH = 512\n",
    "EPOCH = 5\n",
    "BATCH_SIZE = 32"
   ]
  },
  {
   "cell_type": "markdown",
   "metadata": {},
   "source": [
    "### Input Data"
   ]
  },
  {
   "cell_type": "code",
   "execution_count": 7,
   "metadata": {},
   "outputs": [],
   "source": [
    "df_data = pd.read_csv(DATA)"
   ]
  },
  {
   "cell_type": "markdown",
   "metadata": {},
   "source": [
    "## DataSet Creation"
   ]
  },
  {
   "cell_type": "code",
   "execution_count": 47,
   "metadata": {},
   "outputs": [],
   "source": [
    "df_data.columns = ['row', 'word', 'label']"
   ]
  },
  {
   "cell_type": "code",
   "execution_count": 48,
   "metadata": {},
   "outputs": [],
   "source": [
    "# ラベルの二値化\n",
    "df_data['label'] = df_data['label'].apply(lambda x: 0 if x else 1)"
   ]
  },
  {
   "cell_type": "code",
   "execution_count": 49,
   "metadata": {},
   "outputs": [],
   "source": [
    "# Holdout\n",
    "df_train_val, df_holdout = train_test_split(df_data, test_size=0.1, stratify=df_data['label'])"
   ]
  },
  {
   "cell_type": "code",
   "execution_count": 12,
   "metadata": {},
   "outputs": [],
   "source": [
    "# 学習データとテストデータ\n",
    "# df_train_val = df_train_val.drop_duplicates(['row', 'label']) # ラベルの数を合わせてデータを減らす\n",
    "df_train, df_val = train_test_split(df_train_val, test_size=0.1, stratify=df_train_val['label'])"
   ]
  },
  {
   "cell_type": "code",
   "execution_count": 13,
   "metadata": {},
   "outputs": [
    {
     "data": {
      "text/plain": [
       "label\n",
       "1    4050\n",
       "0    1047\n",
       "dtype: int64"
      ]
     },
     "execution_count": 13,
     "metadata": {},
     "output_type": "execute_result"
    }
   ],
   "source": [
    "df_holdout.value_counts('label')"
   ]
  },
  {
   "cell_type": "code",
   "execution_count": 14,
   "metadata": {},
   "outputs": [
    {
     "data": {
      "text/plain": [
       "label\n",
       "1    32796\n",
       "0     8482\n",
       "dtype: int64"
      ]
     },
     "execution_count": 14,
     "metadata": {},
     "output_type": "execute_result"
    }
   ],
   "source": [
    "df_train.value_counts('label')"
   ]
  },
  {
   "cell_type": "code",
   "execution_count": 15,
   "metadata": {},
   "outputs": [
    {
     "data": {
      "text/plain": [
       "label\n",
       "1    3644\n",
       "0     943\n",
       "dtype: int64"
      ]
     },
     "execution_count": 15,
     "metadata": {},
     "output_type": "execute_result"
    }
   ],
   "source": [
    "df_val.value_counts('label')"
   ]
  },
  {
   "cell_type": "code",
   "execution_count": 107,
   "metadata": {},
   "outputs": [],
   "source": [
    "#df_holdout.to_csv(f'{OUTPUT_PATH}/df_holdout.csv', index=False)\n",
    "#df_train.to_csv(f'{OUTPUT_PATH}/df_train.csv', index=False)\n",
    "#df_val.to_csv(f'{OUTPUT_PATH}/df_val.csv', index=False)"
   ]
  },
  {
   "cell_type": "markdown",
   "metadata": {},
   "source": [
    "## Model Engineering\n",
    "東北大学のBERT-LARGEを使用してBERTのモデルを構築。１つのBERTに対して２つのSentenceをInputする"
   ]
  },
  {
   "cell_type": "code",
   "execution_count": 6,
   "metadata": {},
   "outputs": [],
   "source": [
    "class ClasificationBertJapanese:\n",
    "    def __init__(self, model_path, tokenizer_path, batch_size):\n",
    "        self.model_path = model_path\n",
    "        self.tokenizer_path = tokenizer_path\n",
    "        self.batch_size = batch_size\n",
    "        self.device = self.init_device()\n",
    "        self.tokenizer = self.init_tokenizer()\n",
    "        self.model = self.init_model()\n",
    "    \n",
    "    def init_device(self):\n",
    "        device = torch.device('cuda' if torch.cuda.is_available() else 'cpu')\n",
    "        return device\n",
    "\n",
    "    def init_tokenizer(self):\n",
    "        tokenizer = BertJapaneseTokenizer.from_pretrained(self.tokenizer_path)\n",
    "        return tokenizer\n",
    "    \n",
    "    def init_model(self):\n",
    "        model = BertForSequenceClassification.from_pretrained(self.model_path).to(self.device)\n",
    "        return model\n",
    "    \n",
    "    def inference(self, texts, words):\n",
    "        # トークン化\n",
    "        row_word_tokens = [(self.tokenizer.tokenize(text), self.tokenizer.tokenize(word)) for text, word in zip(texts, words)]\n",
    "        preds = []\n",
    "        for i in range(0, len(row_word_tokens), self.batch_size):\n",
    "            with torch.no_grad():\n",
    "                inputs = self.tokenizer.batch_encode_plus(\n",
    "                    row_word_tokens[i:i+self.batch_size], \n",
    "                    return_tensors='pt', \n",
    "                    truncation='only_first', \n",
    "                    is_split_into_words=False,\n",
    "                    padding='max_length', \n",
    "                    max_length=MAX_LENGTH\n",
    "                ).to(self.device)\n",
    "                outputs = self.model(**inputs)\n",
    "                m = torch.nn.Softmax(dim=1)\n",
    "                o_args = m(outputs.logits)\n",
    "                o_args_array = o_args.to('cpu').detach().numpy().copy()\n",
    "                preds += o_args_array[:,1].tolist()\n",
    "                torch.cuda.empty_cache()\n",
    "        return preds"
   ]
  },
  {
   "cell_type": "code",
   "execution_count": 16,
   "metadata": {},
   "outputs": [
    {
     "data": {
      "application/json": {
       "ascii": false,
       "bar_format": null,
       "colour": null,
       "elapsed": 0.016223430633544922,
       "initial": 0,
       "n": 0,
       "ncols": null,
       "nrows": null,
       "postfix": null,
       "prefix": "Downloading (…)solve/main/vocab.txt",
       "rate": null,
       "total": 236001,
       "unit": "B",
       "unit_divisor": 1000,
       "unit_scale": true
      },
      "application/vnd.jupyter.widget-view+json": {
       "model_id": "47c02341c0364716bf3582c0af14668a",
       "version_major": 2,
       "version_minor": 0
      },
      "text/plain": [
       "Downloading (…)solve/main/vocab.txt:   0%|          | 0.00/236k [00:00<?, ?B/s]"
      ]
     },
     "metadata": {},
     "output_type": "display_data"
    },
    {
     "data": {
      "application/json": {
       "ascii": false,
       "bar_format": null,
       "colour": null,
       "elapsed": 0.014806032180786133,
       "initial": 0,
       "n": 0,
       "ncols": null,
       "nrows": null,
       "postfix": null,
       "prefix": "Downloading (…)okenizer_config.json",
       "rate": null,
       "total": 174,
       "unit": "B",
       "unit_divisor": 1000,
       "unit_scale": true
      },
      "application/vnd.jupyter.widget-view+json": {
       "model_id": "9609c4bdcd294180a6f1d27d3784ce38",
       "version_major": 2,
       "version_minor": 0
      },
      "text/plain": [
       "Downloading (…)okenizer_config.json:   0%|          | 0.00/174 [00:00<?, ?B/s]"
      ]
     },
     "metadata": {},
     "output_type": "display_data"
    },
    {
     "data": {
      "application/json": {
       "ascii": false,
       "bar_format": null,
       "colour": null,
       "elapsed": 0.014801025390625,
       "initial": 0,
       "n": 0,
       "ncols": null,
       "nrows": null,
       "postfix": null,
       "prefix": "Downloading (…)lve/main/config.json",
       "rate": null,
       "total": 518,
       "unit": "B",
       "unit_divisor": 1000,
       "unit_scale": true
      },
      "application/vnd.jupyter.widget-view+json": {
       "model_id": "0d08d51e6d004975a27920c07ebd009b",
       "version_major": 2,
       "version_minor": 0
      },
      "text/plain": [
       "Downloading (…)lve/main/config.json:   0%|          | 0.00/518 [00:00<?, ?B/s]"
      ]
     },
     "metadata": {},
     "output_type": "display_data"
    },
    {
     "data": {
      "application/json": {
       "ascii": false,
       "bar_format": null,
       "colour": null,
       "elapsed": 0.016271591186523438,
       "initial": 0,
       "n": 0,
       "ncols": null,
       "nrows": null,
       "postfix": null,
       "prefix": "Downloading (…)\"pytorch_model.bin\";",
       "rate": null,
       "total": 1354281605,
       "unit": "B",
       "unit_divisor": 1000,
       "unit_scale": true
      },
      "application/vnd.jupyter.widget-view+json": {
       "model_id": "cc6cdf6024f54b70b9acb39e3c760755",
       "version_major": 2,
       "version_minor": 0
      },
      "text/plain": [
       "Downloading (…)\"pytorch_model.bin\";:   0%|          | 0.00/1.35G [00:00<?, ?B/s]"
      ]
     },
     "metadata": {},
     "output_type": "display_data"
    },
    {
     "name": "stderr",
     "output_type": "stream",
     "text": [
      "Some weights of the model checkpoint at cl-tohoku/bert-large-japanese were not used when initializing BertForSequenceClassification: ['cls.seq_relationship.weight', 'cls.predictions.transform.LayerNorm.bias', 'cls.predictions.transform.LayerNorm.weight', 'cls.predictions.decoder.weight', 'cls.predictions.transform.dense.bias', 'cls.seq_relationship.bias', 'cls.predictions.bias', 'cls.predictions.decoder.bias', 'cls.predictions.transform.dense.weight']\n",
      "- This IS expected if you are initializing BertForSequenceClassification from the checkpoint of a model trained on another task or with another architecture (e.g. initializing a BertForSequenceClassification model from a BertForPreTraining model).\n",
      "- This IS NOT expected if you are initializing BertForSequenceClassification from the checkpoint of a model that you expect to be exactly identical (initializing a BertForSequenceClassification model from a BertForSequenceClassification model).\n",
      "Some weights of BertForSequenceClassification were not initialized from the model checkpoint at cl-tohoku/bert-large-japanese and are newly initialized: ['classifier.weight', 'classifier.bias']\n",
      "You should probably TRAIN this model on a down-stream task to be able to use it for predictions and inference.\n"
     ]
    }
   ],
   "source": [
    "bert = ClasificationBertJapanese(model_path=TOHOKU_BERT, tokenizer_path=TOHOKU_BERT, batch_size=BATCH_SIZE)"
   ]
  },
  {
   "cell_type": "markdown",
   "metadata": {},
   "source": [
    "## Dataset"
   ]
  },
  {
   "cell_type": "code",
   "execution_count": 17,
   "metadata": {},
   "outputs": [],
   "source": [
    "class Dataset(torch.utils.data.Dataset):\n",
    "    def __init__(self, df_encode, labels):\n",
    "        self.df_encode = df_encode\n",
    "        self.labels = labels\n",
    "\n",
    "    def __getitem__(self, idx):\n",
    "        item = {col: torch.tensor(self.df_encode[col].to_list()[idx]) for col in self.df_encode.columns}\n",
    "        item['labels'] = torch.tensor(self.labels[idx])\n",
    "        return item\n",
    "\n",
    "    def __len__(self):\n",
    "        return len(self.labels)"
   ]
  },
  {
   "cell_type": "code",
   "execution_count": 18,
   "metadata": {},
   "outputs": [],
   "source": [
    "df_train['row_tokens'] = df_train['row'].apply(lambda x: bert.tokenizer.tokenize(x))\n",
    "df_train['word_tokens'] = df_train['word'].apply(lambda x: bert.tokenizer.tokenize(x))\n",
    "df_train['encode'] = df_train.apply(\n",
    "    lambda x: bert.tokenizer.encode_plus(x['row_tokens'] ,x['word_tokens'], padding='max_length', max_length=MAX_LENGTH, is_pretokenized=True, truncation='only_first',), axis=1)"
   ]
  },
  {
   "cell_type": "code",
   "execution_count": 19,
   "metadata": {},
   "outputs": [],
   "source": [
    "df_val['row_tokens'] = df_val['row'].apply(lambda x: bert.tokenizer.tokenize(x))\n",
    "df_val['word_tokens'] = df_val['word'].apply(lambda x: bert.tokenizer.tokenize(x))\n",
    "df_val['ids'] = df_val.apply(lambda x: bert.tokenizer.encode(x['row_tokens'] ,x['word_tokens'] , is_pretokenized=True), axis=1)\n",
    "df_val['encode'] = df_val.apply(\n",
    "    lambda x: bert.tokenizer.encode_plus(x['row_tokens'] ,x['word_tokens'], padding='max_length', max_length=MAX_LENGTH, is_pretokenized=True, truncation='only_first'), axis=1)"
   ]
  },
  {
   "cell_type": "code",
   "execution_count": 20,
   "metadata": {},
   "outputs": [],
   "source": [
    "train_dataset = Dataset(pd.DataFrame(df_train['encode'].to_list()), df_train['label'].to_list())\n",
    "val_dataset = Dataset(pd.DataFrame(df_val['encode'].to_list()), df_val['label'].to_list())"
   ]
  },
  {
   "cell_type": "markdown",
   "metadata": {},
   "source": [
    "## Training"
   ]
  },
  {
   "cell_type": "code",
   "execution_count": 21,
   "metadata": {},
   "outputs": [],
   "source": [
    "def compute_metrics(pred):\n",
    "    labels = pred.label_ids\n",
    "    preds = pred.predictions.argmax(-1)\n",
    "    precision, recall, f1, _ = precision_recall_fscore_support(labels, preds, average='micro')\n",
    "    acc = accuracy_score(labels, preds)\n",
    "    \"\"\"\n",
    "    tn, fp, fn, tp = confusion_matrix(labels, preds).ravel()\n",
    "    precision = tp/(tp+fp)\n",
    "    recall = tp/(tp+fn)\n",
    "    f1 = 2*precision*recall/(precision+recall)  \n",
    "    \"\"\"\n",
    "    return {\n",
    "        'accuracy': acc,\n",
    "        'f1': f1,\n",
    "        'precision': precision,\n",
    "        'recall': recall\n",
    "    }"
   ]
  },
  {
   "cell_type": "code",
   "execution_count": 26,
   "metadata": {},
   "outputs": [],
   "source": [
    "training_args = TrainingArguments(\n",
    "    output_dir=OUTPUT_PATH,\n",
    "    overwrite_output_dir = 'True',\n",
    "    evaluation_strategy=\"steps\",\n",
    "    eval_steps=500,\n",
    "    per_device_train_batch_size=BATCH_SIZE,\n",
    "    per_device_eval_batch_size=BATCH_SIZE,\n",
    "    learning_rate=2e-5,\n",
    "    num_train_epochs=EPOCH,\n",
    "    weight_decay=0.01,\n",
    "    load_best_model_at_end=True,\n",
    ")"
   ]
  },
  {
   "cell_type": "code",
   "execution_count": 27,
   "metadata": {},
   "outputs": [],
   "source": [
    "trainer = Trainer(\n",
    "    model=bert.model,\n",
    "    args=training_args,\n",
    "    train_dataset=train_dataset,\n",
    "    eval_dataset=val_dataset,\n",
    "    compute_metrics=compute_metrics,\n",
    ")"
   ]
  },
  {
   "cell_type": "code",
   "execution_count": 28,
   "metadata": {
    "scrolled": false
   },
   "outputs": [
    {
     "name": "stderr",
     "output_type": "stream",
     "text": [
      "***** Running training *****\n",
      "  Num examples = 41278\n",
      "  Num Epochs = 5\n",
      "  Instantaneous batch size per device = 32\n",
      "  Total train batch size (w. parallel, distributed & accumulation) = 32\n",
      "  Gradient Accumulation steps = 1\n",
      "  Total optimization steps = 6450\n",
      "  Number of trainable parameters = 337443842\n"
     ]
    },
    {
     "data": {
      "text/html": [
       "\n",
       "    <div>\n",
       "      \n",
       "      <progress value='6450' max='6450' style='width:300px; height:20px; vertical-align: middle;'></progress>\n",
       "      [6450/6450 3:45:32, Epoch 5/5]\n",
       "    </div>\n",
       "    <table border=\"1\" class=\"dataframe\">\n",
       "  <thead>\n",
       " <tr style=\"text-align: left;\">\n",
       "      <th>Step</th>\n",
       "      <th>Training Loss</th>\n",
       "      <th>Validation Loss</th>\n",
       "      <th>Accuracy</th>\n",
       "      <th>F1</th>\n",
       "      <th>Precision</th>\n",
       "      <th>Recall</th>\n",
       "    </tr>\n",
       "  </thead>\n",
       "  <tbody>\n",
       "    <tr>\n",
       "      <td>500</td>\n",
       "      <td>0.211400</td>\n",
       "      <td>0.162408</td>\n",
       "      <td>0.938304</td>\n",
       "      <td>0.938304</td>\n",
       "      <td>0.938304</td>\n",
       "      <td>0.938304</td>\n",
       "    </tr>\n",
       "    <tr>\n",
       "      <td>1000</td>\n",
       "      <td>0.151500</td>\n",
       "      <td>0.147522</td>\n",
       "      <td>0.948768</td>\n",
       "      <td>0.948768</td>\n",
       "      <td>0.948768</td>\n",
       "      <td>0.948768</td>\n",
       "    </tr>\n",
       "    <tr>\n",
       "      <td>1500</td>\n",
       "      <td>0.127100</td>\n",
       "      <td>0.168941</td>\n",
       "      <td>0.946806</td>\n",
       "      <td>0.946806</td>\n",
       "      <td>0.946806</td>\n",
       "      <td>0.946806</td>\n",
       "    </tr>\n",
       "    <tr>\n",
       "      <td>2000</td>\n",
       "      <td>0.107000</td>\n",
       "      <td>0.152479</td>\n",
       "      <td>0.952692</td>\n",
       "      <td>0.952692</td>\n",
       "      <td>0.952692</td>\n",
       "      <td>0.952692</td>\n",
       "    </tr>\n",
       "    <tr>\n",
       "      <td>2500</td>\n",
       "      <td>0.107500</td>\n",
       "      <td>0.123011</td>\n",
       "      <td>0.959015</td>\n",
       "      <td>0.959015</td>\n",
       "      <td>0.959015</td>\n",
       "      <td>0.959015</td>\n",
       "    </tr>\n",
       "    <tr>\n",
       "      <td>3000</td>\n",
       "      <td>0.072400</td>\n",
       "      <td>0.181541</td>\n",
       "      <td>0.955308</td>\n",
       "      <td>0.955308</td>\n",
       "      <td>0.955308</td>\n",
       "      <td>0.955308</td>\n",
       "    </tr>\n",
       "    <tr>\n",
       "      <td>3500</td>\n",
       "      <td>0.070400</td>\n",
       "      <td>0.162399</td>\n",
       "      <td>0.953564</td>\n",
       "      <td>0.953564</td>\n",
       "      <td>0.953564</td>\n",
       "      <td>0.953564</td>\n",
       "    </tr>\n",
       "    <tr>\n",
       "      <td>4000</td>\n",
       "      <td>0.059100</td>\n",
       "      <td>0.163845</td>\n",
       "      <td>0.960977</td>\n",
       "      <td>0.960977</td>\n",
       "      <td>0.960977</td>\n",
       "      <td>0.960977</td>\n",
       "    </tr>\n",
       "    <tr>\n",
       "      <td>4500</td>\n",
       "      <td>0.036600</td>\n",
       "      <td>0.188376</td>\n",
       "      <td>0.961413</td>\n",
       "      <td>0.961413</td>\n",
       "      <td>0.961413</td>\n",
       "      <td>0.961413</td>\n",
       "    </tr>\n",
       "    <tr>\n",
       "      <td>5000</td>\n",
       "      <td>0.046700</td>\n",
       "      <td>0.164673</td>\n",
       "      <td>0.961195</td>\n",
       "      <td>0.961195</td>\n",
       "      <td>0.961195</td>\n",
       "      <td>0.961195</td>\n",
       "    </tr>\n",
       "    <tr>\n",
       "      <td>5500</td>\n",
       "      <td>0.025200</td>\n",
       "      <td>0.201342</td>\n",
       "      <td>0.964247</td>\n",
       "      <td>0.964247</td>\n",
       "      <td>0.964247</td>\n",
       "      <td>0.964247</td>\n",
       "    </tr>\n",
       "    <tr>\n",
       "      <td>6000</td>\n",
       "      <td>0.025000</td>\n",
       "      <td>0.202691</td>\n",
       "      <td>0.964029</td>\n",
       "      <td>0.964029</td>\n",
       "      <td>0.964029</td>\n",
       "      <td>0.964029</td>\n",
       "    </tr>\n",
       "  </tbody>\n",
       "</table><p>"
      ],
      "text/plain": [
       "<IPython.core.display.HTML object>"
      ]
     },
     "metadata": {},
     "output_type": "display_data"
    },
    {
     "name": "stderr",
     "output_type": "stream",
     "text": [
      "***** Running Evaluation *****\n",
      "  Num examples = 4587\n",
      "  Batch size = 32\n",
      "Saving model checkpoint to ./output/classificationBertAE/checkpoint-500\n",
      "Configuration saved in ./output/classificationBertAE/checkpoint-500/config.json\n",
      "Model weights saved in ./output/classificationBertAE/checkpoint-500/pytorch_model.bin\n",
      "***** Running Evaluation *****\n",
      "  Num examples = 4587\n",
      "  Batch size = 32\n",
      "Saving model checkpoint to ./output/classificationBertAE/checkpoint-1000\n",
      "Configuration saved in ./output/classificationBertAE/checkpoint-1000/config.json\n",
      "Model weights saved in ./output/classificationBertAE/checkpoint-1000/pytorch_model.bin\n",
      "***** Running Evaluation *****\n",
      "  Num examples = 4587\n",
      "  Batch size = 32\n",
      "Saving model checkpoint to ./output/classificationBertAE/checkpoint-1500\n",
      "Configuration saved in ./output/classificationBertAE/checkpoint-1500/config.json\n",
      "Model weights saved in ./output/classificationBertAE/checkpoint-1500/pytorch_model.bin\n",
      "***** Running Evaluation *****\n",
      "  Num examples = 4587\n",
      "  Batch size = 32\n",
      "Saving model checkpoint to ./output/classificationBertAE/checkpoint-2000\n",
      "Configuration saved in ./output/classificationBertAE/checkpoint-2000/config.json\n",
      "Model weights saved in ./output/classificationBertAE/checkpoint-2000/pytorch_model.bin\n",
      "***** Running Evaluation *****\n",
      "  Num examples = 4587\n",
      "  Batch size = 32\n",
      "Saving model checkpoint to ./output/classificationBertAE/checkpoint-2500\n",
      "Configuration saved in ./output/classificationBertAE/checkpoint-2500/config.json\n",
      "Model weights saved in ./output/classificationBertAE/checkpoint-2500/pytorch_model.bin\n",
      "***** Running Evaluation *****\n",
      "  Num examples = 4587\n",
      "  Batch size = 32\n",
      "Saving model checkpoint to ./output/classificationBertAE/checkpoint-3000\n",
      "Configuration saved in ./output/classificationBertAE/checkpoint-3000/config.json\n",
      "Model weights saved in ./output/classificationBertAE/checkpoint-3000/pytorch_model.bin\n",
      "***** Running Evaluation *****\n",
      "  Num examples = 4587\n",
      "  Batch size = 32\n",
      "Saving model checkpoint to ./output/classificationBertAE/checkpoint-3500\n",
      "Configuration saved in ./output/classificationBertAE/checkpoint-3500/config.json\n",
      "Model weights saved in ./output/classificationBertAE/checkpoint-3500/pytorch_model.bin\n",
      "***** Running Evaluation *****\n",
      "  Num examples = 4587\n",
      "  Batch size = 32\n",
      "Saving model checkpoint to ./output/classificationBertAE/checkpoint-4000\n",
      "Configuration saved in ./output/classificationBertAE/checkpoint-4000/config.json\n",
      "Model weights saved in ./output/classificationBertAE/checkpoint-4000/pytorch_model.bin\n",
      "***** Running Evaluation *****\n",
      "  Num examples = 4587\n",
      "  Batch size = 32\n",
      "Saving model checkpoint to ./output/classificationBertAE/checkpoint-4500\n",
      "Configuration saved in ./output/classificationBertAE/checkpoint-4500/config.json\n",
      "Model weights saved in ./output/classificationBertAE/checkpoint-4500/pytorch_model.bin\n",
      "***** Running Evaluation *****\n",
      "  Num examples = 4587\n",
      "  Batch size = 32\n",
      "Saving model checkpoint to ./output/classificationBertAE/checkpoint-5000\n",
      "Configuration saved in ./output/classificationBertAE/checkpoint-5000/config.json\n",
      "Model weights saved in ./output/classificationBertAE/checkpoint-5000/pytorch_model.bin\n",
      "***** Running Evaluation *****\n",
      "  Num examples = 4587\n",
      "  Batch size = 32\n",
      "Saving model checkpoint to ./output/classificationBertAE/checkpoint-5500\n",
      "Configuration saved in ./output/classificationBertAE/checkpoint-5500/config.json\n",
      "Model weights saved in ./output/classificationBertAE/checkpoint-5500/pytorch_model.bin\n",
      "***** Running Evaluation *****\n",
      "  Num examples = 4587\n",
      "  Batch size = 32\n",
      "Saving model checkpoint to ./output/classificationBertAE/checkpoint-6000\n",
      "Configuration saved in ./output/classificationBertAE/checkpoint-6000/config.json\n",
      "Model weights saved in ./output/classificationBertAE/checkpoint-6000/pytorch_model.bin\n",
      "\n",
      "\n",
      "Training completed. Do not forget to share your model on huggingface.co/models =)\n",
      "\n",
      "\n",
      "Loading best model from ./output/classificationBertAE/checkpoint-2500 (score: 0.12301059067249298).\n",
      "Saving model checkpoint to ./output/classificationBertAE\n",
      "Configuration saved in ./output/classificationBertAE/config.json\n",
      "Model weights saved in ./output/classificationBertAE/pytorch_model.bin\n"
     ]
    }
   ],
   "source": [
    "trainer.train()\n",
    "#trainer.save_model()"
   ]
  },
  {
   "cell_type": "markdown",
   "metadata": {},
   "source": [
    "## Evaluation"
   ]
  },
  {
   "cell_type": "code",
   "execution_count": 7,
   "metadata": {
    "scrolled": true
   },
   "outputs": [],
   "source": [
    "bert = ClasificationBertJapanese(model_path=\"./output/classificationBertAE/checkpoint-5500\", tokenizer_path=TOHOKU_BERT, batch_size=BATCH_SIZE)"
   ]
  },
  {
   "cell_type": "code",
   "execution_count": 8,
   "metadata": {},
   "outputs": [],
   "source": [
    "df_holdout = pd.read_csv(f'{OUTPUT_PATH}/validation_result.csv')\n",
    "df_holdout['label']=df_holdout['label'].apply(lambda x: 1 if x==0 else 0)"
   ]
  },
  {
   "cell_type": "code",
   "execution_count": 9,
   "metadata": {},
   "outputs": [
    {
     "name": "stderr",
     "output_type": "stream",
     "text": [
      "100%|██████████| 5097/5097 [08:43<00:00,  9.74it/s]\n"
     ]
    }
   ],
   "source": [
    "preds=[]\n",
    "for i in tqdm(range(len(df_holdout))):\n",
    "    preds+=bert.inference([df_holdout.iloc[i,:]['row']], [df_holdout.iloc[i,:]['word']])\n",
    "df_holdout['pred']=preds\n",
    "df_holdout['pred']=df_holdout['pred'].apply(lambda x: 1-x)"
   ]
  },
  {
   "cell_type": "markdown",
   "metadata": {},
   "source": [
    "### Histgram"
   ]
  },
  {
   "cell_type": "code",
   "execution_count": 11,
   "metadata": {
    "scrolled": false
   },
   "outputs": [
    {
     "data": {
      "image/png": "[encoded data removed]",
      "text/plain": [
       "<Figure size 640x480 with 1 Axes>"
      ]
     },
     "metadata": {},
     "output_type": "display_data"
    }
   ],
   "source": [
    "sns.distplot(df_holdout[df_holdout['label']==1]['pred'], bins=20,label=\"ae_true=1\").set(title='Tohoku-classificationBERT_AE')\n",
    "sns.distplot(df_holdout[df_holdout['label']==0]['pred'], bins=20,label=\"ae_true=0\")\n",
    "plt.legend()\n",
    "plt.show()"
   ]
  },
  {
   "cell_type": "markdown",
   "metadata": {},
   "source": [
    "### ROC-AUC"
   ]
  },
  {
   "cell_type": "code",
   "execution_count": 12,
   "metadata": {},
   "outputs": [],
   "source": [
    "# AUC\n",
    "auc = roc_auc_score(df_holdout['label'], df_holdout['pred'])\n",
    "# # ROC曲線の値の生成：fpr、tpr、閾値\n",
    "fpr, tpr, thresholds = roc_curve(df_holdout['label'], df_holdout['pred'])"
   ]
  },
  {
   "cell_type": "code",
   "execution_count": 13,
   "metadata": {},
   "outputs": [
    {
     "data": {
      "image/png": "[encoded data removed]",
      "text/plain": [
       "<Figure size 640x480 with 1 Axes>"
      ]
     },
     "metadata": {},
     "output_type": "display_data"
    }
   ],
   "source": [
    "# ROC曲線のプロット\n",
    "plt.plot([0, 1], [0, 1], 'k--')\n",
    "plt.plot(fpr, tpr)\n",
    "plt.xlabel('False Positive Rate')\n",
    "plt.ylabel('True Positive Rate')\n",
    "plt.title(f'AUC: {round(auc,2)}')\n",
    "plt.show()"
   ]
  },
  {
   "cell_type": "code",
   "execution_count": 14,
   "metadata": {},
   "outputs": [
    {
     "name": "stdout",
     "output_type": "stream",
     "text": [
      "tn:3955, fp:95, fn:96, tp:951\n"
     ]
    },
    {
     "data": {
      "text/html": [
       "<div>\n",
       "<style scoped>\n",
       "    .dataframe tbody tr th:only-of-type {\n",
       "        vertical-align: middle;\n",
       "    }\n",
       "\n",
       "    .dataframe tbody tr th {\n",
       "        vertical-align: top;\n",
       "    }\n",
       "\n",
       "    .dataframe thead th {\n",
       "        text-align: right;\n",
       "    }\n",
       "</style>\n",
       "<table border=\"1\" class=\"dataframe\">\n",
       "  <thead>\n",
       "    <tr style=\"text-align: right;\">\n",
       "      <th></th>\n",
       "      <th>0</th>\n",
       "      <th>1</th>\n",
       "    </tr>\n",
       "  </thead>\n",
       "  <tbody>\n",
       "    <tr>\n",
       "      <th>0</th>\n",
       "      <td>3955</td>\n",
       "      <td>95</td>\n",
       "    </tr>\n",
       "    <tr>\n",
       "      <th>1</th>\n",
       "      <td>96</td>\n",
       "      <td>951</td>\n",
       "    </tr>\n",
       "  </tbody>\n",
       "</table>\n",
       "</div>"
      ],
      "text/plain": [
       "      0    1\n",
       "0  3955   95\n",
       "1    96  951"
      ]
     },
     "execution_count": 14,
     "metadata": {},
     "output_type": "execute_result"
    }
   ],
   "source": [
    "df_holdout['pred_label'] = df_holdout['pred'].apply(lambda x: 1 if x > 0.7 else 0)\n",
    "tn, fp, fn, tp = confusion_matrix(df_holdout['label'], df_holdout['pred_label']).ravel()\n",
    "print(f'tn:{tn}, fp:{fp}, fn:{fn}, tp:{tp}')\n",
    "pd.DataFrame(confusion_matrix(df_holdout['label'], df_holdout['pred_label']))"
   ]
  },
  {
   "cell_type": "code",
   "execution_count": 17,
   "metadata": {},
   "outputs": [
    {
     "name": "stdout",
     "output_type": "stream",
     "text": [
      "              precision    recall  f1-score   support\n",
      "\n",
      "           0       0.98      0.98      0.98      4050\n",
      "           1       0.91      0.91      0.91      1047\n",
      "\n",
      "    accuracy                           0.96      5097\n",
      "   macro avg       0.94      0.94      0.94      5097\n",
      "weighted avg       0.96      0.96      0.96      5097\n",
      "\n"
     ]
    }
   ],
   "source": [
    "print(classification_report(df_holdout['label'], df_holdout['pred_label'], target_names=['0', '1']))"
   ]
  },
  {
   "cell_type": "code",
   "execution_count": 15,
   "metadata": {},
   "outputs": [
    {
     "data": {
      "text/html": [
       "<div>\n",
       "<style scoped>\n",
       "    .dataframe tbody tr th:only-of-type {\n",
       "        vertical-align: middle;\n",
       "    }\n",
       "\n",
       "    .dataframe tbody tr th {\n",
       "        vertical-align: top;\n",
       "    }\n",
       "\n",
       "    .dataframe thead th {\n",
       "        text-align: right;\n",
       "    }\n",
       "</style>\n",
       "<table border=\"1\" class=\"dataframe\">\n",
       "  <thead>\n",
       "    <tr style=\"text-align: right;\">\n",
       "      <th></th>\n",
       "      <th>row</th>\n",
       "      <th>word</th>\n",
       "      <th>label</th>\n",
       "      <th>pred</th>\n",
       "      <th>pred_label</th>\n",
       "    </tr>\n",
       "  </thead>\n",
       "  <tbody>\n",
       "    <tr>\n",
       "      <th>0</th>\n",
       "      <td>G2白血球減少、G2好中球減少は回復。</td>\n",
       "      <td>白血球減少</td>\n",
       "      <td>1</td>\n",
       "      <td>0.999840</td>\n",
       "      <td>1</td>\n",
       "    </tr>\n",
       "    <tr>\n",
       "      <th>1</th>\n",
       "      <td>38.5°Cの発熱で予約外にて受診。GRADE3の薬剤性ILD(間質性肺疾患)発現し、入院。</td>\n",
       "      <td>GRADE3の薬剤性ILD(間質性肺疾患)発現し</td>\n",
       "      <td>0</td>\n",
       "      <td>0.000016</td>\n",
       "      <td>0</td>\n",
       "    </tr>\n",
       "    <tr>\n",
       "      <th>2</th>\n",
       "      <td>腫瘍増悪の転帰は不明。</td>\n",
       "      <td>腫瘍</td>\n",
       "      <td>0</td>\n",
       "      <td>0.000031</td>\n",
       "      <td>0</td>\n",
       "    </tr>\n",
       "    <tr>\n",
       "      <th>3</th>\n",
       "      <td>再診時に下血の症状あり、赤沈上昇あり、UC(潰瘍性大腸炎)悪化と診断、入院。</td>\n",
       "      <td>大腸炎</td>\n",
       "      <td>0</td>\n",
       "      <td>0.000902</td>\n",
       "      <td>0</td>\n",
       "    </tr>\n",
       "    <tr>\n",
       "      <th>4</th>\n",
       "      <td>貧血のため、リムパーザ錠200MG×2回/日に減量再開。</td>\n",
       "      <td>リムパーザ</td>\n",
       "      <td>0</td>\n",
       "      <td>0.000013</td>\n",
       "      <td>0</td>\n",
       "    </tr>\n",
       "    <tr>\n",
       "      <th>...</th>\n",
       "      <td>...</td>\n",
       "      <td>...</td>\n",
       "      <td>...</td>\n",
       "      <td>...</td>\n",
       "      <td>...</td>\n",
       "    </tr>\n",
       "    <tr>\n",
       "      <th>5092</th>\n",
       "      <td>難治性続発性気胸、脳転移、遅発性肺障害(重篤でない)の転帰は不明。</td>\n",
       "      <td>続発性気胸</td>\n",
       "      <td>0</td>\n",
       "      <td>0.000031</td>\n",
       "      <td>0</td>\n",
       "    </tr>\n",
       "    <tr>\n",
       "      <th>5093</th>\n",
       "      <td>HB:7.3、G3貧血発現。リムパーザ休薬。</td>\n",
       "      <td>HB:7</td>\n",
       "      <td>0</td>\n",
       "      <td>0.000013</td>\n",
       "      <td>0</td>\n",
       "    </tr>\n",
       "    <tr>\n",
       "      <th>5094</th>\n",
       "      <td>リムパーザ錠内服約15ヶ月(再開後3ヶ月)、HB:5.9にてGRADE3の貧血発現、輸血を実施。</td>\n",
       "      <td>輸血を実施</td>\n",
       "      <td>0</td>\n",
       "      <td>0.000015</td>\n",
       "      <td>0</td>\n",
       "    </tr>\n",
       "    <tr>\n",
       "      <th>5095</th>\n",
       "      <td>味覚異常(重篤でない)を理由にリムパーザ錠投与中止した。</td>\n",
       "      <td>リムパーザ</td>\n",
       "      <td>0</td>\n",
       "      <td>0.000015</td>\n",
       "      <td>0</td>\n",
       "    </tr>\n",
       "    <tr>\n",
       "      <th>5096</th>\n",
       "      <td>EGFR:19DEL陽性であり、アファチニブ30MG/日の内服を開始した。治療4週間後のCT...</td>\n",
       "      <td>陰影は改善したため</td>\n",
       "      <td>0</td>\n",
       "      <td>0.000013</td>\n",
       "      <td>0</td>\n",
       "    </tr>\n",
       "  </tbody>\n",
       "</table>\n",
       "<p>5097 rows × 5 columns</p>\n",
       "</div>"
      ],
      "text/plain": [
       "                                                    row  \\\n",
       "0                                   G2白血球減少、G2好中球減少は回復。   \n",
       "1        38.5°Cの発熱で予約外にて受診。GRADE3の薬剤性ILD(間質性肺疾患)発現し、入院。   \n",
       "2                                           腫瘍増悪の転帰は不明。   \n",
       "3                再診時に下血の症状あり、赤沈上昇あり、UC(潰瘍性大腸炎)悪化と診断、入院。   \n",
       "4                          貧血のため、リムパーザ錠200MG×2回/日に減量再開。   \n",
       "...                                                 ...   \n",
       "5092                  難治性続発性気胸、脳転移、遅発性肺障害(重篤でない)の転帰は不明。   \n",
       "5093                             HB:7.3、G3貧血発現。リムパーザ休薬。   \n",
       "5094   リムパーザ錠内服約15ヶ月(再開後3ヶ月)、HB:5.9にてGRADE3の貧血発現、輸血を実施。   \n",
       "5095                       味覚異常(重篤でない)を理由にリムパーザ錠投与中止した。   \n",
       "5096  EGFR:19DEL陽性であり、アファチニブ30MG/日の内服を開始した。治療4週間後のCT...   \n",
       "\n",
       "                          word  label      pred  pred_label  \n",
       "0                        白血球減少      1  0.999840           1  \n",
       "1     GRADE3の薬剤性ILD(間質性肺疾患)発現し      0  0.000016           0  \n",
       "2                           腫瘍      0  0.000031           0  \n",
       "3                          大腸炎      0  0.000902           0  \n",
       "4                        リムパーザ      0  0.000013           0  \n",
       "...                        ...    ...       ...         ...  \n",
       "5092                     続発性気胸      0  0.000031           0  \n",
       "5093                      HB:7      0  0.000013           0  \n",
       "5094                     輸血を実施      0  0.000015           0  \n",
       "5095                     リムパーザ      0  0.000015           0  \n",
       "5096                 陰影は改善したため      0  0.000013           0  \n",
       "\n",
       "[5097 rows x 5 columns]"
      ]
     },
     "execution_count": 15,
     "metadata": {},
     "output_type": "execute_result"
    }
   ],
   "source": [
    "df_holdout"
   ]
  },
  {
   "cell_type": "markdown",
   "metadata": {},
   "source": [
    "## Output"
   ]
  },
  {
   "cell_type": "code",
   "execution_count": 16,
   "metadata": {},
   "outputs": [],
   "source": [
    "df_holdout[['row','word','label','pred','pred_label']].to_csv(f'{OUTPUT_PATH}/validation_result.csv', index=False)"
   ]
  },
  {
   "cell_type": "code",
   "execution_count": null,
   "metadata": {},
   "outputs": [],
   "source": []
  }
 ],
 "metadata": {
  "kernelspec": {
   "display_name": "Python 3 (ipykernel)",
   "language": "python",
   "name": "python3"
  },
  "language_info": {
   "codemirror_mode": {
    "name": "ipython",
    "version": 3
   },
   "file_extension": ".py",
   "mimetype": "text/x-python",
   "name": "python",
   "nbconvert_exporter": "python",
   "pygments_lexer": "ipython3",
   "version": "3.9.13"
  },
  "toc": {
   "base_numbering": 1,
   "nav_menu": {},
   "number_sections": true,
   "sideBar": true,
   "skip_h1_title": false,
   "title_cell": "Table of Contents",
   "title_sidebar": "Contents",
   "toc_cell": false,
   "toc_position": {},
   "toc_section_display": true,
   "toc_window_display": false
  },
  "vscode": {
   "interpreter": {
    "hash": "518a6a863932d86b0b8bae50be94bfbb793674486e85614a4189a2858e7fc88a"
   }
  }
 },
 "nbformat": 4,
 "nbformat_minor": 4
}
