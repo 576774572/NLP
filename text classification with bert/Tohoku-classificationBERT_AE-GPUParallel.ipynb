{
 "cells": [
  {
   "cell_type": "code",
   "execution_count": 1,
   "id": "1a076a79",
   "metadata": {
    "scrolled": true
   },
   "outputs": [
    {
     "name": "stdout",
     "output_type": "stream",
     "text": [
      "Looking in indexes: https://pypi.org/simple, https://pip.repos.neuron.amazonaws.com\n",
      "Collecting transformers\n",
      "  Downloading transformers-4.26.1-py3-none-any.whl (6.3 MB)\n",
      "\u001b[2K     \u001b[90m━━━━━━━━━━━━━━━━━━━━━━━━━━━━━━━━━━━━━━━━\u001b[0m \u001b[32m6.3/6.3 MB\u001b[0m \u001b[31m26.4 MB/s\u001b[0m eta \u001b[36m0:00:00\u001b[0m:00:01\u001b[0m00:01\u001b[0m\n",
      "\u001b[?25hCollecting jaconv\n",
      "  Downloading jaconv-0.3.4.tar.gz (16 kB)\n",
      "  Preparing metadata (setup.py) ... \u001b[?25ldone\n",
      "\u001b[?25hCollecting neologdn\n",
      "  Downloading neologdn-0.5.1.tar.gz (57 kB)\n",
      "\u001b[2K     \u001b[90m━━━━━━━━━━━━━━━━━━━━━━━━━━━━━━━━━━━━━━━━\u001b[0m \u001b[32m57.2/57.2 kB\u001b[0m \u001b[31m13.6 MB/s\u001b[0m eta \u001b[36m0:00:00\u001b[0m\n",
      "\u001b[?25h  Preparing metadata (setup.py) ... \u001b[?25ldone\n",
      "\u001b[?25hCollecting fugashi\n",
      "  Downloading fugashi-1.2.1-cp39-cp39-manylinux_2_17_x86_64.manylinux2014_x86_64.whl (613 kB)\n",
      "\u001b[2K     \u001b[90m━━━━━━━━━━━━━━━━━━━━━━━━━━━━━━━━━━━━━━━\u001b[0m \u001b[32m613.3/613.3 kB\u001b[0m \u001b[31m6.9 MB/s\u001b[0m eta \u001b[36m0:00:00\u001b[0m00:01\u001b[0m\n",
      "\u001b[?25hCollecting ipadic\n",
      "  Downloading ipadic-1.0.0.tar.gz (13.4 MB)\n",
      "\u001b[2K     \u001b[90m━━━━━━━━━━━━━━━━━━━━━━━━━━━━━━━━━━━━━━━━\u001b[0m \u001b[32m13.4/13.4 MB\u001b[0m \u001b[31m20.4 MB/s\u001b[0m eta \u001b[36m0:00:00\u001b[0m00:01\u001b[0m00:01\u001b[0m\n",
      "\u001b[?25h  Preparing metadata (setup.py) ... \u001b[?25ldone\n",
      "\u001b[?25hCollecting mecab-python3\n",
      "  Downloading mecab_python3-1.0.6-cp39-cp39-manylinux_2_17_x86_64.manylinux2014_x86_64.whl (581 kB)\n",
      "\u001b[2K     \u001b[90m━━━━━━━━━━━━━━━━━━━━━━━━━━━━━━━━━━━━━━━\u001b[0m \u001b[32m581.5/581.5 kB\u001b[0m \u001b[31m8.8 MB/s\u001b[0m eta \u001b[36m0:00:00\u001b[0m00:01\u001b[0m\n",
      "\u001b[?25hCollecting unidic-lite\n",
      "  Downloading unidic-lite-1.0.8.tar.gz (47.4 MB)\n",
      "\u001b[2K     \u001b[90m━━━━━━━━━━━━━━━━━━━━━━━━━━━━━━━━━━━━━━━━\u001b[0m \u001b[32m47.4/47.4 MB\u001b[0m \u001b[31m18.6 MB/s\u001b[0m eta \u001b[36m0:00:00\u001b[0m00:01\u001b[0m00:01\u001b[0m\n",
      "\u001b[?25h  Preparing metadata (setup.py) ... \u001b[?25ldone\n",
      "\u001b[?25hRequirement already satisfied: pyyaml>=5.1 in /home/ec2-user/anaconda3/envs/pytorch_p39/lib/python3.9/site-packages (from transformers) (5.4.1)\n",
      "Requirement already satisfied: tqdm>=4.27 in /home/ec2-user/anaconda3/envs/pytorch_p39/lib/python3.9/site-packages (from transformers) (4.63.2)\n",
      "Collecting huggingface-hub<1.0,>=0.11.0\n",
      "  Downloading huggingface_hub-0.12.1-py3-none-any.whl (190 kB)\n",
      "\u001b[2K     \u001b[90m━━━━━━━━━━━━━━━━━━━━━━━━━━━━━━━━━━━━━━\u001b[0m \u001b[32m190.3/190.3 kB\u001b[0m \u001b[31m42.7 MB/s\u001b[0m eta \u001b[36m0:00:00\u001b[0m\n",
      "\u001b[?25hRequirement already satisfied: regex!=2019.12.17 in /home/ec2-user/anaconda3/envs/pytorch_p39/lib/python3.9/site-packages (from transformers) (2022.10.31)\n",
      "Collecting tokenizers!=0.11.3,<0.14,>=0.11.1\n",
      "  Downloading tokenizers-0.13.2-cp39-cp39-manylinux_2_17_x86_64.manylinux2014_x86_64.whl (7.6 MB)\n",
      "\u001b[2K     \u001b[90m━━━━━━━━━━━━━━━━━━━━━━━━━━━━━━━━━━━━━━━━\u001b[0m \u001b[32m7.6/7.6 MB\u001b[0m \u001b[31m34.8 MB/s\u001b[0m eta \u001b[36m0:00:00\u001b[0m:00:01\u001b[0m00:01\u001b[0m\n",
      "\u001b[?25hRequirement already satisfied: requests in /home/ec2-user/anaconda3/envs/pytorch_p39/lib/python3.9/site-packages (from transformers) (2.28.1)\n",
      "Requirement already satisfied: numpy>=1.17 in /home/ec2-user/anaconda3/envs/pytorch_p39/lib/python3.9/site-packages (from transformers) (1.23.5)\n",
      "Requirement already satisfied: filelock in /home/ec2-user/anaconda3/envs/pytorch_p39/lib/python3.9/site-packages (from transformers) (3.6.0)\n",
      "Requirement already satisfied: packaging>=20.0 in /home/ec2-user/anaconda3/envs/pytorch_p39/lib/python3.9/site-packages (from transformers) (21.3)\n",
      "Requirement already satisfied: typing-extensions>=3.7.4.3 in /home/ec2-user/anaconda3/envs/pytorch_p39/lib/python3.9/site-packages (from huggingface-hub<1.0,>=0.11.0->transformers) (4.4.0)\n",
      "Requirement already satisfied: pyparsing!=3.0.5,>=2.0.2 in /home/ec2-user/anaconda3/envs/pytorch_p39/lib/python3.9/site-packages (from packaging>=20.0->transformers) (3.0.9)\n",
      "Requirement already satisfied: charset-normalizer<3,>=2 in /home/ec2-user/anaconda3/envs/pytorch_p39/lib/python3.9/site-packages (from requests->transformers) (2.1.1)\n",
      "Requirement already satisfied: idna<4,>=2.5 in /home/ec2-user/anaconda3/envs/pytorch_p39/lib/python3.9/site-packages (from requests->transformers) (3.4)\n",
      "Requirement already satisfied: certifi>=2017.4.17 in /home/ec2-user/anaconda3/envs/pytorch_p39/lib/python3.9/site-packages (from requests->transformers) (2022.12.7)\n",
      "Requirement already satisfied: urllib3<1.27,>=1.21.1 in /home/ec2-user/anaconda3/envs/pytorch_p39/lib/python3.9/site-packages (from requests->transformers) (1.26.8)\n",
      "Building wheels for collected packages: jaconv, neologdn, ipadic, unidic-lite\n",
      "  Building wheel for jaconv (setup.py) ... \u001b[?25ldone\n",
      "\u001b[?25h  Created wheel for jaconv: filename=jaconv-0.3.4-py3-none-any.whl size=16417 sha256=61ce6c8c9e88dec693b4d4f3e65bfeaad2002443bc1bafa55729662a53633e16\n",
      "  Stored in directory: /home/ec2-user/.cache/pip/wheels/f5/03/b1/090bfac2a7f91870077434d8abf61a7af8a02d3bbbfe1ce08e\n",
      "  Building wheel for neologdn (setup.py) ... \u001b[?25ldone\n",
      "\u001b[?25h  Created wheel for neologdn: filename=neologdn-0.5.1-cp39-cp39-linux_x86_64.whl size=55314 sha256=4ef27b6ccfd83274045b0d993c7c63ef06803db89b6650847443f16974fb9917\n",
      "  Stored in directory: /home/ec2-user/.cache/pip/wheels/c3/a4/b9/ca97bbfde3bf0646e407ada317bf9cbcf272b16529fca9d912\n",
      "  Building wheel for ipadic (setup.py) ... \u001b[?25ldone\n",
      "\u001b[?25h  Created wheel for ipadic: filename=ipadic-1.0.0-py3-none-any.whl size=13556703 sha256=1cf539e026182a2e8027c2c2f306ebc36dec47ce5cb302cf919fd36397a9c145\n",
      "  Stored in directory: /home/ec2-user/.cache/pip/wheels/4a/fb/28/21aa4bc5d871bbe3797f8372833fe4c589e1984c7bda05db16\n",
      "  Building wheel for unidic-lite (setup.py) ... \u001b[?25ldone\n",
      "\u001b[?25h  Created wheel for unidic-lite: filename=unidic_lite-1.0.8-py3-none-any.whl size=47658818 sha256=32a3cde8f497f752de7824b9e7c7faccaa077b98d09c98be5b4b7cf0bdc10925\n",
      "  Stored in directory: /home/ec2-user/.cache/pip/wheels/22/75/2f/033d31f7054809b88a2670cc754e1f378687389c0964c6ea1e\n",
      "Successfully built jaconv neologdn ipadic unidic-lite\n",
      "Installing collected packages: unidic-lite, tokenizers, neologdn, mecab-python3, jaconv, ipadic, fugashi, huggingface-hub, transformers\n",
      "Successfully installed fugashi-1.2.1 huggingface-hub-0.12.1 ipadic-1.0.0 jaconv-0.3.4 mecab-python3-1.0.6 neologdn-0.5.1 tokenizers-0.13.2 transformers-4.26.1 unidic-lite-1.0.8\n"
     ]
    }
   ],
   "source": [
    "!pip install transformers jaconv neologdn fugashi ipadic mecab-python3 unidic-lite"
   ]
  },
  {
   "cell_type": "markdown",
   "id": "e3d7b30d",
   "metadata": {},
   "source": [
    "# Libraries"
   ]
  },
  {
   "cell_type": "code",
   "execution_count": 4,
   "id": "63a2a5aa",
   "metadata": {},
   "outputs": [],
   "source": [
    "import logging\n",
    "import os, sys\n",
    "import pandas as pd\n",
    "import numpy as np\n",
    "import random\n",
    "import numpy as np\n",
    "import argparse\n",
    "import torch\n",
    "import torch.nn as nn\n",
    "from torch.utils.data import DataLoader\n",
    "from transformers import BertJapaneseTokenizer, BertForSequenceClassification\n",
    "from transformers.optimization import get_cosine_schedule_with_warmup, AdamW\n",
    "from sklearn.model_selection import train_test_split\n",
    "from sklearn.metrics import accuracy_score, precision_recall_fscore_support,confusion_matrix,roc_auc_score,roc_curve,classification_report\n",
    "from tqdm import tqdm\n",
    "import seaborn as sns\n",
    "import matplotlib.pyplot as plt\n",
    "import warnings\n",
    "warnings.filterwarnings('ignore')\n",
    "%matplotlib inline"
   ]
  },
  {
   "cell_type": "code",
   "execution_count": 5,
   "id": "09217cf4",
   "metadata": {},
   "outputs": [
    {
     "data": {
      "text/plain": [
       "4"
      ]
     },
     "execution_count": 5,
     "metadata": {},
     "output_type": "execute_result"
    }
   ],
   "source": [
    "torch.cuda.device_count()"
   ]
  },
  {
   "cell_type": "code",
   "execution_count": 6,
   "id": "e6b735b1",
   "metadata": {},
   "outputs": [],
   "source": [
    "os.environ['CUDA_VISIBLE_DEVICES']=\"0,1,2,3\""
   ]
  },
  {
   "cell_type": "markdown",
   "id": "de53725a",
   "metadata": {},
   "source": [
    "# Parameters"
   ]
  },
  {
   "cell_type": "code",
   "execution_count": 7,
   "id": "ace4e235",
   "metadata": {},
   "outputs": [],
   "source": [
    "def get_config(args=None):\n",
    "    parser = argparse.ArgumentParser(\n",
    "        description=\"classificationBertAE\")\n",
    "    \n",
    "    parser.add_argument('--bert_model_path', type=str, default='cl-tohoku/bert-large-japanese')\n",
    "    parser.add_argument('--output_path', type=str, default=\"./output/classificationBertAE-GPUParallel\")\n",
    "    parser.add_argument('--input_data', type=str, default='./output/ae_dataset.csv')\n",
    "    parser.add_argument('--device', default = \"cuda\" if torch.cuda.is_available() else \"cpu\", type=str)\n",
    "    parser.add_argument('--device_count', default = torch.cuda.device_count() if torch.cuda.is_available() else 0, type=int)\n",
    "    \n",
    "    parser.add_argument('--batch_size', default=64, type=int)    \n",
    "    parser.add_argument('--epoch_num', default=10, type=int)    \n",
    "    parser.add_argument('--learning_rate', default=3e-5, type=float)\n",
    "    parser.add_argument('--weight_decay', default=0.01, type=float)\n",
    "    parser.add_argument('--clip_grad', default=5, type=int)  \n",
    "    \n",
    "    config = parser.parse_args(args=[])\n",
    "\n",
    "    config.device = torch.device(config.device)\n",
    "    \n",
    "    return config"
   ]
  },
  {
   "cell_type": "code",
   "execution_count": 8,
   "id": "5ff11a63",
   "metadata": {},
   "outputs": [],
   "source": [
    "config = get_config() "
   ]
  },
  {
   "cell_type": "markdown",
   "id": "ec88d676",
   "metadata": {},
   "source": [
    "# Input data"
   ]
  },
  {
   "cell_type": "code",
   "execution_count": 12,
   "id": "b97f23c2",
   "metadata": {},
   "outputs": [
    {
     "name": "stdout",
     "output_type": "stream",
     "text": [
      "df_holdout label\n",
      "1    4050\n",
      "0    1047\n",
      "dtype: int64 \n",
      "\n",
      "df_train label\n",
      "0    32796\n",
      "1     8482\n",
      "dtype: int64 \n",
      "\n",
      "df_val label\n",
      "0    3644\n",
      "1     943\n",
      "dtype: int64 \n",
      "\n"
     ]
    }
   ],
   "source": [
    "df_data = pd.read_csv(config.input_data)\n",
    "\n",
    "df_data.columns = ['row', 'word', 'label']\n",
    "\n",
    "# ラベルの二値化\n",
    "df_data['label'] = df_data['label'].apply(lambda x: 1 if x else 0)\n",
    "\n",
    "# Holdout\n",
    "df_train_val, df_holdout = train_test_split(df_data, test_size=0.1, stratify=df_data['label'])\n",
    "\n",
    "# 学習データとテストデータ\n",
    "df_train_val = df_train_val.drop_duplicates(['row', 'label']) # ラベルの数を合わせてデータを減らす\n",
    "df_train, df_val = train_test_split(df_train_val, test_size=0.1, stratify=df_train_val['label'])\n",
    "\n",
    "print('df_holdout',df_holdout.value_counts('label'),'\\n')\n",
    "print('df_train',df_train.value_counts('label'),'\\n')\n",
    "print('df_val',df_val.value_counts('label'),'\\n')\n",
    "\n",
    "#os.makedirs(config.output_path)\n",
    "df_holdout.to_csv(f'{config.output_path}/df_holdout.csv', index=False)\n",
    "df_train.to_csv(f'{config.output_path}/df_train.csv', index=False)\n",
    "df_val.to_csv(f'{config.output_path}/df_val.csv', index=False)"
   ]
  },
  {
   "cell_type": "markdown",
   "id": "c7efdc78",
   "metadata": {},
   "source": [
    "# Dataset"
   ]
  },
  {
   "cell_type": "code",
   "execution_count": 6,
   "id": "7f5b31c7",
   "metadata": {},
   "outputs": [],
   "source": [
    "tokenizer = BertJapaneseTokenizer.from_pretrained(config.bert_model_path)"
   ]
  },
  {
   "cell_type": "code",
   "execution_count": 10,
   "id": "26ca7956",
   "metadata": {
    "scrolled": true
   },
   "outputs": [],
   "source": [
    "df_train['row_tokens'] = df_train['row'].apply(lambda x: tokenizer.tokenize(x))\n",
    "df_train['word_tokens'] = df_train['word'].apply(lambda x: tokenizer.tokenize(x))\n",
    "df_train['encode'] = df_train.apply(\n",
    "    lambda x: tokenizer.encode_plus(x['row_tokens'] ,x['word_tokens'], padding='max_length', max_length=128, is_pretokenized=True, truncation='only_first',), axis=1)"
   ]
  },
  {
   "cell_type": "code",
   "execution_count": 11,
   "id": "81cdfbd9",
   "metadata": {},
   "outputs": [],
   "source": [
    "df_val['row_tokens'] = df_val['row'].apply(lambda x: tokenizer.tokenize(x))\n",
    "df_val['word_tokens'] = df_val['word'].apply(lambda x: tokenizer.tokenize(x))\n",
    "df_val['encode'] = df_val.apply(\n",
    "    lambda x: tokenizer.encode_plus(x['row_tokens'] ,x['word_tokens'], padding='max_length', max_length=128, is_pretokenized=True, truncation='only_first',), axis=1)"
   ]
  },
  {
   "cell_type": "code",
   "execution_count": 7,
   "id": "18c4ed5e",
   "metadata": {},
   "outputs": [],
   "source": [
    "class Dataset(torch.utils.data.Dataset):\n",
    "    def __init__(self, df_encode, labels, config):\n",
    "        self.df_encode = df_encode\n",
    "        self.labels = labels\n",
    "        self.config = config\n",
    "    def __getitem__(self, idx):\n",
    "        item = {col: torch.tensor(self.df_encode[col].to_list()[idx]).to(self.config.device) for col in self.df_encode.columns}\n",
    "        item['labels'] = torch.tensor(self.labels[idx]).to(self.config.device)\n",
    "        return item\n",
    "\n",
    "    def __len__(self):\n",
    "        return len(self.labels)"
   ]
  },
  {
   "cell_type": "code",
   "execution_count": 8,
   "id": "52660f18",
   "metadata": {},
   "outputs": [],
   "source": [
    "train_dataset = Dataset(pd.DataFrame(df_train['encode'].to_list()), df_train['label'].to_list(), config)\n",
    "val_dataset = Dataset(pd.DataFrame(df_val['encode'].to_list()), df_val['label'].to_list(), config) \n",
    "\n",
    "training_dataloader = DataLoader(train_dataset, batch_size=config.batch_size, shuffle=False)\n",
    "validation_dataloader = DataLoader(val_dataset, batch_size=config.batch_size, shuffle=False) "
   ]
  },
  {
   "cell_type": "markdown",
   "id": "0978f01d",
   "metadata": {},
   "source": [
    "# Train"
   ]
  },
  {
   "cell_type": "code",
   "execution_count": 12,
   "id": "23ef19e3",
   "metadata": {},
   "outputs": [],
   "source": [
    "def train_epoch(model, config, epoch_idx, training_dataloader, optimizer,scheduler):\n",
    "    \n",
    "    # model ==> train mode\n",
    "    model.train()\n",
    "    train_losses = 0\n",
    "    for batch_id, batch in enumerate(tqdm(training_dataloader)):    \n",
    "\n",
    "        input_ids, attention_mask, token_type_ids,label=batch['input_ids'], batch['attention_mask'], batch['token_type_ids'],batch['labels']\n",
    "        \n",
    "        # forward pass\n",
    "        outputs=model(input_ids,attention_mask,token_type_ids,labels = label)\n",
    "        \n",
    "        loss=outputs.loss\n",
    "        #print(loss)\n",
    "        loss=loss.mean()\n",
    "\n",
    "        #print(loss.size())\n",
    "        train_losses += loss.item() \n",
    "        \n",
    "        # grad update      \n",
    "        model.zero_grad()\n",
    "        loss.backward()\n",
    "        \n",
    "        # clip_grad\n",
    "        torch.nn.utils.clip_grad_norm_(parameters=model.parameters(), max_norm=config.clip_grad)\n",
    "        \n",
    "        # grad calculate\n",
    "        optimizer.step()\n",
    "        scheduler.step()\n",
    "        \n",
    "    train_loss = float(train_losses) / len(training_dataloader)\n",
    "    logging.info(f\"Epoch: {epoch_idx}, train loss: {train_loss}\")\n",
    "    print(f\"Epoch: {epoch_idx}, train loss: {train_loss}\")"
   ]
  },
  {
   "cell_type": "code",
   "execution_count": 13,
   "id": "09583d13",
   "metadata": {},
   "outputs": [],
   "source": [
    "def train(model,training_dataloader,validation_dataloader,optimizer,scheduler,config):\n",
    "    \n",
    "    best = 0.0\n",
    "    \n",
    "    true_labels=[]\n",
    "    pred_labels=[]\n",
    "    \n",
    "    for epoch_idx in range(1, config.epoch_num + 1):    \n",
    "        print(\"epoch {}/{}\".format(epoch_idx, config.epoch_num))\n",
    "        \n",
    "        # Train\n",
    "        train_epoch(model, config, epoch_idx, training_dataloader, optimizer,scheduler)\n",
    "\n",
    "        # Validate\n",
    "        print('Validate')\n",
    "        logging.info(\"Start validation\")\n",
    "        val_f1,auc,recall=validate(model,validation_dataloader)\n",
    "        \n",
    "        # save model with highest F1 score\n",
    "        if auc>best:\n",
    "            best=auc\n",
    "            # save model\n",
    "            torch.save(model.module, os.path.join(config.output_path,\"model_llt.pth\"))\n",
    "            logging.info(\"--------Save best model--------\")\n",
    "            print(\"--------Save best model--------\")            \n",
    "            \n",
    "    logging.info(\"Training Finished\")         \n",
    "    print(\"Training Finished\")"
   ]
  },
  {
   "cell_type": "code",
   "execution_count": 14,
   "id": "ff080656",
   "metadata": {},
   "outputs": [],
   "source": [
    "def validate(model,validation_dataloader):\n",
    "    \n",
    "    # model ==> eval mode\n",
    "    model.eval()\n",
    "    val_losses = 0\n",
    "    true_labels=[]\n",
    "    pred_labels=[]\n",
    "    pred_values=[]\n",
    "    for batch_id, batch in enumerate(tqdm(validation_dataloader)):        \n",
    "        input_ids, attention_mask, token_type_ids,label=batch['input_ids'], batch['attention_mask'], batch['token_type_ids'],batch['labels']\n",
    "        with torch.no_grad():\n",
    "            outputs=model(input_ids,attention_mask,token_type_ids)\n",
    "\n",
    "            #print(outputs)\n",
    "            m = torch.nn.Softmax(dim=1)\n",
    "            o_args = m(outputs.logits)[:,1].tolist()\n",
    "            preds=[1 if i > 0.5 else 0 for i in o_args ]            \n",
    "            labels=label.tolist()\n",
    "            \n",
    "            pred_labels+=preds\n",
    "            true_labels+=labels\n",
    "            pred_values+=o_args\n",
    "            \n",
    "    #print(len(pred_labels))    \n",
    "    #print(len(true_labels))     \n",
    "    display(pd.DataFrame(confusion_matrix(true_labels, pred_labels)))\n",
    "    tn, fp, fn, tp = confusion_matrix(true_labels, pred_labels).ravel()\n",
    "    precision=tp/(tp+fp)\n",
    "    recall=tp/(tp+fn)\n",
    "    f1=2*precision*recall/(precision+recall)\n",
    "    auc = roc_auc_score(true_labels,pred_values)\n",
    "    \n",
    "    print('precision:',precision)\n",
    "    print('recall:',recall)    \n",
    "    print('f1:',f1)  \n",
    "    print('auc:',auc) \n",
    "    \n",
    "    logging.info(f\"precision: {precision}, recall: {recall}, f1: {f1}, auc: {auc}\")\n",
    "    \n",
    "    df=pd.DataFrame({'label':true_labels,'pred':pred_values})\n",
    "    sns.distplot(df[df['label']==1]['pred'], bins=20,label=\"llt_true=1\").set(title='Tohoku-classificationBERT_LLT')\n",
    "    sns.distplot(df[df['label']==0]['pred'], bins=20,label=\"llt_true=0\")\n",
    "    plt.legend()\n",
    "    plt.show()\n",
    "    \n",
    "    return f1,auc,recall"
   ]
  },
  {
   "cell_type": "code",
   "execution_count": 16,
   "id": "5d377b25",
   "metadata": {
    "scrolled": true
   },
   "outputs": [
    {
     "name": "stdout",
     "output_type": "stream",
     "text": [
      "epoch 1/10\n"
     ]
    },
    {
     "name": "stderr",
     "output_type": "stream",
     "text": [
      "  0%|          | 0/645 [00:00<?, ?it/s]/home/ec2-user/anaconda3/envs/pytorch_p39/lib/python3.9/site-packages/torch/nn/parallel/_functions.py:68: UserWarning: Was asked to gather along dimension 0, but all input tensors were scalars; will instead unsqueeze and return a vector.\n",
      "  warnings.warn('Was asked to gather along dimension 0, but all '\n",
      "100%|██████████| 645/645 [23:39<00:00,  2.20s/it]\n"
     ]
    },
    {
     "name": "stdout",
     "output_type": "stream",
     "text": [
      "Epoch: 1, train loss: 0.19897369885051897\n",
      "Validate\n"
     ]
    },
    {
     "name": "stderr",
     "output_type": "stream",
     "text": [
      "100%|██████████| 80/80 [01:26<00:00,  1.08s/it]"
     ]
    },
    {
     "name": "stdout",
     "output_type": "stream",
     "text": [
      "5097\n",
      "5097\n"
     ]
    },
    {
     "name": "stderr",
     "output_type": "stream",
     "text": [
      "\n"
     ]
    },
    {
     "data": {
      "text/html": [
       "<div>\n",
       "<style scoped>\n",
       "    .dataframe tbody tr th:only-of-type {\n",
       "        vertical-align: middle;\n",
       "    }\n",
       "\n",
       "    .dataframe tbody tr th {\n",
       "        vertical-align: top;\n",
       "    }\n",
       "\n",
       "    .dataframe thead th {\n",
       "        text-align: right;\n",
       "    }\n",
       "</style>\n",
       "<table border=\"1\" class=\"dataframe\">\n",
       "  <thead>\n",
       "    <tr style=\"text-align: right;\">\n",
       "      <th></th>\n",
       "      <th>0</th>\n",
       "      <th>1</th>\n",
       "    </tr>\n",
       "  </thead>\n",
       "  <tbody>\n",
       "    <tr>\n",
       "      <th>0</th>\n",
       "      <td>3952</td>\n",
       "      <td>98</td>\n",
       "    </tr>\n",
       "    <tr>\n",
       "      <th>1</th>\n",
       "      <td>153</td>\n",
       "      <td>894</td>\n",
       "    </tr>\n",
       "  </tbody>\n",
       "</table>\n",
       "</div>"
      ],
      "text/plain": [
       "      0    1\n",
       "0  3952   98\n",
       "1   153  894"
      ]
     },
     "metadata": {},
     "output_type": "display_data"
    },
    {
     "name": "stdout",
     "output_type": "stream",
     "text": [
      "precision 0.9012096774193549\n",
      "recall 0.8538681948424068\n",
      "epoch 2/10\n"
     ]
    },
    {
     "name": "stderr",
     "output_type": "stream",
     "text": [
      "  0%|          | 0/645 [00:00<?, ?it/s]/home/ec2-user/anaconda3/envs/pytorch_p39/lib/python3.9/site-packages/torch/nn/parallel/_functions.py:68: UserWarning: Was asked to gather along dimension 0, but all input tensors were scalars; will instead unsqueeze and return a vector.\n",
      "  warnings.warn('Was asked to gather along dimension 0, but all '\n",
      "100%|██████████| 645/645 [23:42<00:00,  2.21s/it]\n"
     ]
    },
    {
     "name": "stdout",
     "output_type": "stream",
     "text": [
      "Epoch: 2, train loss: 0.12034345085826494\n",
      "Validate\n"
     ]
    },
    {
     "name": "stderr",
     "output_type": "stream",
     "text": [
      "100%|██████████| 80/80 [01:25<00:00,  1.07s/it]"
     ]
    },
    {
     "name": "stdout",
     "output_type": "stream",
     "text": [
      "5097\n",
      "5097\n"
     ]
    },
    {
     "name": "stderr",
     "output_type": "stream",
     "text": [
      "\n"
     ]
    },
    {
     "data": {
      "text/html": [
       "<div>\n",
       "<style scoped>\n",
       "    .dataframe tbody tr th:only-of-type {\n",
       "        vertical-align: middle;\n",
       "    }\n",
       "\n",
       "    .dataframe tbody tr th {\n",
       "        vertical-align: top;\n",
       "    }\n",
       "\n",
       "    .dataframe thead th {\n",
       "        text-align: right;\n",
       "    }\n",
       "</style>\n",
       "<table border=\"1\" class=\"dataframe\">\n",
       "  <thead>\n",
       "    <tr style=\"text-align: right;\">\n",
       "      <th></th>\n",
       "      <th>0</th>\n",
       "      <th>1</th>\n",
       "    </tr>\n",
       "  </thead>\n",
       "  <tbody>\n",
       "    <tr>\n",
       "      <th>0</th>\n",
       "      <td>3897</td>\n",
       "      <td>153</td>\n",
       "    </tr>\n",
       "    <tr>\n",
       "      <th>1</th>\n",
       "      <td>126</td>\n",
       "      <td>921</td>\n",
       "    </tr>\n",
       "  </tbody>\n",
       "</table>\n",
       "</div>"
      ],
      "text/plain": [
       "      0    1\n",
       "0  3897  153\n",
       "1   126  921"
      ]
     },
     "metadata": {},
     "output_type": "display_data"
    },
    {
     "name": "stdout",
     "output_type": "stream",
     "text": [
      "precision 0.8575418994413407\n",
      "recall 0.8796561604584527\n",
      "epoch 3/10\n"
     ]
    },
    {
     "name": "stderr",
     "output_type": "stream",
     "text": [
      "  0%|          | 0/645 [00:00<?, ?it/s]/home/ec2-user/anaconda3/envs/pytorch_p39/lib/python3.9/site-packages/torch/nn/parallel/_functions.py:68: UserWarning: Was asked to gather along dimension 0, but all input tensors were scalars; will instead unsqueeze and return a vector.\n",
      "  warnings.warn('Was asked to gather along dimension 0, but all '\n",
      "100%|██████████| 645/645 [23:44<00:00,  2.21s/it]\n"
     ]
    },
    {
     "name": "stdout",
     "output_type": "stream",
     "text": [
      "Epoch: 3, train loss: 0.08252194589364899\n",
      "Validate\n"
     ]
    },
    {
     "name": "stderr",
     "output_type": "stream",
     "text": [
      "100%|██████████| 80/80 [01:28<00:00,  1.10s/it]"
     ]
    },
    {
     "name": "stdout",
     "output_type": "stream",
     "text": [
      "5097\n",
      "5097\n"
     ]
    },
    {
     "name": "stderr",
     "output_type": "stream",
     "text": [
      "\n"
     ]
    },
    {
     "data": {
      "text/html": [
       "<div>\n",
       "<style scoped>\n",
       "    .dataframe tbody tr th:only-of-type {\n",
       "        vertical-align: middle;\n",
       "    }\n",
       "\n",
       "    .dataframe tbody tr th {\n",
       "        vertical-align: top;\n",
       "    }\n",
       "\n",
       "    .dataframe thead th {\n",
       "        text-align: right;\n",
       "    }\n",
       "</style>\n",
       "<table border=\"1\" class=\"dataframe\">\n",
       "  <thead>\n",
       "    <tr style=\"text-align: right;\">\n",
       "      <th></th>\n",
       "      <th>0</th>\n",
       "      <th>1</th>\n",
       "    </tr>\n",
       "  </thead>\n",
       "  <tbody>\n",
       "    <tr>\n",
       "      <th>0</th>\n",
       "      <td>3936</td>\n",
       "      <td>114</td>\n",
       "    </tr>\n",
       "    <tr>\n",
       "      <th>1</th>\n",
       "      <td>122</td>\n",
       "      <td>925</td>\n",
       "    </tr>\n",
       "  </tbody>\n",
       "</table>\n",
       "</div>"
      ],
      "text/plain": [
       "      0    1\n",
       "0  3936  114\n",
       "1   122  925"
      ]
     },
     "metadata": {},
     "output_type": "display_data"
    },
    {
     "name": "stdout",
     "output_type": "stream",
     "text": [
      "precision 0.890279114533205\n",
      "recall 0.8834765998089781\n",
      "epoch 4/10\n"
     ]
    },
    {
     "name": "stderr",
     "output_type": "stream",
     "text": [
      "  0%|          | 0/645 [00:00<?, ?it/s]/home/ec2-user/anaconda3/envs/pytorch_p39/lib/python3.9/site-packages/torch/nn/parallel/_functions.py:68: UserWarning: Was asked to gather along dimension 0, but all input tensors were scalars; will instead unsqueeze and return a vector.\n",
      "  warnings.warn('Was asked to gather along dimension 0, but all '\n",
      "100%|██████████| 645/645 [23:51<00:00,  2.22s/it]\n"
     ]
    },
    {
     "name": "stdout",
     "output_type": "stream",
     "text": [
      "Epoch: 4, train loss: 0.05748816234268999\n",
      "Validate\n"
     ]
    },
    {
     "name": "stderr",
     "output_type": "stream",
     "text": [
      "100%|██████████| 80/80 [01:25<00:00,  1.07s/it]"
     ]
    },
    {
     "name": "stdout",
     "output_type": "stream",
     "text": [
      "5097\n",
      "5097\n"
     ]
    },
    {
     "name": "stderr",
     "output_type": "stream",
     "text": [
      "\n"
     ]
    },
    {
     "data": {
      "text/html": [
       "<div>\n",
       "<style scoped>\n",
       "    .dataframe tbody tr th:only-of-type {\n",
       "        vertical-align: middle;\n",
       "    }\n",
       "\n",
       "    .dataframe tbody tr th {\n",
       "        vertical-align: top;\n",
       "    }\n",
       "\n",
       "    .dataframe thead th {\n",
       "        text-align: right;\n",
       "    }\n",
       "</style>\n",
       "<table border=\"1\" class=\"dataframe\">\n",
       "  <thead>\n",
       "    <tr style=\"text-align: right;\">\n",
       "      <th></th>\n",
       "      <th>0</th>\n",
       "      <th>1</th>\n",
       "    </tr>\n",
       "  </thead>\n",
       "  <tbody>\n",
       "    <tr>\n",
       "      <th>0</th>\n",
       "      <td>3904</td>\n",
       "      <td>146</td>\n",
       "    </tr>\n",
       "    <tr>\n",
       "      <th>1</th>\n",
       "      <td>86</td>\n",
       "      <td>961</td>\n",
       "    </tr>\n",
       "  </tbody>\n",
       "</table>\n",
       "</div>"
      ],
      "text/plain": [
       "      0    1\n",
       "0  3904  146\n",
       "1    86  961"
      ]
     },
     "metadata": {},
     "output_type": "display_data"
    },
    {
     "name": "stdout",
     "output_type": "stream",
     "text": [
      "precision 0.8681120144534779\n",
      "recall 0.9178605539637058\n",
      "epoch 5/10\n"
     ]
    },
    {
     "name": "stderr",
     "output_type": "stream",
     "text": [
      "  0%|          | 0/645 [00:00<?, ?it/s]/home/ec2-user/anaconda3/envs/pytorch_p39/lib/python3.9/site-packages/torch/nn/parallel/_functions.py:68: UserWarning: Was asked to gather along dimension 0, but all input tensors were scalars; will instead unsqueeze and return a vector.\n",
      "  warnings.warn('Was asked to gather along dimension 0, but all '\n",
      "100%|██████████| 645/645 [24:10<00:00,  2.25s/it]\n"
     ]
    },
    {
     "name": "stdout",
     "output_type": "stream",
     "text": [
      "Epoch: 5, train loss: 0.04163205052785532\n",
      "Validate\n"
     ]
    },
    {
     "name": "stderr",
     "output_type": "stream",
     "text": [
      "100%|██████████| 80/80 [01:27<00:00,  1.09s/it]"
     ]
    },
    {
     "name": "stdout",
     "output_type": "stream",
     "text": [
      "5097\n",
      "5097\n"
     ]
    },
    {
     "name": "stderr",
     "output_type": "stream",
     "text": [
      "\n"
     ]
    },
    {
     "data": {
      "text/html": [
       "<div>\n",
       "<style scoped>\n",
       "    .dataframe tbody tr th:only-of-type {\n",
       "        vertical-align: middle;\n",
       "    }\n",
       "\n",
       "    .dataframe tbody tr th {\n",
       "        vertical-align: top;\n",
       "    }\n",
       "\n",
       "    .dataframe thead th {\n",
       "        text-align: right;\n",
       "    }\n",
       "</style>\n",
       "<table border=\"1\" class=\"dataframe\">\n",
       "  <thead>\n",
       "    <tr style=\"text-align: right;\">\n",
       "      <th></th>\n",
       "      <th>0</th>\n",
       "      <th>1</th>\n",
       "    </tr>\n",
       "  </thead>\n",
       "  <tbody>\n",
       "    <tr>\n",
       "      <th>0</th>\n",
       "      <td>3927</td>\n",
       "      <td>123</td>\n",
       "    </tr>\n",
       "    <tr>\n",
       "      <th>1</th>\n",
       "      <td>91</td>\n",
       "      <td>956</td>\n",
       "    </tr>\n",
       "  </tbody>\n",
       "</table>\n",
       "</div>"
      ],
      "text/plain": [
       "      0    1\n",
       "0  3927  123\n",
       "1    91  956"
      ]
     },
     "metadata": {},
     "output_type": "display_data"
    },
    {
     "name": "stdout",
     "output_type": "stream",
     "text": [
      "precision 0.8860055607043559\n",
      "recall 0.9130850047755492\n",
      "epoch 6/10\n"
     ]
    },
    {
     "name": "stderr",
     "output_type": "stream",
     "text": [
      "  0%|          | 0/645 [00:00<?, ?it/s]/home/ec2-user/anaconda3/envs/pytorch_p39/lib/python3.9/site-packages/torch/nn/parallel/_functions.py:68: UserWarning: Was asked to gather along dimension 0, but all input tensors were scalars; will instead unsqueeze and return a vector.\n",
      "  warnings.warn('Was asked to gather along dimension 0, but all '\n",
      "100%|██████████| 645/645 [24:06<00:00,  2.24s/it]\n"
     ]
    },
    {
     "name": "stdout",
     "output_type": "stream",
     "text": [
      "Epoch: 6, train loss: 0.025555302093212506\n",
      "Validate\n"
     ]
    },
    {
     "name": "stderr",
     "output_type": "stream",
     "text": [
      "100%|██████████| 80/80 [01:27<00:00,  1.10s/it]"
     ]
    },
    {
     "name": "stdout",
     "output_type": "stream",
     "text": [
      "5097\n",
      "5097\n"
     ]
    },
    {
     "name": "stderr",
     "output_type": "stream",
     "text": [
      "\n"
     ]
    },
    {
     "data": {
      "text/html": [
       "<div>\n",
       "<style scoped>\n",
       "    .dataframe tbody tr th:only-of-type {\n",
       "        vertical-align: middle;\n",
       "    }\n",
       "\n",
       "    .dataframe tbody tr th {\n",
       "        vertical-align: top;\n",
       "    }\n",
       "\n",
       "    .dataframe thead th {\n",
       "        text-align: right;\n",
       "    }\n",
       "</style>\n",
       "<table border=\"1\" class=\"dataframe\">\n",
       "  <thead>\n",
       "    <tr style=\"text-align: right;\">\n",
       "      <th></th>\n",
       "      <th>0</th>\n",
       "      <th>1</th>\n",
       "    </tr>\n",
       "  </thead>\n",
       "  <tbody>\n",
       "    <tr>\n",
       "      <th>0</th>\n",
       "      <td>3928</td>\n",
       "      <td>122</td>\n",
       "    </tr>\n",
       "    <tr>\n",
       "      <th>1</th>\n",
       "      <td>74</td>\n",
       "      <td>973</td>\n",
       "    </tr>\n",
       "  </tbody>\n",
       "</table>\n",
       "</div>"
      ],
      "text/plain": [
       "      0    1\n",
       "0  3928  122\n",
       "1    74  973"
      ]
     },
     "metadata": {},
     "output_type": "display_data"
    },
    {
     "name": "stdout",
     "output_type": "stream",
     "text": [
      "precision 0.8885844748858448\n",
      "recall 0.9293218720152817\n",
      "epoch 7/10\n"
     ]
    },
    {
     "name": "stderr",
     "output_type": "stream",
     "text": [
      "  0%|          | 0/645 [00:00<?, ?it/s]/home/ec2-user/anaconda3/envs/pytorch_p39/lib/python3.9/site-packages/torch/nn/parallel/_functions.py:68: UserWarning: Was asked to gather along dimension 0, but all input tensors were scalars; will instead unsqueeze and return a vector.\n",
      "  warnings.warn('Was asked to gather along dimension 0, but all '\n",
      "100%|██████████| 645/645 [23:41<00:00,  2.20s/it]\n"
     ]
    },
    {
     "name": "stdout",
     "output_type": "stream",
     "text": [
      "Epoch: 7, train loss: 0.017335076682919785\n",
      "Validate\n"
     ]
    },
    {
     "name": "stderr",
     "output_type": "stream",
     "text": [
      "100%|██████████| 80/80 [01:26<00:00,  1.08s/it]"
     ]
    },
    {
     "name": "stdout",
     "output_type": "stream",
     "text": [
      "5097\n",
      "5097\n"
     ]
    },
    {
     "name": "stderr",
     "output_type": "stream",
     "text": [
      "\n"
     ]
    },
    {
     "data": {
      "text/html": [
       "<div>\n",
       "<style scoped>\n",
       "    .dataframe tbody tr th:only-of-type {\n",
       "        vertical-align: middle;\n",
       "    }\n",
       "\n",
       "    .dataframe tbody tr th {\n",
       "        vertical-align: top;\n",
       "    }\n",
       "\n",
       "    .dataframe thead th {\n",
       "        text-align: right;\n",
       "    }\n",
       "</style>\n",
       "<table border=\"1\" class=\"dataframe\">\n",
       "  <thead>\n",
       "    <tr style=\"text-align: right;\">\n",
       "      <th></th>\n",
       "      <th>0</th>\n",
       "      <th>1</th>\n",
       "    </tr>\n",
       "  </thead>\n",
       "  <tbody>\n",
       "    <tr>\n",
       "      <th>0</th>\n",
       "      <td>3952</td>\n",
       "      <td>98</td>\n",
       "    </tr>\n",
       "    <tr>\n",
       "      <th>1</th>\n",
       "      <td>86</td>\n",
       "      <td>961</td>\n",
       "    </tr>\n",
       "  </tbody>\n",
       "</table>\n",
       "</div>"
      ],
      "text/plain": [
       "      0    1\n",
       "0  3952   98\n",
       "1    86  961"
      ]
     },
     "metadata": {},
     "output_type": "display_data"
    },
    {
     "name": "stdout",
     "output_type": "stream",
     "text": [
      "precision 0.9074598677998111\n",
      "recall 0.9178605539637058\n",
      "epoch 8/10\n"
     ]
    },
    {
     "name": "stderr",
     "output_type": "stream",
     "text": [
      "  0%|          | 0/645 [00:00<?, ?it/s]/home/ec2-user/anaconda3/envs/pytorch_p39/lib/python3.9/site-packages/torch/nn/parallel/_functions.py:68: UserWarning: Was asked to gather along dimension 0, but all input tensors were scalars; will instead unsqueeze and return a vector.\n",
      "  warnings.warn('Was asked to gather along dimension 0, but all '\n",
      "100%|██████████| 645/645 [24:12<00:00,  2.25s/it]\n"
     ]
    },
    {
     "name": "stdout",
     "output_type": "stream",
     "text": [
      "Epoch: 8, train loss: 0.010072243570451861\n",
      "Validate\n"
     ]
    },
    {
     "name": "stderr",
     "output_type": "stream",
     "text": [
      "100%|██████████| 80/80 [01:28<00:00,  1.11s/it]"
     ]
    },
    {
     "name": "stdout",
     "output_type": "stream",
     "text": [
      "5097\n",
      "5097\n"
     ]
    },
    {
     "name": "stderr",
     "output_type": "stream",
     "text": [
      "\n"
     ]
    },
    {
     "data": {
      "text/html": [
       "<div>\n",
       "<style scoped>\n",
       "    .dataframe tbody tr th:only-of-type {\n",
       "        vertical-align: middle;\n",
       "    }\n",
       "\n",
       "    .dataframe tbody tr th {\n",
       "        vertical-align: top;\n",
       "    }\n",
       "\n",
       "    .dataframe thead th {\n",
       "        text-align: right;\n",
       "    }\n",
       "</style>\n",
       "<table border=\"1\" class=\"dataframe\">\n",
       "  <thead>\n",
       "    <tr style=\"text-align: right;\">\n",
       "      <th></th>\n",
       "      <th>0</th>\n",
       "      <th>1</th>\n",
       "    </tr>\n",
       "  </thead>\n",
       "  <tbody>\n",
       "    <tr>\n",
       "      <th>0</th>\n",
       "      <td>3960</td>\n",
       "      <td>90</td>\n",
       "    </tr>\n",
       "    <tr>\n",
       "      <th>1</th>\n",
       "      <td>91</td>\n",
       "      <td>956</td>\n",
       "    </tr>\n",
       "  </tbody>\n",
       "</table>\n",
       "</div>"
      ],
      "text/plain": [
       "      0    1\n",
       "0  3960   90\n",
       "1    91  956"
      ]
     },
     "metadata": {},
     "output_type": "display_data"
    },
    {
     "name": "stdout",
     "output_type": "stream",
     "text": [
      "precision 0.9139579349904398\n",
      "recall 0.9130850047755492\n",
      "epoch 9/10\n"
     ]
    },
    {
     "name": "stderr",
     "output_type": "stream",
     "text": [
      "  0%|          | 0/645 [00:00<?, ?it/s]/home/ec2-user/anaconda3/envs/pytorch_p39/lib/python3.9/site-packages/torch/nn/parallel/_functions.py:68: UserWarning: Was asked to gather along dimension 0, but all input tensors were scalars; will instead unsqueeze and return a vector.\n",
      "  warnings.warn('Was asked to gather along dimension 0, but all '\n",
      "100%|██████████| 645/645 [23:48<00:00,  2.22s/it]\n"
     ]
    },
    {
     "name": "stdout",
     "output_type": "stream",
     "text": [
      "Epoch: 9, train loss: 0.0059329842556360025\n",
      "Validate\n"
     ]
    },
    {
     "name": "stderr",
     "output_type": "stream",
     "text": [
      "100%|██████████| 80/80 [01:26<00:00,  1.08s/it]"
     ]
    },
    {
     "name": "stdout",
     "output_type": "stream",
     "text": [
      "5097\n",
      "5097\n"
     ]
    },
    {
     "name": "stderr",
     "output_type": "stream",
     "text": [
      "\n"
     ]
    },
    {
     "data": {
      "text/html": [
       "<div>\n",
       "<style scoped>\n",
       "    .dataframe tbody tr th:only-of-type {\n",
       "        vertical-align: middle;\n",
       "    }\n",
       "\n",
       "    .dataframe tbody tr th {\n",
       "        vertical-align: top;\n",
       "    }\n",
       "\n",
       "    .dataframe thead th {\n",
       "        text-align: right;\n",
       "    }\n",
       "</style>\n",
       "<table border=\"1\" class=\"dataframe\">\n",
       "  <thead>\n",
       "    <tr style=\"text-align: right;\">\n",
       "      <th></th>\n",
       "      <th>0</th>\n",
       "      <th>1</th>\n",
       "    </tr>\n",
       "  </thead>\n",
       "  <tbody>\n",
       "    <tr>\n",
       "      <th>0</th>\n",
       "      <td>3959</td>\n",
       "      <td>91</td>\n",
       "    </tr>\n",
       "    <tr>\n",
       "      <th>1</th>\n",
       "      <td>92</td>\n",
       "      <td>955</td>\n",
       "    </tr>\n",
       "  </tbody>\n",
       "</table>\n",
       "</div>"
      ],
      "text/plain": [
       "      0    1\n",
       "0  3959   91\n",
       "1    92  955"
      ]
     },
     "metadata": {},
     "output_type": "display_data"
    },
    {
     "name": "stdout",
     "output_type": "stream",
     "text": [
      "precision 0.9130019120458891\n",
      "recall 0.9121298949379179\n",
      "epoch 10/10\n"
     ]
    },
    {
     "name": "stderr",
     "output_type": "stream",
     "text": [
      "  0%|          | 0/645 [00:00<?, ?it/s]/home/ec2-user/anaconda3/envs/pytorch_p39/lib/python3.9/site-packages/torch/nn/parallel/_functions.py:68: UserWarning: Was asked to gather along dimension 0, but all input tensors were scalars; will instead unsqueeze and return a vector.\n",
      "  warnings.warn('Was asked to gather along dimension 0, but all '\n",
      "100%|██████████| 645/645 [24:11<00:00,  2.25s/it]\n"
     ]
    },
    {
     "name": "stdout",
     "output_type": "stream",
     "text": [
      "Epoch: 10, train loss: 0.0037495571389704555\n",
      "Validate\n"
     ]
    },
    {
     "name": "stderr",
     "output_type": "stream",
     "text": [
      "100%|██████████| 80/80 [01:25<00:00,  1.07s/it]"
     ]
    },
    {
     "name": "stdout",
     "output_type": "stream",
     "text": [
      "5097\n",
      "5097\n"
     ]
    },
    {
     "name": "stderr",
     "output_type": "stream",
     "text": [
      "\n"
     ]
    },
    {
     "data": {
      "text/html": [
       "<div>\n",
       "<style scoped>\n",
       "    .dataframe tbody tr th:only-of-type {\n",
       "        vertical-align: middle;\n",
       "    }\n",
       "\n",
       "    .dataframe tbody tr th {\n",
       "        vertical-align: top;\n",
       "    }\n",
       "\n",
       "    .dataframe thead th {\n",
       "        text-align: right;\n",
       "    }\n",
       "</style>\n",
       "<table border=\"1\" class=\"dataframe\">\n",
       "  <thead>\n",
       "    <tr style=\"text-align: right;\">\n",
       "      <th></th>\n",
       "      <th>0</th>\n",
       "      <th>1</th>\n",
       "    </tr>\n",
       "  </thead>\n",
       "  <tbody>\n",
       "    <tr>\n",
       "      <th>0</th>\n",
       "      <td>3959</td>\n",
       "      <td>91</td>\n",
       "    </tr>\n",
       "    <tr>\n",
       "      <th>1</th>\n",
       "      <td>95</td>\n",
       "      <td>952</td>\n",
       "    </tr>\n",
       "  </tbody>\n",
       "</table>\n",
       "</div>"
      ],
      "text/plain": [
       "      0    1\n",
       "0  3959   91\n",
       "1    95  952"
      ]
     },
     "metadata": {},
     "output_type": "display_data"
    },
    {
     "name": "stdout",
     "output_type": "stream",
     "text": [
      "precision 0.912751677852349\n",
      "recall 0.9092645654250239\n",
      "Training Finished\n"
     ]
    }
   ],
   "source": [
    "if __name__ == \"__main__\":\n",
    "    #config = get_config() \n",
    "\n",
    "    logging.basicConfig(\n",
    "        filename=os.path.join(config.output_path, \"log_ae\" + \".txt\"), \n",
    "        filemode='w',\n",
    "        level=logging.INFO, \n",
    "        format='[%(levelname)s]%(message)s', force=True)\n",
    "    logging.info(\"PARAMETERS:\")\n",
    "    for arg in vars(config):\n",
    "        logging.info(\"{0}: {1}\".format(arg, getattr(config, arg)))\n",
    "    logging.info(\"----------\")      \n",
    "    \n",
    "    bert =BertForSequenceClassification.from_pretrained(config.bert_model_path,num_labels=2).to(config.device)\n",
    "    bert = nn.DataParallel(bert)# , device_ids=[0,1,2,3]\n",
    "    # Prepare optimizer    full_fine_tuning\n",
    "    bert_optimizer = list(bert.module.named_parameters())\n",
    "    no_decay = ['bias', 'LayerNorm.bias', 'LayerNorm.weight']\n",
    "    optimizer_grouped_parameters = [\n",
    "        {'params': [p for n, p in bert_optimizer if not any(nd in n for nd in no_decay)],\n",
    "         'weight_decay': config.weight_decay},\n",
    "        {'params': [p for n, p in bert_optimizer if any(nd in n for nd in no_decay)],\n",
    "         'weight_decay': 0.0}\n",
    "        ]\n",
    "    optimizer = AdamW(optimizer_grouped_parameters, lr=config.learning_rate, correct_bias=False)      \n",
    "\n",
    "    # Dynamic learning rate adjustment\n",
    "    train_steps_per_epoch = len(train_dataset) // config.batch_size\n",
    "    scheduler = get_cosine_schedule_with_warmup(optimizer,\n",
    "                                        num_warmup_steps=(config.epoch_num // 10) * train_steps_per_epoch, \n",
    "                                        num_training_steps=config.epoch_num * train_steps_per_epoch)\n",
    "\n",
    "    logging.info(\"--------Start Training--------\")\n",
    "    train(bert,training_dataloader,validation_dataloader,optimizer,scheduler,config) "
   ]
  },
  {
   "cell_type": "markdown",
   "id": "a49ac156",
   "metadata": {},
   "source": [
    "# Evaluation"
   ]
  },
  {
   "cell_type": "code",
   "execution_count": 14,
   "id": "1e11be43",
   "metadata": {},
   "outputs": [],
   "source": [
    "os.environ['CUDA_VISIBLE_DEVICES']=\"0\""
   ]
  },
  {
   "cell_type": "code",
   "execution_count": 15,
   "id": "d7e0e52c",
   "metadata": {},
   "outputs": [],
   "source": [
    "df_holdout = pd.read_csv(f'{config.output_path}/df_holdout.csv')"
   ]
  },
  {
   "cell_type": "code",
   "execution_count": 18,
   "id": "e6d262a5",
   "metadata": {},
   "outputs": [],
   "source": [
    "class ClasificationBertAE:\n",
    "    def __init__(self, model_path, tokenizer_path, batch_size):\n",
    "        self.model_path = model_path\n",
    "        self.tokenizer_path = tokenizer_path\n",
    "        self.batch_size = batch_size\n",
    "        self.device = self.init_device()\n",
    "        self.tokenizer = self.init_tokenizer()\n",
    "        self.model = self.init_model()\n",
    "    \n",
    "    def init_device(self):\n",
    "        device = torch.device('cuda' if torch.cuda.is_available() else 'cpu')\n",
    "        return device\n",
    "\n",
    "    def init_tokenizer(self):\n",
    "        tokenizer = BertJapaneseTokenizer.from_pretrained(self.tokenizer_path)\n",
    "        return tokenizer\n",
    "    \n",
    "    def init_model(self):\n",
    "        model = torch.load(self.model_path).to(self.device)\n",
    "        return model\n",
    "    \n",
    "    def inference(self, texts, words):\n",
    "        # トークン化\n",
    "        row_word_tokens = [(self.tokenizer.tokenize(text), self.tokenizer.tokenize(word)) for text, word in zip(texts, words)]\n",
    "        preds = []\n",
    "        for i in tqdm(range(0, len(row_word_tokens), self.batch_size)):\n",
    "            with torch.no_grad():\n",
    "                inputs = self.tokenizer.batch_encode_plus(\n",
    "                    row_word_tokens[i:i+self.batch_size], \n",
    "                    return_tensors='pt', \n",
    "                    truncation='only_first', \n",
    "                    is_split_into_words=False,\n",
    "                    padding='max_length', \n",
    "                    max_length=128\n",
    "                ).to(self.device)\n",
    "                outputs = self.model(**inputs)\n",
    "                m = torch.nn.Softmax(dim=1)\n",
    "                o_args = m(outputs.logits)\n",
    "                o_args_array = o_args.to('cpu').detach().numpy().copy()\n",
    "                preds += o_args_array[:,1].tolist()\n",
    "                torch.cuda.empty_cache()\n",
    "        return preds"
   ]
  },
  {
   "cell_type": "code",
   "execution_count": 20,
   "id": "1f9a5f22",
   "metadata": {},
   "outputs": [],
   "source": [
    "tokenizer_path='cl-tohoku/bert-large-japanese'\n",
    "model_path=\"./output/classificationBertAE-GPUParallel/model_ae.pth\"\n",
    "bert = ClasificationBertAE(model_path=model_path, tokenizer_path=tokenizer_path, batch_size=32)"
   ]
  },
  {
   "cell_type": "code",
   "execution_count": 21,
   "id": "b4955f67",
   "metadata": {},
   "outputs": [
    {
     "name": "stderr",
     "output_type": "stream",
     "text": [
      "100%|██████████| 160/160 [01:39<00:00,  1.60it/s]\n"
     ]
    }
   ],
   "source": [
    "df_holdout['pred'] = bert.inference(df_holdout['row'].to_list(), df_holdout['word'].to_list())"
   ]
  },
  {
   "cell_type": "code",
   "execution_count": 26,
   "id": "aa24b653",
   "metadata": {},
   "outputs": [],
   "source": [
    "df_holdout['label']=df_holdout['label'].apply(lambda x: 1 if x==0 else 0)"
   ]
  },
  {
   "cell_type": "markdown",
   "id": "d29b0413",
   "metadata": {},
   "source": [
    "**Histgram**"
   ]
  },
  {
   "cell_type": "code",
   "execution_count": 27,
   "id": "773abda2",
   "metadata": {},
   "outputs": [
    {
     "data": {
      "text/html": [
       "<div>\n",
       "<style scoped>\n",
       "    .dataframe tbody tr th:only-of-type {\n",
       "        vertical-align: middle;\n",
       "    }\n",
       "\n",
       "    .dataframe tbody tr th {\n",
       "        vertical-align: top;\n",
       "    }\n",
       "\n",
       "    .dataframe thead th {\n",
       "        text-align: right;\n",
       "    }\n",
       "</style>\n",
       "<table border=\"1\" class=\"dataframe\">\n",
       "  <thead>\n",
       "    <tr style=\"text-align: right;\">\n",
       "      <th></th>\n",
       "      <th>row</th>\n",
       "      <th>word</th>\n",
       "      <th>label</th>\n",
       "      <th>pred</th>\n",
       "      <th>pred_label</th>\n",
       "    </tr>\n",
       "  </thead>\n",
       "  <tbody>\n",
       "    <tr>\n",
       "      <th>0</th>\n",
       "      <td>G2白血球減少、G2好中球減少は回復。</td>\n",
       "      <td>白血球減少</td>\n",
       "      <td>1</td>\n",
       "      <td>0.999965</td>\n",
       "      <td>1</td>\n",
       "    </tr>\n",
       "    <tr>\n",
       "      <th>1</th>\n",
       "      <td>38.5°Cの発熱で予約外にて受診。GRADE3の薬剤性ILD(間質性肺疾患)発現し、入院。</td>\n",
       "      <td>GRADE3の薬剤性ILD(間質性肺疾患)発現し</td>\n",
       "      <td>0</td>\n",
       "      <td>0.000004</td>\n",
       "      <td>0</td>\n",
       "    </tr>\n",
       "    <tr>\n",
       "      <th>2</th>\n",
       "      <td>腫瘍増悪の転帰は不明。</td>\n",
       "      <td>腫瘍</td>\n",
       "      <td>0</td>\n",
       "      <td>0.000056</td>\n",
       "      <td>0</td>\n",
       "    </tr>\n",
       "    <tr>\n",
       "      <th>3</th>\n",
       "      <td>再診時に下血の症状あり、赤沈上昇あり、UC(潰瘍性大腸炎)悪化と診断、入院。</td>\n",
       "      <td>大腸炎</td>\n",
       "      <td>0</td>\n",
       "      <td>0.000128</td>\n",
       "      <td>0</td>\n",
       "    </tr>\n",
       "    <tr>\n",
       "      <th>4</th>\n",
       "      <td>貧血のため、リムパーザ錠200MG×2回/日に減量再開。</td>\n",
       "      <td>リムパーザ</td>\n",
       "      <td>0</td>\n",
       "      <td>0.000005</td>\n",
       "      <td>0</td>\n",
       "    </tr>\n",
       "    <tr>\n",
       "      <th>...</th>\n",
       "      <td>...</td>\n",
       "      <td>...</td>\n",
       "      <td>...</td>\n",
       "      <td>...</td>\n",
       "      <td>...</td>\n",
       "    </tr>\n",
       "    <tr>\n",
       "      <th>5092</th>\n",
       "      <td>難治性続発性気胸、脳転移、遅発性肺障害(重篤でない)の転帰は不明。</td>\n",
       "      <td>続発性気胸</td>\n",
       "      <td>0</td>\n",
       "      <td>0.000175</td>\n",
       "      <td>0</td>\n",
       "    </tr>\n",
       "    <tr>\n",
       "      <th>5093</th>\n",
       "      <td>HB:7.3、G3貧血発現。リムパーザ休薬。</td>\n",
       "      <td>HB:7</td>\n",
       "      <td>0</td>\n",
       "      <td>0.000005</td>\n",
       "      <td>0</td>\n",
       "    </tr>\n",
       "    <tr>\n",
       "      <th>5094</th>\n",
       "      <td>リムパーザ錠内服約15ヶ月(再開後3ヶ月)、HB:5.9にてGRADE3の貧血発現、輸血を実施。</td>\n",
       "      <td>輸血を実施</td>\n",
       "      <td>0</td>\n",
       "      <td>0.000005</td>\n",
       "      <td>0</td>\n",
       "    </tr>\n",
       "    <tr>\n",
       "      <th>5095</th>\n",
       "      <td>味覚異常(重篤でない)を理由にリムパーザ錠投与中止した。</td>\n",
       "      <td>リムパーザ</td>\n",
       "      <td>0</td>\n",
       "      <td>0.000005</td>\n",
       "      <td>0</td>\n",
       "    </tr>\n",
       "    <tr>\n",
       "      <th>5096</th>\n",
       "      <td>EGFR:19DEL陽性であり、アファチニブ30MG/日の内服を開始した。治療4週間後のCT...</td>\n",
       "      <td>陰影は改善したため</td>\n",
       "      <td>0</td>\n",
       "      <td>0.000005</td>\n",
       "      <td>0</td>\n",
       "    </tr>\n",
       "  </tbody>\n",
       "</table>\n",
       "<p>5097 rows × 5 columns</p>\n",
       "</div>"
      ],
      "text/plain": [
       "                                                    row  \\\n",
       "0                                   G2白血球減少、G2好中球減少は回復。   \n",
       "1        38.5°Cの発熱で予約外にて受診。GRADE3の薬剤性ILD(間質性肺疾患)発現し、入院。   \n",
       "2                                           腫瘍増悪の転帰は不明。   \n",
       "3                再診時に下血の症状あり、赤沈上昇あり、UC(潰瘍性大腸炎)悪化と診断、入院。   \n",
       "4                          貧血のため、リムパーザ錠200MG×2回/日に減量再開。   \n",
       "...                                                 ...   \n",
       "5092                  難治性続発性気胸、脳転移、遅発性肺障害(重篤でない)の転帰は不明。   \n",
       "5093                             HB:7.3、G3貧血発現。リムパーザ休薬。   \n",
       "5094   リムパーザ錠内服約15ヶ月(再開後3ヶ月)、HB:5.9にてGRADE3の貧血発現、輸血を実施。   \n",
       "5095                       味覚異常(重篤でない)を理由にリムパーザ錠投与中止した。   \n",
       "5096  EGFR:19DEL陽性であり、アファチニブ30MG/日の内服を開始した。治療4週間後のCT...   \n",
       "\n",
       "                          word  label      pred  pred_label  \n",
       "0                        白血球減少      1  0.999965           1  \n",
       "1     GRADE3の薬剤性ILD(間質性肺疾患)発現し      0  0.000004           0  \n",
       "2                           腫瘍      0  0.000056           0  \n",
       "3                          大腸炎      0  0.000128           0  \n",
       "4                        リムパーザ      0  0.000005           0  \n",
       "...                        ...    ...       ...         ...  \n",
       "5092                     続発性気胸      0  0.000175           0  \n",
       "5093                      HB:7      0  0.000005           0  \n",
       "5094                     輸血を実施      0  0.000005           0  \n",
       "5095                     リムパーザ      0  0.000005           0  \n",
       "5096                 陰影は改善したため      0  0.000005           0  \n",
       "\n",
       "[5097 rows x 5 columns]"
      ]
     },
     "execution_count": 27,
     "metadata": {},
     "output_type": "execute_result"
    }
   ],
   "source": [
    "df_holdout"
   ]
  },
  {
   "cell_type": "code",
   "execution_count": 28,
   "id": "a7b21b85",
   "metadata": {},
   "outputs": [
    {
     "data": {
      "image/png": "[encoded data removed]",
      "text/plain": [
       "<Figure size 640x480 with 1 Axes>"
      ]
     },
     "metadata": {},
     "output_type": "display_data"
    }
   ],
   "source": [
    "sns.distplot(df_holdout[df_holdout['label']==1]['pred'], bins=20,label=\"ae_true=1\").set(title='Tohoku-classificationBERT_AE')\n",
    "sns.distplot(df_holdout[df_holdout['label']==0]['pred'], bins=20,label=\"ae_true=0\")\n",
    "plt.legend()\n",
    "plt.show()"
   ]
  },
  {
   "cell_type": "markdown",
   "id": "ed6b5682",
   "metadata": {},
   "source": [
    "**ROC-AUC**"
   ]
  },
  {
   "cell_type": "code",
   "execution_count": 29,
   "id": "512330fd",
   "metadata": {},
   "outputs": [
    {
     "name": "stdout",
     "output_type": "stream",
     "text": [
      "auc: 0.9887172049477048\n"
     ]
    }
   ],
   "source": [
    "# AUC\n",
    "auc = roc_auc_score(df_holdout['label'], df_holdout['pred'])\n",
    "print('auc:',auc)\n",
    "# # ROC曲線の値の生成：fpr、tpr、閾値\n",
    "fpr, tpr, thresholds = roc_curve(df_holdout['label'], df_holdout['pred'])"
   ]
  },
  {
   "cell_type": "code",
   "execution_count": 30,
   "id": "c628767e",
   "metadata": {},
   "outputs": [
    {
     "data": {
      "image/png": "[encoded data removed]",
      "text/plain": [
       "<Figure size 640x480 with 1 Axes>"
      ]
     },
     "metadata": {},
     "output_type": "display_data"
    }
   ],
   "source": [
    "# ROC曲線のプロット\n",
    "plt.plot([0, 1], [0, 1], 'k--')\n",
    "plt.plot(fpr, tpr)\n",
    "plt.xlabel('False Positive Rate')\n",
    "plt.ylabel('True Positive Rate')\n",
    "plt.title(f'AUC: {round(auc,2)}')\n",
    "plt.show()"
   ]
  },
  {
   "cell_type": "code",
   "execution_count": 31,
   "id": "dc9ef6bd",
   "metadata": {},
   "outputs": [
    {
     "name": "stdout",
     "output_type": "stream",
     "text": [
      "tn:3959, fp:91, fn:95, tp:952\n"
     ]
    },
    {
     "data": {
      "text/html": [
       "<div>\n",
       "<style scoped>\n",
       "    .dataframe tbody tr th:only-of-type {\n",
       "        vertical-align: middle;\n",
       "    }\n",
       "\n",
       "    .dataframe tbody tr th {\n",
       "        vertical-align: top;\n",
       "    }\n",
       "\n",
       "    .dataframe thead th {\n",
       "        text-align: right;\n",
       "    }\n",
       "</style>\n",
       "<table border=\"1\" class=\"dataframe\">\n",
       "  <thead>\n",
       "    <tr style=\"text-align: right;\">\n",
       "      <th></th>\n",
       "      <th>0</th>\n",
       "      <th>1</th>\n",
       "    </tr>\n",
       "  </thead>\n",
       "  <tbody>\n",
       "    <tr>\n",
       "      <th>0</th>\n",
       "      <td>3959</td>\n",
       "      <td>91</td>\n",
       "    </tr>\n",
       "    <tr>\n",
       "      <th>1</th>\n",
       "      <td>95</td>\n",
       "      <td>952</td>\n",
       "    </tr>\n",
       "  </tbody>\n",
       "</table>\n",
       "</div>"
      ],
      "text/plain": [
       "      0    1\n",
       "0  3959   91\n",
       "1    95  952"
      ]
     },
     "execution_count": 31,
     "metadata": {},
     "output_type": "execute_result"
    }
   ],
   "source": [
    "df_holdout['pred_label'] = df_holdout['pred'].apply(lambda x: 1 if x > 0.5 else 0)\n",
    "tn, fp, fn, tp = confusion_matrix(df_holdout['label'], df_holdout['pred_label']).ravel()\n",
    "print(f'tn:{tn}, fp:{fp}, fn:{fn}, tp:{tp}')\n",
    "pd.DataFrame(confusion_matrix(df_holdout['label'], df_holdout['pred_label']))"
   ]
  },
  {
   "cell_type": "code",
   "execution_count": 34,
   "id": "8de713e8",
   "metadata": {},
   "outputs": [
    {
     "name": "stdout",
     "output_type": "stream",
     "text": [
      "              precision    recall  f1-score   support\n",
      "\n",
      "           0       0.98      0.98      0.98      4050\n",
      "           1       0.91      0.91      0.91      1047\n",
      "\n",
      "    accuracy                           0.96      5097\n",
      "   macro avg       0.94      0.94      0.94      5097\n",
      "weighted avg       0.96      0.96      0.96      5097\n",
      "\n"
     ]
    }
   ],
   "source": [
    "print(classification_report(df_holdout['label'], df_holdout['pred_label'], target_names=['0', '1']))"
   ]
  },
  {
   "cell_type": "code",
   "execution_count": 35,
   "id": "81436d4a",
   "metadata": {},
   "outputs": [
    {
     "data": {
      "text/html": [
       "<div>\n",
       "<style scoped>\n",
       "    .dataframe tbody tr th:only-of-type {\n",
       "        vertical-align: middle;\n",
       "    }\n",
       "\n",
       "    .dataframe tbody tr th {\n",
       "        vertical-align: top;\n",
       "    }\n",
       "\n",
       "    .dataframe thead th {\n",
       "        text-align: right;\n",
       "    }\n",
       "</style>\n",
       "<table border=\"1\" class=\"dataframe\">\n",
       "  <thead>\n",
       "    <tr style=\"text-align: right;\">\n",
       "      <th></th>\n",
       "      <th>row</th>\n",
       "      <th>word</th>\n",
       "      <th>label</th>\n",
       "      <th>pred</th>\n",
       "      <th>pred_label</th>\n",
       "    </tr>\n",
       "  </thead>\n",
       "  <tbody>\n",
       "    <tr>\n",
       "      <th>0</th>\n",
       "      <td>G2白血球減少、G2好中球減少は回復。</td>\n",
       "      <td>白血球減少</td>\n",
       "      <td>1</td>\n",
       "      <td>0.999965</td>\n",
       "      <td>1</td>\n",
       "    </tr>\n",
       "    <tr>\n",
       "      <th>1</th>\n",
       "      <td>38.5°Cの発熱で予約外にて受診。GRADE3の薬剤性ILD(間質性肺疾患)発現し、入院。</td>\n",
       "      <td>GRADE3の薬剤性ILD(間質性肺疾患)発現し</td>\n",
       "      <td>0</td>\n",
       "      <td>0.000004</td>\n",
       "      <td>0</td>\n",
       "    </tr>\n",
       "    <tr>\n",
       "      <th>2</th>\n",
       "      <td>腫瘍増悪の転帰は不明。</td>\n",
       "      <td>腫瘍</td>\n",
       "      <td>0</td>\n",
       "      <td>0.000056</td>\n",
       "      <td>0</td>\n",
       "    </tr>\n",
       "    <tr>\n",
       "      <th>3</th>\n",
       "      <td>再診時に下血の症状あり、赤沈上昇あり、UC(潰瘍性大腸炎)悪化と診断、入院。</td>\n",
       "      <td>大腸炎</td>\n",
       "      <td>0</td>\n",
       "      <td>0.000128</td>\n",
       "      <td>0</td>\n",
       "    </tr>\n",
       "    <tr>\n",
       "      <th>4</th>\n",
       "      <td>貧血のため、リムパーザ錠200MG×2回/日に減量再開。</td>\n",
       "      <td>リムパーザ</td>\n",
       "      <td>0</td>\n",
       "      <td>0.000005</td>\n",
       "      <td>0</td>\n",
       "    </tr>\n",
       "  </tbody>\n",
       "</table>\n",
       "</div>"
      ],
      "text/plain": [
       "                                              row                      word  \\\n",
       "0                             G2白血球減少、G2好中球減少は回復。                     白血球減少   \n",
       "1  38.5°Cの発熱で予約外にて受診。GRADE3の薬剤性ILD(間質性肺疾患)発現し、入院。  GRADE3の薬剤性ILD(間質性肺疾患)発現し   \n",
       "2                                     腫瘍増悪の転帰は不明。                        腫瘍   \n",
       "3          再診時に下血の症状あり、赤沈上昇あり、UC(潰瘍性大腸炎)悪化と診断、入院。                       大腸炎   \n",
       "4                    貧血のため、リムパーザ錠200MG×2回/日に減量再開。                     リムパーザ   \n",
       "\n",
       "   label      pred  pred_label  \n",
       "0      1  0.999965           1  \n",
       "1      0  0.000004           0  \n",
       "2      0  0.000056           0  \n",
       "3      0  0.000128           0  \n",
       "4      0  0.000005           0  "
      ]
     },
     "execution_count": 35,
     "metadata": {},
     "output_type": "execute_result"
    }
   ],
   "source": [
    "df_holdout.head()"
   ]
  },
  {
   "cell_type": "markdown",
   "id": "68ca4f6c",
   "metadata": {},
   "source": [
    "**output**"
   ]
  },
  {
   "cell_type": "code",
   "execution_count": 36,
   "id": "e96a7bff",
   "metadata": {},
   "outputs": [],
   "source": [
    "df_holdout.to_csv(f'{config.output_path}/validation_result.csv', index=False)"
   ]
  },
  {
   "cell_type": "code",
   "execution_count": null,
   "id": "be678129",
   "metadata": {},
   "outputs": [],
   "source": []
  }
 ],
 "metadata": {
  "kernelspec": {
   "display_name": "Python 3 (ipykernel)",
   "language": "python",
   "name": "python3"
  },
  "language_info": {
   "codemirror_mode": {
    "name": "ipython",
    "version": 3
   },
   "file_extension": ".py",
   "mimetype": "text/x-python",
   "name": "python",
   "nbconvert_exporter": "python",
   "pygments_lexer": "ipython3",
   "version": "3.9.13"
  },
  "toc": {
   "base_numbering": 1,
   "nav_menu": {},
   "number_sections": true,
   "sideBar": true,
   "skip_h1_title": false,
   "title_cell": "Table of Contents",
   "title_sidebar": "Contents",
   "toc_cell": false,
   "toc_position": {},
   "toc_section_display": true,
   "toc_window_display": false
  }
 },
 "nbformat": 4,
 "nbformat_minor": 5
}
